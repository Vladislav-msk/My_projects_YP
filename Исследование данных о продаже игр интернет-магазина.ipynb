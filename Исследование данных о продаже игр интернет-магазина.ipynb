{
 "cells": [
  {
   "cell_type": "markdown",
   "metadata": {},
   "source": [
    "# Исследование данных о продаже игр"
   ]
  },
  {
   "cell_type": "markdown",
   "metadata": {},
   "source": [
    "## Цель и задачи проекта\n",
    "\n",
    "*Цель проекта:*\n",
    "- Выявить определяющие успешность игры закономерности для определения потенциально популярного продукта и ппланирования рекламной кампании интернет-магазина «Стримчик» на 2017 г.\n",
    "\n",
    "*Для достижения цели проекта следует выполнить следующие задачи:*\n",
    "1. Провести первичный анализ входных данных;\n",
    "2. Провести предобработку данных и оценить ее качество:\n",
    "  - Установить единый регистр в наименовании столбцов;\n",
    "  - Преобразовать типы данных;\n",
    "  - Обработать пропуски и исправить ошибки в данных;\n",
    "  - Рассчитать суммарные продажи во всех регионах.\n",
    "3. Провести исследовательский анализ данных:\n",
    "  - Проанализировать выпуск игр по годам;\n",
    "  - Проанализировать влияние платформ игр на объем продаж;\n",
    "  - Исследовать влияние на объем продаж отзывов пользователей и критиков;\n",
    "  - Определить зависимость между жанром игр и объемом продаж.\n",
    "4. Составить портрет пользователя каждого региона:\n",
    "  - Определить для пользователя каждого региона самые популярные платформы и жанры;\n",
    "  - Определить влияет ли рейтинг ESRB на продажи игр в отдельном регионе.\n",
    "5. Проверить гипотезы:\n",
    "  - Средние пользовательские рейтинги платформ Xbox One и PC одинаковые;\n",
    "  - Средние пользовательские рейтинги жанров Action и Sports разные.\n",
    "6. Сформировать выводы по результатом проведенного исследования."
   ]
  },
  {
   "cell_type": "markdown",
   "metadata": {},
   "source": [
    "## Описание входных данных\n",
    "\n",
    "**Источник данных:** \n",
    "- Из открытых источников получены исторические данные (до 2016 г.) о продажах игр, оценки пользователей и экспертов, жанры и платформы.\n",
    "\n",
    "**Наименования столбцов, описание их содержания и единицы измерения:**\n",
    "- Name — название игры\n",
    "- Platform — платформа\n",
    "- Year_of_Release — год выпуска\n",
    "- Genre — жанр игры\n",
    "- NA_sales — продажи в Северной Америке (миллионы проданных копий)\n",
    "- EU_sales — продажи в Европе (миллионы проданных копий)\n",
    "- JP_sales — продажи в Японии (миллионы проданных копий)\n",
    "- Other_sales — продажи в других странах (миллионы проданных копий)\n",
    "- Critic_Score — оценка критиков (максимум 100)\n",
    "- User_Score — оценка пользователей (максимум 10)\n",
    "- Rating — рейтинг от организации ESRB (определяет рейтинг компьютерных игр и присваивает им подходящую возрастную категорию).\n",
    "<br>Данные за 2016 год могут быть неполными."
   ]
  },
  {
   "cell_type": "markdown",
   "metadata": {},
   "source": [
    "## Оглавление:\n",
    "\n",
    "1. [Открытие данных и изучение общей информации](#start)\n",
    "2. [Предобработка данных](#preprocessing)  <a id=\"preprocessing\"></a>\n",
    "    * [Корректировка регистра в наименовании столбцов](#register) \n",
    "    * [Преобразование типа данных](#type) \n",
    "    * [Обработка пропущенных значений](#null)\n",
    "    * [Рассчет суммарных продаж во всех регионах](#revenue)\n",
    "3. [Исследовательский анализ данных](#analysis)  \n",
    "    * [Анализ выпуска игр по годам](#year) \n",
    "    * [Определение влияния игровых платформ на объем продаж](#platform) \n",
    "    * [Исследование влияния на объем продаж отзывов пользователей и критиков](#critic)\n",
    "    * [Определение зависимости между жанром игр и объемом продаж](#gener)\n",
    "4. [Определение портрета пользователя каждого региона](#user)\n",
    "6. [Проверка гипотез о пользовательских рейтингах](#hypothesis)\n",
    "5. [Общий вывод](#result) "
   ]
  },
  {
   "cell_type": "markdown",
   "metadata": {},
   "source": [
    "## 1. Открытие данных и изучение общей информации <a id=\"start\"></a>"
   ]
  },
  {
   "cell_type": "code",
   "execution_count": 1,
   "metadata": {},
   "outputs": [],
   "source": [
    "# Импорт библиотек\n",
    "import pandas as pd\n",
    "import numpy as np\n",
    "import matplotlib.pyplot as plt \n",
    "import seaborn as sns\n",
    "from scipy.stats import norm\n",
    "from scipy import stats as st\n",
    "from IPython.display import display\n",
    "pd.options.display.max_columns = None"
   ]
  },
  {
   "cell_type": "code",
   "execution_count": 2,
   "metadata": {},
   "outputs": [],
   "source": [
    "# Откроем предоставленные данные\n",
    "df = pd.read_csv('/datasets/games.csv')"
   ]
  },
  {
   "cell_type": "code",
   "execution_count": 3,
   "metadata": {},
   "outputs": [
    {
     "name": "stdout",
     "output_type": "stream",
     "text": [
      "<class 'pandas.core.frame.DataFrame'>\n",
      "RangeIndex: 16715 entries, 0 to 16714\n",
      "Data columns (total 11 columns):\n",
      "Name               16713 non-null object\n",
      "Platform           16715 non-null object\n",
      "Year_of_Release    16446 non-null float64\n",
      "Genre              16713 non-null object\n",
      "NA_sales           16715 non-null float64\n",
      "EU_sales           16715 non-null float64\n",
      "JP_sales           16715 non-null float64\n",
      "Other_sales        16715 non-null float64\n",
      "Critic_Score       8137 non-null float64\n",
      "User_Score         10014 non-null object\n",
      "Rating             9949 non-null object\n",
      "dtypes: float64(6), object(5)\n",
      "memory usage: 1.4+ MB\n"
     ]
    },
    {
     "data": {
      "text/plain": [
       "None"
      ]
     },
     "metadata": {},
     "output_type": "display_data"
    },
    {
     "data": {
      "text/html": [
       "<div>\n",
       "<style scoped>\n",
       "    .dataframe tbody tr th:only-of-type {\n",
       "        vertical-align: middle;\n",
       "    }\n",
       "\n",
       "    .dataframe tbody tr th {\n",
       "        vertical-align: top;\n",
       "    }\n",
       "\n",
       "    .dataframe thead th {\n",
       "        text-align: right;\n",
       "    }\n",
       "</style>\n",
       "<table border=\"1\" class=\"dataframe\">\n",
       "  <thead>\n",
       "    <tr style=\"text-align: right;\">\n",
       "      <th></th>\n",
       "      <th>Name</th>\n",
       "      <th>Platform</th>\n",
       "      <th>Year_of_Release</th>\n",
       "      <th>Genre</th>\n",
       "      <th>NA_sales</th>\n",
       "      <th>EU_sales</th>\n",
       "      <th>JP_sales</th>\n",
       "      <th>Other_sales</th>\n",
       "      <th>Critic_Score</th>\n",
       "      <th>User_Score</th>\n",
       "      <th>Rating</th>\n",
       "    </tr>\n",
       "  </thead>\n",
       "  <tbody>\n",
       "    <tr>\n",
       "      <td>0</td>\n",
       "      <td>Wii Sports</td>\n",
       "      <td>Wii</td>\n",
       "      <td>2006.0</td>\n",
       "      <td>Sports</td>\n",
       "      <td>41.36</td>\n",
       "      <td>28.96</td>\n",
       "      <td>3.77</td>\n",
       "      <td>8.45</td>\n",
       "      <td>76.0</td>\n",
       "      <td>8</td>\n",
       "      <td>E</td>\n",
       "    </tr>\n",
       "    <tr>\n",
       "      <td>1</td>\n",
       "      <td>Super Mario Bros.</td>\n",
       "      <td>NES</td>\n",
       "      <td>1985.0</td>\n",
       "      <td>Platform</td>\n",
       "      <td>29.08</td>\n",
       "      <td>3.58</td>\n",
       "      <td>6.81</td>\n",
       "      <td>0.77</td>\n",
       "      <td>NaN</td>\n",
       "      <td>NaN</td>\n",
       "      <td>NaN</td>\n",
       "    </tr>\n",
       "    <tr>\n",
       "      <td>2</td>\n",
       "      <td>Mario Kart Wii</td>\n",
       "      <td>Wii</td>\n",
       "      <td>2008.0</td>\n",
       "      <td>Racing</td>\n",
       "      <td>15.68</td>\n",
       "      <td>12.76</td>\n",
       "      <td>3.79</td>\n",
       "      <td>3.29</td>\n",
       "      <td>82.0</td>\n",
       "      <td>8.3</td>\n",
       "      <td>E</td>\n",
       "    </tr>\n",
       "    <tr>\n",
       "      <td>3</td>\n",
       "      <td>Wii Sports Resort</td>\n",
       "      <td>Wii</td>\n",
       "      <td>2009.0</td>\n",
       "      <td>Sports</td>\n",
       "      <td>15.61</td>\n",
       "      <td>10.93</td>\n",
       "      <td>3.28</td>\n",
       "      <td>2.95</td>\n",
       "      <td>80.0</td>\n",
       "      <td>8</td>\n",
       "      <td>E</td>\n",
       "    </tr>\n",
       "    <tr>\n",
       "      <td>4</td>\n",
       "      <td>Pokemon Red/Pokemon Blue</td>\n",
       "      <td>GB</td>\n",
       "      <td>1996.0</td>\n",
       "      <td>Role-Playing</td>\n",
       "      <td>11.27</td>\n",
       "      <td>8.89</td>\n",
       "      <td>10.22</td>\n",
       "      <td>1.00</td>\n",
       "      <td>NaN</td>\n",
       "      <td>NaN</td>\n",
       "      <td>NaN</td>\n",
       "    </tr>\n",
       "  </tbody>\n",
       "</table>\n",
       "</div>"
      ],
      "text/plain": [
       "                       Name Platform  Year_of_Release         Genre  NA_sales  \\\n",
       "0                Wii Sports      Wii           2006.0        Sports     41.36   \n",
       "1         Super Mario Bros.      NES           1985.0      Platform     29.08   \n",
       "2            Mario Kart Wii      Wii           2008.0        Racing     15.68   \n",
       "3         Wii Sports Resort      Wii           2009.0        Sports     15.61   \n",
       "4  Pokemon Red/Pokemon Blue       GB           1996.0  Role-Playing     11.27   \n",
       "\n",
       "   EU_sales  JP_sales  Other_sales  Critic_Score User_Score Rating  \n",
       "0     28.96      3.77         8.45          76.0          8      E  \n",
       "1      3.58      6.81         0.77           NaN        NaN    NaN  \n",
       "2     12.76      3.79         3.29          82.0        8.3      E  \n",
       "3     10.93      3.28         2.95          80.0          8      E  \n",
       "4      8.89     10.22         1.00           NaN        NaN    NaN  "
      ]
     },
     "metadata": {},
     "output_type": "display_data"
    }
   ],
   "source": [
    "# Получим общую информацию о предоставленных данных\n",
    "display(df.info())\n",
    "display(df.head())"
   ]
  },
  {
   "cell_type": "code",
   "execution_count": 4,
   "metadata": {},
   "outputs": [
    {
     "name": "stdout",
     "output_type": "stream",
     "text": [
      "Количество дубликатов: 0\n",
      "Количество дубликатов в названиях игр: 5155\n"
     ]
    }
   ],
   "source": [
    "# Проверим наличие дубликатов\n",
    "print('Количество дубликатов:', df.duplicated().sum())\n",
    "\n",
    "# Проверим наличие дубликатов в названиях игр\n",
    "print('Количество дубликатов в названиях игр:', df['Name'].duplicated().sum())"
   ]
  },
  {
   "cell_type": "code",
   "execution_count": 5,
   "metadata": {},
   "outputs": [
    {
     "name": "stdout",
     "output_type": "stream",
     "text": [
      "tbd    2424\n",
      "7.8     324\n",
      "8       290\n",
      "8.2     282\n",
      "8.3     254\n",
      "       ... \n",
      "9.6       2\n",
      "0.7       2\n",
      "0.9       2\n",
      "9.7       1\n",
      "0         1\n",
      "Name: User_Score, Length: 96, dtype: int64\n",
      "E       3990\n",
      "T       2961\n",
      "M       1563\n",
      "E10+    1420\n",
      "EC         8\n",
      "RP         3\n",
      "K-A        3\n",
      "AO         1\n",
      "Name: Rating, dtype: int64\n"
     ]
    }
   ],
   "source": [
    "# Проверим наличие некорректных значений User_Score и Rating\n",
    "print(df['User_Score'].value_counts())\n",
    "print(df['Rating'].value_counts())"
   ]
  },
  {
   "cell_type": "code",
   "execution_count": 6,
   "metadata": {},
   "outputs": [
    {
     "name": "stdout",
     "output_type": "stream",
     "text": [
      "6621\n",
      "6630\n"
     ]
    }
   ],
   "source": [
    "# Проверим по одним ли и тем же играм отсутствует информация о рейтинге и отзывах\n",
    "print(len(df.query('Critic_Score.isna() & User_Score.isna() & Rating.isna()')))\n",
    "\n",
    "print(len(df.query('User_Score.isna() & Rating.isna()')))"
   ]
  },
  {
   "cell_type": "markdown",
   "metadata": {},
   "source": [
    "### Вывод 1:\n",
    "- Входная таблица содержит 16715 строк.\n",
    "- Столбец Name содержит 2 пропуска, при этом 5155 названий игр являются дубликатами, т.к. игры указывается несколько раз в зависимости от платформы. Отработка пропусков: в дальнейшем мы будем анализировать игры за актуальный период, нетрудно заметить, что год выпуска 1993 и платформа Gen уже устарели, поэтому удалим строки с пропущенными значениями. Причина появления пропуска может быть ошибка при выгрузке.\n",
    "-  В столбцах Platform и Genre значения указаны корректно, однако столбец Genre содержит 2 пропуска, которые можно было бы заполнить используя внешние источники. Но т.к. наименование этих игр у нас тоже отсутствует, удалим их. Для исследования пользы от этих двух строк не будет.\n",
    "- Столбец Year of Release содержит 269 пропусков (1,6% от общего количества записей). Теоретически, также можно было бы заполнить используя внешние источники, однако это потребует значительных затрат времени, в то время как объем отсутствующих данных можно оценить как несущественный. Поэтому примем решение избавиться от пропусков, заполнив нулевыми значениями.\n",
    "- Тип данных Year of Release корректнее преобразовать в целочисленный - Int64.\n",
    "- В столбцах NA_sales, EU_sales, JP_sales, Other_sales пропуски отсутствуют, тип данных указан корректно.\n",
    "- Столбец Critic_Score содержит 8578 пропусков (51,3% от общего количества записей), причиной может являтся отсутствие информации об оценках критиков в открытых источниках, либо оценка не проводилась. Наиболее приемлемый вариант заполнить пропуски нулевыми значениями.\n",
    "- В столбце User_Score наиболее частым значением является tbd, т.е. будет определено (от англ. \"to be determined\"). Для нас данное значение аналогично Nan. Заменим эти значения нулевыми. Тип данных в столбце преобразуем на float64.\n",
    "- Столбец User_Score содержит 6699 пропусков - 40% от общего количества записей, а с учетом tbd - 54,6%. Пропуски в данных заполним нулевыми значениями.\n",
    "- Столбец Rating содержит 6766 пропусков - 40,5% от общего количества записей. Пропуски в данных обозначим буквой \"N\".\n",
    "- В столбце Rating 3 значения RP (рейтинг ожидается), что для нас неинформативно.\n",
    "- В 6630 строках одновременно пропущены данные по оценке критиков, оценке пользователей и рейтингу. Можно предположить, что данные об оценках этих игр отсутствовали в открытых источниках."
   ]
  },
  {
   "cell_type": "markdown",
   "metadata": {},
   "source": [
    "## 2. Предобработка данных <a id=\"preprocessing\"></a>"
   ]
  },
  {
   "cell_type": "markdown",
   "metadata": {},
   "source": [
    "### 2.1. Корректировка регистра в наименовании столбцов <a id=\"register\"></a>"
   ]
  },
  {
   "cell_type": "code",
   "execution_count": 7,
   "metadata": {},
   "outputs": [
    {
     "name": "stdout",
     "output_type": "stream",
     "text": [
      "Index(['name', 'platform', 'year_of_release', 'genre', 'na_sales', 'eu_sales',\n",
      "       'jp_sales', 'other_sales', 'critic_score', 'user_score', 'rating'],\n",
      "      dtype='object')\n"
     ]
    }
   ],
   "source": [
    "# Приведем наименования столбцов к нижнему регистру\n",
    "df.columns = df.columns.str.lower()\n",
    "print(df.columns) "
   ]
  },
  {
   "cell_type": "markdown",
   "metadata": {},
   "source": [
    "### 2.2. Обработка пропущенных значений <a id=\"null\"></a>"
   ]
  },
  {
   "cell_type": "code",
   "execution_count": 8,
   "metadata": {},
   "outputs": [
    {
     "data": {
      "text/html": [
       "<div>\n",
       "<style scoped>\n",
       "    .dataframe tbody tr th:only-of-type {\n",
       "        vertical-align: middle;\n",
       "    }\n",
       "\n",
       "    .dataframe tbody tr th {\n",
       "        vertical-align: top;\n",
       "    }\n",
       "\n",
       "    .dataframe thead th {\n",
       "        text-align: right;\n",
       "    }\n",
       "</style>\n",
       "<table border=\"1\" class=\"dataframe\">\n",
       "  <thead>\n",
       "    <tr style=\"text-align: right;\">\n",
       "      <th></th>\n",
       "      <th>name</th>\n",
       "      <th>platform</th>\n",
       "      <th>year_of_release</th>\n",
       "      <th>genre</th>\n",
       "      <th>na_sales</th>\n",
       "      <th>eu_sales</th>\n",
       "      <th>jp_sales</th>\n",
       "      <th>other_sales</th>\n",
       "      <th>critic_score</th>\n",
       "      <th>user_score</th>\n",
       "      <th>rating</th>\n",
       "    </tr>\n",
       "  </thead>\n",
       "  <tbody>\n",
       "    <tr>\n",
       "      <td>659</td>\n",
       "      <td>NaN</td>\n",
       "      <td>GEN</td>\n",
       "      <td>1993.0</td>\n",
       "      <td>NaN</td>\n",
       "      <td>1.78</td>\n",
       "      <td>0.53</td>\n",
       "      <td>0.00</td>\n",
       "      <td>0.08</td>\n",
       "      <td>NaN</td>\n",
       "      <td>NaN</td>\n",
       "      <td>NaN</td>\n",
       "    </tr>\n",
       "    <tr>\n",
       "      <td>14244</td>\n",
       "      <td>NaN</td>\n",
       "      <td>GEN</td>\n",
       "      <td>1993.0</td>\n",
       "      <td>NaN</td>\n",
       "      <td>0.00</td>\n",
       "      <td>0.00</td>\n",
       "      <td>0.03</td>\n",
       "      <td>0.00</td>\n",
       "      <td>NaN</td>\n",
       "      <td>NaN</td>\n",
       "      <td>NaN</td>\n",
       "    </tr>\n",
       "  </tbody>\n",
       "</table>\n",
       "</div>"
      ],
      "text/plain": [
       "      name platform  year_of_release genre  na_sales  eu_sales  jp_sales  \\\n",
       "659    NaN      GEN           1993.0   NaN      1.78      0.53      0.00   \n",
       "14244  NaN      GEN           1993.0   NaN      0.00      0.00      0.03   \n",
       "\n",
       "       other_sales  critic_score user_score rating  \n",
       "659           0.08           NaN        NaN    NaN  \n",
       "14244         0.00           NaN        NaN    NaN  "
      ]
     },
     "metadata": {},
     "output_type": "display_data"
    }
   ],
   "source": [
    "# Заполним пропуски в столбцах с наименованием игр и жанром \n",
    "# В дальнейшем мы будем анализировать игры за актуальный период, нетрудно заметить, что год выпуска 1993 \n",
    "# и платформа Gen уже устарела\n",
    "# Поэтому удалим эти строки, т.к. они неинформативны\n",
    "\n",
    "display(df[df['name'].isna()])\n",
    "df.dropna(subset=['name'], inplace = True)"
   ]
  },
  {
   "cell_type": "code",
   "execution_count": 9,
   "metadata": {},
   "outputs": [
    {
     "name": "stdout",
     "output_type": "stream",
     "text": [
      "<class 'pandas.core.frame.DataFrame'>\n",
      "Int64Index: 16713 entries, 0 to 16714\n",
      "Data columns (total 11 columns):\n",
      "name               16713 non-null object\n",
      "platform           16713 non-null object\n",
      "year_of_release    16713 non-null float64\n",
      "genre              16713 non-null object\n",
      "na_sales           16713 non-null float64\n",
      "eu_sales           16713 non-null float64\n",
      "jp_sales           16713 non-null float64\n",
      "other_sales        16713 non-null float64\n",
      "critic_score       16713 non-null float64\n",
      "user_score         16713 non-null object\n",
      "rating             16713 non-null object\n",
      "dtypes: float64(6), object(5)\n",
      "memory usage: 1.5+ MB\n",
      "None\n"
     ]
    }
   ],
   "source": [
    "# Заполним пропуски в столбце year_of_release, объем пропусков несущественный, заполним нулевыми значениями\n",
    "# Теоретически можно было бы искать год выпуска каждой игры, но объем затраченных человеко-часов не соответствует value \n",
    "df['year_of_release'] = df['year_of_release'].fillna(value=0)\n",
    "\n",
    "# Заполним пропуски в столбце critic_score, т.к. в столбце нет значений равных нулю, заполним пропуски нулевыми значениями, \n",
    "# т.е. установим маркер\n",
    "df['critic_score'] = df['critic_score'].fillna(value=0)\n",
    "\n",
    "# Заполним пропуски в столбце user_score нулевыми значениями, установим маркер\n",
    "df['user_score'] = df['user_score'].fillna(value=0)\n",
    "\n",
    "# Заменим tbd на нулевые значения, установим маркер\n",
    "df['user_score'] = df['user_score'].replace('tbd', 0)\n",
    "\n",
    "# Заполним пропуски в столбце rating на условное значение N, установим маркер\n",
    "df['rating'] = df['rating'].fillna(value='N')\n",
    "\n",
    "# Проверим отработку пропусков\n",
    "print(df.info())"
   ]
  },
  {
   "cell_type": "markdown",
   "metadata": {},
   "source": [
    "### 2.3. Преобразование типа данных <a id=\"type\"></a>"
   ]
  },
  {
   "cell_type": "code",
   "execution_count": 10,
   "metadata": {},
   "outputs": [
    {
     "name": "stdout",
     "output_type": "stream",
     "text": [
      "<class 'pandas.core.frame.DataFrame'>\n",
      "Int64Index: 16713 entries, 0 to 16714\n",
      "Data columns (total 11 columns):\n",
      "name               16713 non-null object\n",
      "platform           16713 non-null object\n",
      "year_of_release    16713 non-null Int64\n",
      "genre              16713 non-null object\n",
      "na_sales           16713 non-null float64\n",
      "eu_sales           16713 non-null float64\n",
      "jp_sales           16713 non-null float64\n",
      "other_sales        16713 non-null float64\n",
      "critic_score       16713 non-null float64\n",
      "user_score         16713 non-null float64\n",
      "rating             16713 non-null object\n",
      "dtypes: Int64(1), float64(6), object(4)\n",
      "memory usage: 1.5+ MB\n"
     ]
    },
    {
     "data": {
      "text/plain": [
       "None"
      ]
     },
     "metadata": {},
     "output_type": "display_data"
    },
    {
     "data": {
      "text/html": [
       "<div>\n",
       "<style scoped>\n",
       "    .dataframe tbody tr th:only-of-type {\n",
       "        vertical-align: middle;\n",
       "    }\n",
       "\n",
       "    .dataframe tbody tr th {\n",
       "        vertical-align: top;\n",
       "    }\n",
       "\n",
       "    .dataframe thead th {\n",
       "        text-align: right;\n",
       "    }\n",
       "</style>\n",
       "<table border=\"1\" class=\"dataframe\">\n",
       "  <thead>\n",
       "    <tr style=\"text-align: right;\">\n",
       "      <th></th>\n",
       "      <th>name</th>\n",
       "      <th>platform</th>\n",
       "      <th>year_of_release</th>\n",
       "      <th>genre</th>\n",
       "      <th>na_sales</th>\n",
       "      <th>eu_sales</th>\n",
       "      <th>jp_sales</th>\n",
       "      <th>other_sales</th>\n",
       "      <th>critic_score</th>\n",
       "      <th>user_score</th>\n",
       "      <th>rating</th>\n",
       "    </tr>\n",
       "  </thead>\n",
       "  <tbody>\n",
       "    <tr>\n",
       "      <td>0</td>\n",
       "      <td>Wii Sports</td>\n",
       "      <td>Wii</td>\n",
       "      <td>2006</td>\n",
       "      <td>Sports</td>\n",
       "      <td>41.36</td>\n",
       "      <td>28.96</td>\n",
       "      <td>3.77</td>\n",
       "      <td>8.45</td>\n",
       "      <td>76.0</td>\n",
       "      <td>8.0</td>\n",
       "      <td>E</td>\n",
       "    </tr>\n",
       "    <tr>\n",
       "      <td>1</td>\n",
       "      <td>Super Mario Bros.</td>\n",
       "      <td>NES</td>\n",
       "      <td>1985</td>\n",
       "      <td>Platform</td>\n",
       "      <td>29.08</td>\n",
       "      <td>3.58</td>\n",
       "      <td>6.81</td>\n",
       "      <td>0.77</td>\n",
       "      <td>0.0</td>\n",
       "      <td>0.0</td>\n",
       "      <td>N</td>\n",
       "    </tr>\n",
       "    <tr>\n",
       "      <td>2</td>\n",
       "      <td>Mario Kart Wii</td>\n",
       "      <td>Wii</td>\n",
       "      <td>2008</td>\n",
       "      <td>Racing</td>\n",
       "      <td>15.68</td>\n",
       "      <td>12.76</td>\n",
       "      <td>3.79</td>\n",
       "      <td>3.29</td>\n",
       "      <td>82.0</td>\n",
       "      <td>8.3</td>\n",
       "      <td>E</td>\n",
       "    </tr>\n",
       "    <tr>\n",
       "      <td>3</td>\n",
       "      <td>Wii Sports Resort</td>\n",
       "      <td>Wii</td>\n",
       "      <td>2009</td>\n",
       "      <td>Sports</td>\n",
       "      <td>15.61</td>\n",
       "      <td>10.93</td>\n",
       "      <td>3.28</td>\n",
       "      <td>2.95</td>\n",
       "      <td>80.0</td>\n",
       "      <td>8.0</td>\n",
       "      <td>E</td>\n",
       "    </tr>\n",
       "    <tr>\n",
       "      <td>4</td>\n",
       "      <td>Pokemon Red/Pokemon Blue</td>\n",
       "      <td>GB</td>\n",
       "      <td>1996</td>\n",
       "      <td>Role-Playing</td>\n",
       "      <td>11.27</td>\n",
       "      <td>8.89</td>\n",
       "      <td>10.22</td>\n",
       "      <td>1.00</td>\n",
       "      <td>0.0</td>\n",
       "      <td>0.0</td>\n",
       "      <td>N</td>\n",
       "    </tr>\n",
       "  </tbody>\n",
       "</table>\n",
       "</div>"
      ],
      "text/plain": [
       "                       name platform  year_of_release         genre  na_sales  \\\n",
       "0                Wii Sports      Wii             2006        Sports     41.36   \n",
       "1         Super Mario Bros.      NES             1985      Platform     29.08   \n",
       "2            Mario Kart Wii      Wii             2008        Racing     15.68   \n",
       "3         Wii Sports Resort      Wii             2009        Sports     15.61   \n",
       "4  Pokemon Red/Pokemon Blue       GB             1996  Role-Playing     11.27   \n",
       "\n",
       "   eu_sales  jp_sales  other_sales  critic_score  user_score rating  \n",
       "0     28.96      3.77         8.45          76.0         8.0      E  \n",
       "1      3.58      6.81         0.77           0.0         0.0      N  \n",
       "2     12.76      3.79         3.29          82.0         8.3      E  \n",
       "3     10.93      3.28         2.95          80.0         8.0      E  \n",
       "4      8.89     10.22         1.00           0.0         0.0      N  "
      ]
     },
     "metadata": {},
     "output_type": "display_data"
    }
   ],
   "source": [
    "# Преобразуем тип данных \n",
    "df['year_of_release'] = df['year_of_release'].astype('Int64')\n",
    "\n",
    "df['user_score'] = df['user_score'].astype('float64')\n",
    "display(df.info())\n",
    "display(df.head())"
   ]
  },
  {
   "cell_type": "markdown",
   "metadata": {},
   "source": [
    "### 2.4. Рассчет суммарных продаж во всех регионах <a id=\"revenue\"></a>"
   ]
  },
  {
   "cell_type": "code",
   "execution_count": 11,
   "metadata": {},
   "outputs": [
    {
     "data": {
      "text/html": [
       "<div>\n",
       "<style scoped>\n",
       "    .dataframe tbody tr th:only-of-type {\n",
       "        vertical-align: middle;\n",
       "    }\n",
       "\n",
       "    .dataframe tbody tr th {\n",
       "        vertical-align: top;\n",
       "    }\n",
       "\n",
       "    .dataframe thead th {\n",
       "        text-align: right;\n",
       "    }\n",
       "</style>\n",
       "<table border=\"1\" class=\"dataframe\">\n",
       "  <thead>\n",
       "    <tr style=\"text-align: right;\">\n",
       "      <th></th>\n",
       "      <th>name</th>\n",
       "      <th>platform</th>\n",
       "      <th>year_of_release</th>\n",
       "      <th>genre</th>\n",
       "      <th>na_sales</th>\n",
       "      <th>eu_sales</th>\n",
       "      <th>jp_sales</th>\n",
       "      <th>other_sales</th>\n",
       "      <th>critic_score</th>\n",
       "      <th>user_score</th>\n",
       "      <th>rating</th>\n",
       "      <th>total_sales</th>\n",
       "    </tr>\n",
       "  </thead>\n",
       "  <tbody>\n",
       "    <tr>\n",
       "      <td>0</td>\n",
       "      <td>Wii Sports</td>\n",
       "      <td>Wii</td>\n",
       "      <td>2006</td>\n",
       "      <td>Sports</td>\n",
       "      <td>41.36</td>\n",
       "      <td>28.96</td>\n",
       "      <td>3.77</td>\n",
       "      <td>8.45</td>\n",
       "      <td>76.0</td>\n",
       "      <td>8.0</td>\n",
       "      <td>E</td>\n",
       "      <td>77.86</td>\n",
       "    </tr>\n",
       "    <tr>\n",
       "      <td>1</td>\n",
       "      <td>Super Mario Bros.</td>\n",
       "      <td>NES</td>\n",
       "      <td>1985</td>\n",
       "      <td>Platform</td>\n",
       "      <td>29.08</td>\n",
       "      <td>3.58</td>\n",
       "      <td>6.81</td>\n",
       "      <td>0.77</td>\n",
       "      <td>0.0</td>\n",
       "      <td>0.0</td>\n",
       "      <td>N</td>\n",
       "      <td>46.28</td>\n",
       "    </tr>\n",
       "    <tr>\n",
       "      <td>2</td>\n",
       "      <td>Mario Kart Wii</td>\n",
       "      <td>Wii</td>\n",
       "      <td>2008</td>\n",
       "      <td>Racing</td>\n",
       "      <td>15.68</td>\n",
       "      <td>12.76</td>\n",
       "      <td>3.79</td>\n",
       "      <td>3.29</td>\n",
       "      <td>82.0</td>\n",
       "      <td>8.3</td>\n",
       "      <td>E</td>\n",
       "      <td>36.02</td>\n",
       "    </tr>\n",
       "    <tr>\n",
       "      <td>3</td>\n",
       "      <td>Wii Sports Resort</td>\n",
       "      <td>Wii</td>\n",
       "      <td>2009</td>\n",
       "      <td>Sports</td>\n",
       "      <td>15.61</td>\n",
       "      <td>10.93</td>\n",
       "      <td>3.28</td>\n",
       "      <td>2.95</td>\n",
       "      <td>80.0</td>\n",
       "      <td>8.0</td>\n",
       "      <td>E</td>\n",
       "      <td>33.10</td>\n",
       "    </tr>\n",
       "    <tr>\n",
       "      <td>4</td>\n",
       "      <td>Pokemon Red/Pokemon Blue</td>\n",
       "      <td>GB</td>\n",
       "      <td>1996</td>\n",
       "      <td>Role-Playing</td>\n",
       "      <td>11.27</td>\n",
       "      <td>8.89</td>\n",
       "      <td>10.22</td>\n",
       "      <td>1.00</td>\n",
       "      <td>0.0</td>\n",
       "      <td>0.0</td>\n",
       "      <td>N</td>\n",
       "      <td>40.60</td>\n",
       "    </tr>\n",
       "  </tbody>\n",
       "</table>\n",
       "</div>"
      ],
      "text/plain": [
       "                       name platform  year_of_release         genre  na_sales  \\\n",
       "0                Wii Sports      Wii             2006        Sports     41.36   \n",
       "1         Super Mario Bros.      NES             1985      Platform     29.08   \n",
       "2            Mario Kart Wii      Wii             2008        Racing     15.68   \n",
       "3         Wii Sports Resort      Wii             2009        Sports     15.61   \n",
       "4  Pokemon Red/Pokemon Blue       GB             1996  Role-Playing     11.27   \n",
       "\n",
       "   eu_sales  jp_sales  other_sales  critic_score  user_score rating  \\\n",
       "0     28.96      3.77         8.45          76.0         8.0      E   \n",
       "1      3.58      6.81         0.77           0.0         0.0      N   \n",
       "2     12.76      3.79         3.29          82.0         8.3      E   \n",
       "3     10.93      3.28         2.95          80.0         8.0      E   \n",
       "4      8.89     10.22         1.00           0.0         0.0      N   \n",
       "\n",
       "   total_sales  \n",
       "0        77.86  \n",
       "1        46.28  \n",
       "2        36.02  \n",
       "3        33.10  \n",
       "4        40.60  "
      ]
     },
     "metadata": {},
     "output_type": "display_data"
    }
   ],
   "source": [
    "# Суммируем данные по каждому региону\n",
    "df['total_sales'] = df['na_sales'] + df['eu_sales'] + df['jp_sales'] + df['jp_sales']\n",
    "display(df.head())"
   ]
  },
  {
   "cell_type": "markdown",
   "metadata": {},
   "source": [
    "### Вывод:\n",
    "- В результате предобработки данных нам удалось привести к единому регистру наименования столбцов.\n",
    "- Были удалены неинформативные строки.\n",
    "- Пропущенные значения были обозначены \"0\", что позволит формировать срезы без попадания в них строк с пропусками.\n",
    "- Тип данных в столбце, в котором указан год выпуска игры, был изменен на целочисленный, в столбце с оценкой пользователя - на float64.\n",
    "- Добавлен столбец, в котором расчитаны суммарные продажи по всем регионам."
   ]
  },
  {
   "cell_type": "markdown",
   "metadata": {},
   "source": [
    "## 3. Исследовательский анализ данных  <a id=\"analysis\"></a>"
   ]
  },
  {
   "cell_type": "markdown",
   "metadata": {},
   "source": [
    "### 3.1. Анализ выпуска игр по годам <a id=\"year\"></a>"
   ]
  },
  {
   "cell_type": "code",
   "execution_count": 12,
   "metadata": {},
   "outputs": [
    {
     "data": {
      "text/html": [
       "<div>\n",
       "<style scoped>\n",
       "    .dataframe tbody tr th:only-of-type {\n",
       "        vertical-align: middle;\n",
       "    }\n",
       "\n",
       "    .dataframe tbody tr th {\n",
       "        vertical-align: top;\n",
       "    }\n",
       "\n",
       "    .dataframe thead th {\n",
       "        text-align: right;\n",
       "    }\n",
       "</style>\n",
       "<table border=\"1\" class=\"dataframe\">\n",
       "  <thead>\n",
       "    <tr style=\"text-align: right;\">\n",
       "      <th></th>\n",
       "      <th>year_of_release</th>\n",
       "      <th>number_of_games</th>\n",
       "    </tr>\n",
       "  </thead>\n",
       "  <tbody>\n",
       "    <tr>\n",
       "      <td>36</td>\n",
       "      <td>2016</td>\n",
       "      <td>502</td>\n",
       "    </tr>\n",
       "    <tr>\n",
       "      <td>35</td>\n",
       "      <td>2015</td>\n",
       "      <td>606</td>\n",
       "    </tr>\n",
       "    <tr>\n",
       "      <td>34</td>\n",
       "      <td>2014</td>\n",
       "      <td>581</td>\n",
       "    </tr>\n",
       "    <tr>\n",
       "      <td>33</td>\n",
       "      <td>2013</td>\n",
       "      <td>544</td>\n",
       "    </tr>\n",
       "    <tr>\n",
       "      <td>32</td>\n",
       "      <td>2012</td>\n",
       "      <td>653</td>\n",
       "    </tr>\n",
       "    <tr>\n",
       "      <td>31</td>\n",
       "      <td>2011</td>\n",
       "      <td>1136</td>\n",
       "    </tr>\n",
       "    <tr>\n",
       "      <td>30</td>\n",
       "      <td>2010</td>\n",
       "      <td>1255</td>\n",
       "    </tr>\n",
       "    <tr>\n",
       "      <td>29</td>\n",
       "      <td>2009</td>\n",
       "      <td>1426</td>\n",
       "    </tr>\n",
       "    <tr>\n",
       "      <td>28</td>\n",
       "      <td>2008</td>\n",
       "      <td>1427</td>\n",
       "    </tr>\n",
       "    <tr>\n",
       "      <td>27</td>\n",
       "      <td>2007</td>\n",
       "      <td>1197</td>\n",
       "    </tr>\n",
       "  </tbody>\n",
       "</table>\n",
       "</div>"
      ],
      "text/plain": [
       "    year_of_release  number_of_games\n",
       "36             2016              502\n",
       "35             2015              606\n",
       "34             2014              581\n",
       "33             2013              544\n",
       "32             2012              653\n",
       "31             2011             1136\n",
       "30             2010             1255\n",
       "29             2009             1426\n",
       "28             2008             1427\n",
       "27             2007             1197"
      ]
     },
     "metadata": {},
     "output_type": "display_data"
    }
   ],
   "source": [
    "# Проанализируем количество выпускаемых игр по годам\n",
    "## Сгруппируем данные по годам, рассчитав количество выпущенных игр\n",
    "games_per_year = (df\n",
    "                  .query('year_of_release != 0')\n",
    "                  .pivot_table(index='year_of_release', values='name', aggfunc='count')\n",
    "                  .reset_index(drop=False)\n",
    "                  .sort_values(by='year_of_release', ascending=False)\n",
    "                 )\n",
    "# Скорректируем наименования столбцов\n",
    "games_per_year.columns = ['year_of_release', 'number_of_games']\n",
    "\n",
    "display(games_per_year.head(10))"
   ]
  },
  {
   "cell_type": "code",
   "execution_count": 13,
   "metadata": {},
   "outputs": [
    {
     "data": {
      "image/png": "[encoded data removed]",
      "text/plain": [
       "<Figure size 720x432 with 1 Axes>"
      ]
     },
     "metadata": {
      "needs_background": "light"
     },
     "output_type": "display_data"
    },
    {
     "data": {
      "image/png": "[encoded data removed]",
      "text/plain": [
       "<Figure size 720x432 with 1 Axes>"
      ]
     },
     "metadata": {
      "needs_background": "light"
     },
     "output_type": "display_data"
    }
   ],
   "source": [
    "## На основании полученной сводной таблицы построим столбчатую диаграмму количества выпускаемых игр\n",
    "games_per_year.plot(x='year_of_release', \n",
    "                    y='number_of_games', \n",
    "                    kind='bar', \n",
    "                    grid=True, \n",
    "                    figsize=(10, 6), \n",
    "                    alpha=0.8, \n",
    "                    legend=False, \n",
    "                    title='Диграмма количества выпускаемых игр по годам')\n",
    "plt.xlabel('Year of release')\n",
    "plt.ylabel('Number of games')\n",
    "plt.show()\n",
    "\n",
    "## На основании полученной сводной таблицы построим диаграмму размаха количества выпускаемых игр\n",
    "games_per_year.boxplot(column='number_of_games', figsize=(10, 6))\n",
    "plt.title('Диаграмма размаха выпускаемых количества игр')\n",
    "plt.show()"
   ]
  },
  {
   "cell_type": "code",
   "execution_count": 14,
   "metadata": {},
   "outputs": [
    {
     "data": {
      "text/html": [
       "<div>\n",
       "<style scoped>\n",
       "    .dataframe tbody tr th:only-of-type {\n",
       "        vertical-align: middle;\n",
       "    }\n",
       "\n",
       "    .dataframe tbody tr th {\n",
       "        vertical-align: top;\n",
       "    }\n",
       "\n",
       "    .dataframe thead th {\n",
       "        text-align: right;\n",
       "    }\n",
       "</style>\n",
       "<table border=\"1\" class=\"dataframe\">\n",
       "  <thead>\n",
       "    <tr style=\"text-align: right;\">\n",
       "      <th></th>\n",
       "      <th>year_of_release</th>\n",
       "      <th>number_of_games</th>\n",
       "    </tr>\n",
       "  </thead>\n",
       "  <tbody>\n",
       "    <tr>\n",
       "      <td>36</td>\n",
       "      <td>2016</td>\n",
       "      <td>279</td>\n",
       "    </tr>\n",
       "    <tr>\n",
       "      <td>35</td>\n",
       "      <td>2015</td>\n",
       "      <td>331</td>\n",
       "    </tr>\n",
       "    <tr>\n",
       "      <td>34</td>\n",
       "      <td>2014</td>\n",
       "      <td>279</td>\n",
       "    </tr>\n",
       "    <tr>\n",
       "      <td>33</td>\n",
       "      <td>2013</td>\n",
       "      <td>293</td>\n",
       "    </tr>\n",
       "    <tr>\n",
       "      <td>32</td>\n",
       "      <td>2012</td>\n",
       "      <td>405</td>\n",
       "    </tr>\n",
       "    <tr>\n",
       "      <td>31</td>\n",
       "      <td>2011</td>\n",
       "      <td>747</td>\n",
       "    </tr>\n",
       "    <tr>\n",
       "      <td>30</td>\n",
       "      <td>2010</td>\n",
       "      <td>859</td>\n",
       "    </tr>\n",
       "    <tr>\n",
       "      <td>29</td>\n",
       "      <td>2009</td>\n",
       "      <td>956</td>\n",
       "    </tr>\n",
       "    <tr>\n",
       "      <td>28</td>\n",
       "      <td>2008</td>\n",
       "      <td>986</td>\n",
       "    </tr>\n",
       "    <tr>\n",
       "      <td>27</td>\n",
       "      <td>2007</td>\n",
       "      <td>837</td>\n",
       "    </tr>\n",
       "  </tbody>\n",
       "</table>\n",
       "</div>"
      ],
      "text/plain": [
       "    year_of_release  number_of_games\n",
       "36             2016              279\n",
       "35             2015              331\n",
       "34             2014              279\n",
       "33             2013              293\n",
       "32             2012              405\n",
       "31             2011              747\n",
       "30             2010              859\n",
       "29             2009              956\n",
       "28             2008              986\n",
       "27             2007              837"
      ]
     },
     "metadata": {},
     "output_type": "display_data"
    }
   ],
   "source": [
    "# Проанализируем количество выпускаемых игр по годам без учета дубликатов в названиях игр (выпуск на нескольких платформах)\n",
    "df_cleaned_duplicates = df.drop_duplicates(subset='name').reset_index(drop=True)\n",
    "\n",
    "## Сгруппируем очищенные данные по годам и подсчитаем количество уникальных игр\n",
    "games_per_year_cleaned = (df_cleaned_duplicates\n",
    "                          .query('year_of_release != 0')\n",
    "                          .pivot_table(index='year_of_release', values='name', aggfunc='count')\n",
    "                          .reset_index(drop=False)\n",
    "                          .sort_values(by='year_of_release', ascending=False)\n",
    "                         )\n",
    "## Скорректируем наименования столбцов\n",
    "games_per_year_cleaned.columns = ['year_of_release', 'number_of_games']\n",
    "\n",
    "display(games_per_year_cleaned.head(10))"
   ]
  },
  {
   "cell_type": "code",
   "execution_count": 15,
   "metadata": {},
   "outputs": [
    {
     "data": {
      "image/png": "[encoded data removed]",
      "text/plain": [
       "<Figure size 720x432 with 1 Axes>"
      ]
     },
     "metadata": {
      "needs_background": "light"
     },
     "output_type": "display_data"
    }
   ],
   "source": [
    "## Отразим полученные данные на столбчатой диаграмме \n",
    "games_per_year_cleaned.plot(x='year_of_release', \n",
    "                            y='number_of_games', \n",
    "                            kind='bar', \n",
    "                            grid=True, \n",
    "                            figsize=(10, 6), \n",
    "                            alpha=0.8, \n",
    "                            legend=False, \n",
    "                            title='Диаграмма количества выпускаемых игр по годам')\n",
    "plt.xlabel('Year of release')\n",
    "plt.ylabel('Number of games')\n",
    "plt.show()"
   ]
  },
  {
   "cell_type": "markdown",
   "metadata": {},
   "source": [
    "### Вывод:\n",
    "- Проанализировав графики как по общему объему выпуска игр, так и без учета количества платформ, можно заключить, что до 1995 года объем выпуска незначителен и период с 1980 до 1995 гг. мы иможем отбросить.\n",
    "- Также отметим стремительную эскалацию объема выпуска игр с 1994 г. до 2008 г. Затем с 2009 г. наблюдается снижение объема выпуска игр. Основной причиной может являться кризис 2008-го г., который вынудил многих издателей сократить расходы и, как следствие, закрыть ряд перспективных проектов. Кроме этого, люди стали меньше тратить деньги на развлечения, в т.ч. игры. Также появилась конкуренция - выпуск игр на телефонах и снижение популярности игр на представленных платформах, стоит учитывать, что в 2008 г. наблюдается резкое возрастание на рынке продажи мобильных телефонов и смартфонов.\n",
    "- При этом объем продажи игр, близкий 2016 г. наблдается только с 2012 г., поэтому период до 2012 г. можно считать нерелевантным для анализа и построения стратегии торговой сети на 2017 г."
   ]
  },
  {
   "cell_type": "markdown",
   "metadata": {},
   "source": [
    "### 3.2. Определение влияния игровых платформ на объем продаж <a id=\"platform\"></a>"
   ]
  },
  {
   "cell_type": "code",
   "execution_count": 16,
   "metadata": {},
   "outputs": [
    {
     "data": {
      "text/html": [
       "<div>\n",
       "<style scoped>\n",
       "    .dataframe tbody tr th:only-of-type {\n",
       "        vertical-align: middle;\n",
       "    }\n",
       "\n",
       "    .dataframe tbody tr th {\n",
       "        vertical-align: top;\n",
       "    }\n",
       "\n",
       "    .dataframe thead th {\n",
       "        text-align: right;\n",
       "    }\n",
       "</style>\n",
       "<table border=\"1\" class=\"dataframe\">\n",
       "  <thead>\n",
       "    <tr style=\"text-align: right;\">\n",
       "      <th></th>\n",
       "      <th>platform</th>\n",
       "      <th>total_sales</th>\n",
       "    </tr>\n",
       "  </thead>\n",
       "  <tbody>\n",
       "    <tr>\n",
       "      <td>16</td>\n",
       "      <td>PS2</td>\n",
       "      <td>1180.63</td>\n",
       "    </tr>\n",
       "    <tr>\n",
       "      <td>4</td>\n",
       "      <td>DS</td>\n",
       "      <td>918.76</td>\n",
       "    </tr>\n",
       "    <tr>\n",
       "      <td>28</td>\n",
       "      <td>X360</td>\n",
       "      <td>888.66</td>\n",
       "    </tr>\n",
       "    <tr>\n",
       "      <td>26</td>\n",
       "      <td>Wii</td>\n",
       "      <td>881.75</td>\n",
       "    </tr>\n",
       "    <tr>\n",
       "      <td>17</td>\n",
       "      <td>PS3</td>\n",
       "      <td>876.16</td>\n",
       "    </tr>\n",
       "  </tbody>\n",
       "</table>\n",
       "</div>"
      ],
      "text/plain": [
       "   platform  total_sales\n",
       "16      PS2      1180.63\n",
       "4        DS       918.76\n",
       "28     X360       888.66\n",
       "26      Wii       881.75\n",
       "17      PS3       876.16"
      ]
     },
     "metadata": {},
     "output_type": "display_data"
    }
   ],
   "source": [
    "# Определим платформы с наибольшими суммарными продажами \n",
    "## Сгруппируем данные о продажах по каждой платформе\n",
    "sales_per_platform = (df\n",
    "                      .query('year_of_release != 0')\n",
    "                      .pivot_table(index='platform', values='total_sales', aggfunc='sum')\n",
    "                      .reset_index(drop=False)\n",
    "                      .sort_values(by='total_sales', ascending=False)\n",
    "                     )\n",
    "## Скорректируем наименования столбцов\n",
    "sales_per_platform.columns = ['platform', 'total_sales']\n",
    "\n",
    "display(sales_per_platform.head(5))"
   ]
  },
  {
   "cell_type": "markdown",
   "metadata": {},
   "source": [
    "### Вывод:\n",
    "Исходя из полученной таблицы мы видим, что с седьмой платформы наблюдается резкий спад в объемах продаж в 2,3 раза. Поэтому платформами с наибольшими суммарными продажами являются первые 6:\n",
    "- PS2\n",
    "- DS\n",
    "- X360\n",
    "- Wii\n",
    "- PS3\n",
    "- PS\n",
    "\n",
    "Отметим, что в топ не попали популярные платформы PS4 и XOne, причиной является выход плтаформ в 2013 г. (в 2014 г. в Японии), т.е. в отличие от ряда других платформ данные по продажам игр на PS4 и XOne только за 2-3 года. В то время как, например, по PS3 данные за 10 лет. Для этого на следующих этапах ограничим временную шкалу, для получения более актуальных результатов."
   ]
  },
  {
   "cell_type": "code",
   "execution_count": 17,
   "metadata": {
    "scrolled": false
   },
   "outputs": [
    {
     "data": {
      "text/html": [
       "<div>\n",
       "<style scoped>\n",
       "    .dataframe tbody tr th:only-of-type {\n",
       "        vertical-align: middle;\n",
       "    }\n",
       "\n",
       "    .dataframe tbody tr th {\n",
       "        vertical-align: top;\n",
       "    }\n",
       "\n",
       "    .dataframe thead th {\n",
       "        text-align: right;\n",
       "    }\n",
       "</style>\n",
       "<table border=\"1\" class=\"dataframe\">\n",
       "  <thead>\n",
       "    <tr style=\"text-align: right;\">\n",
       "      <th>platform</th>\n",
       "      <th>year_of_release</th>\n",
       "      <th>DS</th>\n",
       "      <th>PS</th>\n",
       "      <th>PS2</th>\n",
       "      <th>PS3</th>\n",
       "      <th>Wii</th>\n",
       "      <th>X360</th>\n",
       "    </tr>\n",
       "  </thead>\n",
       "  <tbody>\n",
       "    <tr>\n",
       "      <td>0</td>\n",
       "      <td>1985</td>\n",
       "      <td>0.04</td>\n",
       "      <td>NaN</td>\n",
       "      <td>NaN</td>\n",
       "      <td>NaN</td>\n",
       "      <td>NaN</td>\n",
       "      <td>NaN</td>\n",
       "    </tr>\n",
       "    <tr>\n",
       "      <td>1</td>\n",
       "      <td>1994</td>\n",
       "      <td>NaN</td>\n",
       "      <td>8.30</td>\n",
       "      <td>NaN</td>\n",
       "      <td>NaN</td>\n",
       "      <td>NaN</td>\n",
       "      <td>NaN</td>\n",
       "    </tr>\n",
       "    <tr>\n",
       "      <td>2</td>\n",
       "      <td>1995</td>\n",
       "      <td>NaN</td>\n",
       "      <td>43.54</td>\n",
       "      <td>NaN</td>\n",
       "      <td>NaN</td>\n",
       "      <td>NaN</td>\n",
       "      <td>NaN</td>\n",
       "    </tr>\n",
       "    <tr>\n",
       "      <td>3</td>\n",
       "      <td>1996</td>\n",
       "      <td>NaN</td>\n",
       "      <td>106.98</td>\n",
       "      <td>NaN</td>\n",
       "      <td>NaN</td>\n",
       "      <td>NaN</td>\n",
       "      <td>NaN</td>\n",
       "    </tr>\n",
       "    <tr>\n",
       "      <td>4</td>\n",
       "      <td>1997</td>\n",
       "      <td>NaN</td>\n",
       "      <td>161.40</td>\n",
       "      <td>NaN</td>\n",
       "      <td>NaN</td>\n",
       "      <td>NaN</td>\n",
       "      <td>NaN</td>\n",
       "    </tr>\n",
       "    <tr>\n",
       "      <td>5</td>\n",
       "      <td>1998</td>\n",
       "      <td>NaN</td>\n",
       "      <td>188.92</td>\n",
       "      <td>NaN</td>\n",
       "      <td>NaN</td>\n",
       "      <td>NaN</td>\n",
       "      <td>NaN</td>\n",
       "    </tr>\n",
       "    <tr>\n",
       "      <td>6</td>\n",
       "      <td>1999</td>\n",
       "      <td>NaN</td>\n",
       "      <td>164.68</td>\n",
       "      <td>NaN</td>\n",
       "      <td>NaN</td>\n",
       "      <td>NaN</td>\n",
       "      <td>NaN</td>\n",
       "    </tr>\n",
       "    <tr>\n",
       "      <td>7</td>\n",
       "      <td>2000</td>\n",
       "      <td>NaN</td>\n",
       "      <td>105.69</td>\n",
       "      <td>44.46</td>\n",
       "      <td>NaN</td>\n",
       "      <td>NaN</td>\n",
       "      <td>NaN</td>\n",
       "    </tr>\n",
       "    <tr>\n",
       "      <td>8</td>\n",
       "      <td>2001</td>\n",
       "      <td>NaN</td>\n",
       "      <td>37.28</td>\n",
       "      <td>167.44</td>\n",
       "      <td>NaN</td>\n",
       "      <td>NaN</td>\n",
       "      <td>NaN</td>\n",
       "    </tr>\n",
       "    <tr>\n",
       "      <td>9</td>\n",
       "      <td>2002</td>\n",
       "      <td>NaN</td>\n",
       "      <td>7.95</td>\n",
       "      <td>205.51</td>\n",
       "      <td>NaN</td>\n",
       "      <td>NaN</td>\n",
       "      <td>NaN</td>\n",
       "    </tr>\n",
       "    <tr>\n",
       "      <td>10</td>\n",
       "      <td>2003</td>\n",
       "      <td>NaN</td>\n",
       "      <td>1.93</td>\n",
       "      <td>182.50</td>\n",
       "      <td>NaN</td>\n",
       "      <td>NaN</td>\n",
       "      <td>NaN</td>\n",
       "    </tr>\n",
       "    <tr>\n",
       "      <td>11</td>\n",
       "      <td>2004</td>\n",
       "      <td>19.56</td>\n",
       "      <td>NaN</td>\n",
       "      <td>191.13</td>\n",
       "      <td>NaN</td>\n",
       "      <td>NaN</td>\n",
       "      <td>NaN</td>\n",
       "    </tr>\n",
       "    <tr>\n",
       "      <td>12</td>\n",
       "      <td>2005</td>\n",
       "      <td>149.20</td>\n",
       "      <td>NaN</td>\n",
       "      <td>156.56</td>\n",
       "      <td>NaN</td>\n",
       "      <td>NaN</td>\n",
       "      <td>7.89</td>\n",
       "    </tr>\n",
       "    <tr>\n",
       "      <td>13</td>\n",
       "      <td>2006</td>\n",
       "      <td>150.20</td>\n",
       "      <td>NaN</td>\n",
       "      <td>106.82</td>\n",
       "      <td>18.38</td>\n",
       "      <td>132.78</td>\n",
       "      <td>48.40</td>\n",
       "    </tr>\n",
       "    <tr>\n",
       "      <td>14</td>\n",
       "      <td>2007</td>\n",
       "      <td>162.66</td>\n",
       "      <td>NaN</td>\n",
       "      <td>62.12</td>\n",
       "      <td>66.70</td>\n",
       "      <td>151.34</td>\n",
       "      <td>88.20</td>\n",
       "    </tr>\n",
       "    <tr>\n",
       "      <td>15</td>\n",
       "      <td>2008</td>\n",
       "      <td>158.38</td>\n",
       "      <td>NaN</td>\n",
       "      <td>40.32</td>\n",
       "      <td>107.60</td>\n",
       "      <td>169.02</td>\n",
       "      <td>124.45</td>\n",
       "    </tr>\n",
       "    <tr>\n",
       "      <td>16</td>\n",
       "      <td>2009</td>\n",
       "      <td>135.20</td>\n",
       "      <td>NaN</td>\n",
       "      <td>18.18</td>\n",
       "      <td>122.11</td>\n",
       "      <td>206.00</td>\n",
       "      <td>111.21</td>\n",
       "    </tr>\n",
       "    <tr>\n",
       "      <td>17</td>\n",
       "      <td>2010</td>\n",
       "      <td>99.34</td>\n",
       "      <td>NaN</td>\n",
       "      <td>5.15</td>\n",
       "      <td>131.23</td>\n",
       "      <td>126.51</td>\n",
       "      <td>157.91</td>\n",
       "    </tr>\n",
       "    <tr>\n",
       "      <td>18</td>\n",
       "      <td>2011</td>\n",
       "      <td>28.62</td>\n",
       "      <td>NaN</td>\n",
       "      <td>0.44</td>\n",
       "      <td>149.32</td>\n",
       "      <td>59.95</td>\n",
       "      <td>132.89</td>\n",
       "    </tr>\n",
       "    <tr>\n",
       "      <td>19</td>\n",
       "      <td>2012</td>\n",
       "      <td>14.14</td>\n",
       "      <td>NaN</td>\n",
       "      <td>NaN</td>\n",
       "      <td>102.81</td>\n",
       "      <td>23.56</td>\n",
       "      <td>92.51</td>\n",
       "    </tr>\n",
       "    <tr>\n",
       "      <td>20</td>\n",
       "      <td>2013</td>\n",
       "      <td>1.42</td>\n",
       "      <td>NaN</td>\n",
       "      <td>NaN</td>\n",
       "      <td>107.98</td>\n",
       "      <td>7.92</td>\n",
       "      <td>81.25</td>\n",
       "    </tr>\n",
       "    <tr>\n",
       "      <td>21</td>\n",
       "      <td>2014</td>\n",
       "      <td>NaN</td>\n",
       "      <td>NaN</td>\n",
       "      <td>NaN</td>\n",
       "      <td>47.13</td>\n",
       "      <td>3.45</td>\n",
       "      <td>31.69</td>\n",
       "    </tr>\n",
       "    <tr>\n",
       "      <td>22</td>\n",
       "      <td>2015</td>\n",
       "      <td>NaN</td>\n",
       "      <td>NaN</td>\n",
       "      <td>NaN</td>\n",
       "      <td>18.37</td>\n",
       "      <td>1.05</td>\n",
       "      <td>10.86</td>\n",
       "    </tr>\n",
       "    <tr>\n",
       "      <td>23</td>\n",
       "      <td>2016</td>\n",
       "      <td>NaN</td>\n",
       "      <td>NaN</td>\n",
       "      <td>NaN</td>\n",
       "      <td>4.53</td>\n",
       "      <td>0.17</td>\n",
       "      <td>1.40</td>\n",
       "    </tr>\n",
       "  </tbody>\n",
       "</table>\n",
       "</div>"
      ],
      "text/plain": [
       "platform  year_of_release      DS      PS     PS2     PS3     Wii    X360\n",
       "0                    1985    0.04     NaN     NaN     NaN     NaN     NaN\n",
       "1                    1994     NaN    8.30     NaN     NaN     NaN     NaN\n",
       "2                    1995     NaN   43.54     NaN     NaN     NaN     NaN\n",
       "3                    1996     NaN  106.98     NaN     NaN     NaN     NaN\n",
       "4                    1997     NaN  161.40     NaN     NaN     NaN     NaN\n",
       "5                    1998     NaN  188.92     NaN     NaN     NaN     NaN\n",
       "6                    1999     NaN  164.68     NaN     NaN     NaN     NaN\n",
       "7                    2000     NaN  105.69   44.46     NaN     NaN     NaN\n",
       "8                    2001     NaN   37.28  167.44     NaN     NaN     NaN\n",
       "9                    2002     NaN    7.95  205.51     NaN     NaN     NaN\n",
       "10                   2003     NaN    1.93  182.50     NaN     NaN     NaN\n",
       "11                   2004   19.56     NaN  191.13     NaN     NaN     NaN\n",
       "12                   2005  149.20     NaN  156.56     NaN     NaN    7.89\n",
       "13                   2006  150.20     NaN  106.82   18.38  132.78   48.40\n",
       "14                   2007  162.66     NaN   62.12   66.70  151.34   88.20\n",
       "15                   2008  158.38     NaN   40.32  107.60  169.02  124.45\n",
       "16                   2009  135.20     NaN   18.18  122.11  206.00  111.21\n",
       "17                   2010   99.34     NaN    5.15  131.23  126.51  157.91\n",
       "18                   2011   28.62     NaN    0.44  149.32   59.95  132.89\n",
       "19                   2012   14.14     NaN     NaN  102.81   23.56   92.51\n",
       "20                   2013    1.42     NaN     NaN  107.98    7.92   81.25\n",
       "21                   2014     NaN     NaN     NaN   47.13    3.45   31.69\n",
       "22                   2015     NaN     NaN     NaN   18.37    1.05   10.86\n",
       "23                   2016     NaN     NaN     NaN    4.53    0.17    1.40"
      ]
     },
     "metadata": {},
     "output_type": "display_data"
    },
    {
     "data": {
      "text/plain": [
       "Text(0, 0.5, 'Total sales')"
      ]
     },
     "execution_count": 17,
     "metadata": {},
     "output_type": "execute_result"
    },
    {
     "data": {
      "image/png": "[encoded data removed]",
      "text/plain": [
       "<Figure size 1080x720 with 1 Axes>"
      ]
     },
     "metadata": {
      "needs_background": "light"
     },
     "output_type": "display_data"
    }
   ],
   "source": [
    "# По платформам с наибольшими суммарными продажами построим распределение по годам \n",
    "df_platform = (df\n",
    "               .query('platform==[\"PS2\", \"DS\", \"X360\", \"Wii\", \"PS3\", \"PS\"] & year_of_release != 0')\n",
    "               .pivot_table(index='year_of_release', columns='platform', values='total_sales', aggfunc='sum')\n",
    "               .reset_index(drop=False)\n",
    "              )\n",
    "\n",
    "display(df_platform)\n",
    "\n",
    "# Отразим полученные результаты на диаграмме \n",
    "df_platform.plot(x='year_of_release', \n",
    "                 kind='bar', figsize=(15, 10), \n",
    "                 alpha=0.8, \n",
    "                 title='Диаграмма распределения объема продаж на популярных платформах по годам')\n",
    "plt.xlabel('Year of release')\n",
    "plt.ylabel('Total sales')"
   ]
  },
  {
   "cell_type": "markdown",
   "metadata": {},
   "source": [
    "### Вывод:\n",
    "Исходя из анализа столбчатой диаграммы мы можем увидеть, что средний срок жизненного цикла платформы (от появления до исчезновения) составляет 10 лет. При этом пика каждая платформа достигает в среднем за 5 лет. <br>\n",
    "Мы выбираем куда инвестировать и что продавать, поэтому нам нужно понять, какая платформа будет на пике или близка к своему пику в 2017 г. Мы полагаем, что актуальным будет посмотреть пятилетний период, т.е. с 2012 по 2016 гг. \n",
    "<br>Выбор данного периода также позволит невилировать эффект от значительного количества игр, которое было на рынке до 2011 г. включительно."
   ]
  },
  {
   "cell_type": "code",
   "execution_count": 18,
   "metadata": {},
   "outputs": [
    {
     "data": {
      "text/html": [
       "<div>\n",
       "<style scoped>\n",
       "    .dataframe tbody tr th:only-of-type {\n",
       "        vertical-align: middle;\n",
       "    }\n",
       "\n",
       "    .dataframe tbody tr th {\n",
       "        vertical-align: top;\n",
       "    }\n",
       "\n",
       "    .dataframe thead th {\n",
       "        text-align: right;\n",
       "    }\n",
       "</style>\n",
       "<table border=\"1\" class=\"dataframe\">\n",
       "  <thead>\n",
       "    <tr style=\"text-align: right;\">\n",
       "      <th></th>\n",
       "      <th>platform</th>\n",
       "      <th>total_sales</th>\n",
       "    </tr>\n",
       "  </thead>\n",
       "  <tbody>\n",
       "    <tr>\n",
       "      <td>4</td>\n",
       "      <td>PS4</td>\n",
       "      <td>281.75</td>\n",
       "    </tr>\n",
       "    <tr>\n",
       "      <td>3</td>\n",
       "      <td>PS3</td>\n",
       "      <td>280.82</td>\n",
       "    </tr>\n",
       "    <tr>\n",
       "      <td>0</td>\n",
       "      <td>3DS</td>\n",
       "      <td>273.53</td>\n",
       "    </tr>\n",
       "    <tr>\n",
       "      <td>9</td>\n",
       "      <td>X360</td>\n",
       "      <td>217.71</td>\n",
       "    </tr>\n",
       "    <tr>\n",
       "      <td>10</td>\n",
       "      <td>XOne</td>\n",
       "      <td>145.39</td>\n",
       "    </tr>\n",
       "    <tr>\n",
       "      <td>8</td>\n",
       "      <td>WiiU</td>\n",
       "      <td>89.25</td>\n",
       "    </tr>\n",
       "    <tr>\n",
       "      <td>6</td>\n",
       "      <td>PSV</td>\n",
       "      <td>64.42</td>\n",
       "    </tr>\n",
       "    <tr>\n",
       "      <td>2</td>\n",
       "      <td>PC</td>\n",
       "      <td>56.88</td>\n",
       "    </tr>\n",
       "    <tr>\n",
       "      <td>7</td>\n",
       "      <td>Wii</td>\n",
       "      <td>36.15</td>\n",
       "    </tr>\n",
       "    <tr>\n",
       "      <td>5</td>\n",
       "      <td>PSP</td>\n",
       "      <td>21.49</td>\n",
       "    </tr>\n",
       "    <tr>\n",
       "      <td>1</td>\n",
       "      <td>DS</td>\n",
       "      <td>15.56</td>\n",
       "    </tr>\n",
       "  </tbody>\n",
       "</table>\n",
       "</div>"
      ],
      "text/plain": [
       "   platform  total_sales\n",
       "4       PS4       281.75\n",
       "3       PS3       280.82\n",
       "0       3DS       273.53\n",
       "9      X360       217.71\n",
       "10     XOne       145.39\n",
       "8      WiiU        89.25\n",
       "6       PSV        64.42\n",
       "2        PC        56.88\n",
       "7       Wii        36.15\n",
       "5       PSP        21.49\n",
       "1        DS        15.56"
      ]
     },
     "metadata": {},
     "output_type": "display_data"
    }
   ],
   "source": [
    "# Пранализируем данные за актуальный период\n",
    "## Сгруппируем данные за актуальный период по платформам и определим наиболее популярные\n",
    "top_platform = (df\n",
    "                .query('year_of_release > 2011')\n",
    "                .pivot_table(index='platform', values='total_sales', aggfunc='sum')\n",
    "                .reset_index(drop=False)\n",
    "                .sort_values(by='total_sales', ascending=False)\n",
    "               )\n",
    "## Скорректируем наименования столбцов\n",
    "top_platform.columns = ['platform', 'total_sales']\n",
    "\n",
    "display(top_platform)"
   ]
  },
  {
   "cell_type": "code",
   "execution_count": 19,
   "metadata": {},
   "outputs": [
    {
     "data": {
      "text/html": [
       "<div>\n",
       "<style scoped>\n",
       "    .dataframe tbody tr th:only-of-type {\n",
       "        vertical-align: middle;\n",
       "    }\n",
       "\n",
       "    .dataframe tbody tr th {\n",
       "        vertical-align: top;\n",
       "    }\n",
       "\n",
       "    .dataframe thead th {\n",
       "        text-align: right;\n",
       "    }\n",
       "</style>\n",
       "<table border=\"1\" class=\"dataframe\">\n",
       "  <thead>\n",
       "    <tr style=\"text-align: right;\">\n",
       "      <th>platform</th>\n",
       "      <th>year_of_release</th>\n",
       "      <th>3DS</th>\n",
       "      <th>PC</th>\n",
       "      <th>PS4</th>\n",
       "      <th>PSP</th>\n",
       "      <th>PSV</th>\n",
       "      <th>WiiU</th>\n",
       "      <th>XOne</th>\n",
       "    </tr>\n",
       "  </thead>\n",
       "  <tbody>\n",
       "    <tr>\n",
       "      <td>0</td>\n",
       "      <td>2012</td>\n",
       "      <td>68.75</td>\n",
       "      <td>20.41</td>\n",
       "      <td>NaN</td>\n",
       "      <td>14.74</td>\n",
       "      <td>16.10</td>\n",
       "      <td>18.43</td>\n",
       "      <td>NaN</td>\n",
       "    </tr>\n",
       "    <tr>\n",
       "      <td>1</td>\n",
       "      <td>2013</td>\n",
       "      <td>77.54</td>\n",
       "      <td>11.27</td>\n",
       "      <td>23.06</td>\n",
       "      <td>6.03</td>\n",
       "      <td>13.19</td>\n",
       "      <td>23.69</td>\n",
       "      <td>17.23</td>\n",
       "    </tr>\n",
       "    <tr>\n",
       "      <td>2</td>\n",
       "      <td>2014</td>\n",
       "      <td>62.44</td>\n",
       "      <td>12.38</td>\n",
       "      <td>87.19</td>\n",
       "      <td>0.48</td>\n",
       "      <td>16.69</td>\n",
       "      <td>23.54</td>\n",
       "      <td>49.40</td>\n",
       "    </tr>\n",
       "    <tr>\n",
       "      <td>3</td>\n",
       "      <td>2015</td>\n",
       "      <td>42.27</td>\n",
       "      <td>7.93</td>\n",
       "      <td>106.75</td>\n",
       "      <td>0.24</td>\n",
       "      <td>10.78</td>\n",
       "      <td>18.67</td>\n",
       "      <td>54.84</td>\n",
       "    </tr>\n",
       "    <tr>\n",
       "      <td>4</td>\n",
       "      <td>2016</td>\n",
       "      <td>22.53</td>\n",
       "      <td>4.89</td>\n",
       "      <td>64.75</td>\n",
       "      <td>NaN</td>\n",
       "      <td>7.66</td>\n",
       "      <td>4.92</td>\n",
       "      <td>23.92</td>\n",
       "    </tr>\n",
       "  </tbody>\n",
       "</table>\n",
       "</div>"
      ],
      "text/plain": [
       "platform  year_of_release    3DS     PC     PS4    PSP    PSV   WiiU   XOne\n",
       "0                    2012  68.75  20.41     NaN  14.74  16.10  18.43    NaN\n",
       "1                    2013  77.54  11.27   23.06   6.03  13.19  23.69  17.23\n",
       "2                    2014  62.44  12.38   87.19   0.48  16.69  23.54  49.40\n",
       "3                    2015  42.27   7.93  106.75   0.24  10.78  18.67  54.84\n",
       "4                    2016  22.53   4.89   64.75    NaN   7.66   4.92  23.92"
      ]
     },
     "metadata": {},
     "output_type": "display_data"
    },
    {
     "data": {
      "text/plain": [
       "Text(0, 0.5, 'Total sales')"
      ]
     },
     "execution_count": 19,
     "metadata": {},
     "output_type": "execute_result"
    },
    {
     "data": {
      "image/png": "[encoded data removed]",
      "text/plain": [
       "<Figure size 720x432 with 1 Axes>"
      ]
     },
     "metadata": {
      "needs_background": "light"
     },
     "output_type": "display_data"
    }
   ],
   "source": [
    "## Сгруппируем данные об объемах продаж по наиболее популярным платформам по годам\n",
    "df_top_platform = (df\n",
    "               .query('platform==[\"PS4\", \"3DS\", \"XOne\", \"WiiU\", \"PSV\", \"PC\", \"PSP\"] & year_of_release > 2011')\n",
    "               .pivot_table(index='year_of_release', columns='platform', values='total_sales', aggfunc='sum')\n",
    "               .reset_index(drop=False)\n",
    "              )\n",
    "\n",
    "display(df_top_platform)\n",
    "df_top_platform.plot(x='year_of_release', \n",
    "                     kind='bar', \n",
    "                     figsize=(10, 6), \n",
    "                     alpha=0.8, \n",
    "                     title='Распределение платформ по годам')\n",
    "plt.xlabel('Year of release')\n",
    "plt.ylabel('Total sales')"
   ]
  },
  {
   "cell_type": "markdown",
   "metadata": {},
   "source": [
    "### Вывод:\n",
    "- Исходя из анализа столбчатой диграммы за период 2012-2016 гг., мы можем сделать вывод, что PS4 является лидером по объему продаж игр в 2016 г., на втором месте XOne и на третьем месте 3DS. При этом PC, WiiU, PSV, PSP не являются инвестиционно привлекательными, т.к. продажи игр на этих платформах минимальны относительно лидеров.\n",
    "- Также стоит отметить, что год выпуска PS4 - 2013 (2014 - Япония), поэтому, учитывая что платформа остается на пике в течение 5 лет, можно предположить, что в 2017 г. PS4 сохранит лидирующие позиции по объему продаж. "
   ]
  },
  {
   "cell_type": "code",
   "execution_count": 20,
   "metadata": {},
   "outputs": [
    {
     "data": {
      "text/plain": [
       "(0, 2.5)"
      ]
     },
     "execution_count": 20,
     "metadata": {},
     "output_type": "execute_result"
    },
    {
     "data": {
      "image/png": "[encoded data removed]",
      "text/plain": [
       "<Figure size 1080x720 with 1 Axes>"
      ]
     },
     "metadata": {
      "needs_background": "light"
     },
     "output_type": "display_data"
    }
   ],
   "source": [
    "# Построим график «ящик с усами» по глобальным продажам игр в разбивке по платформам\n",
    "df_relevant = df.query('year_of_release > 2011')\n",
    "\n",
    "plt.figure(figsize=(15,10))\n",
    "sns.boxplot(data=df_relevant, x='platform', y='total_sales')\n",
    "plt.title('Диаграмма размаха по глобальным продажам игр в разбивке по платформам')\n",
    "plt.xlabel('Platform')\n",
    "plt.ylabel('Total sales')\n",
    "plt.ylim(0, 2.5)"
   ]
  },
  {
   "cell_type": "code",
   "execution_count": 21,
   "metadata": {},
   "outputs": [
    {
     "data": {
      "text/plain": [
       "(0, 2.5)"
      ]
     },
     "execution_count": 21,
     "metadata": {},
     "output_type": "execute_result"
    },
    {
     "data": {
      "image/png": "[encoded data removed]",
      "text/plain": [
       "<Figure size 1080x720 with 1 Axes>"
      ]
     },
     "metadata": {
      "needs_background": "light"
     },
     "output_type": "display_data"
    }
   ],
   "source": [
    "# Построим график «ящик с усами» по глобальным продажам игр в разбивке по платформам\n",
    "df_relevant_top = df.query('year_of_release > 2011 & platform==[\"PS4\", \"3DS\", \"XOne\", \"X360\"]')\n",
    "\n",
    "plt.figure(figsize=(15,10))\n",
    "sns.boxplot(data=df_relevant_top, x='platform', y='total_sales')\n",
    "plt.title('Диаграмма размаха по глобальным продажам игр в разбивке по популярным платформам')\n",
    "plt.xlabel('Platform')\n",
    "plt.ylabel('Total sales')\n",
    "plt.ylim(0, 2.5)"
   ]
  },
  {
   "cell_type": "markdown",
   "metadata": {},
   "source": [
    "### Вывод:\n",
    "В результате анализа диаграмм размаха по глобальным продажам игр в разбивке по платформам мы пришли к выводу, что наибольшее медианное значение объема продаж имеет платформа X360, в то время как наиболее незначительные медианные значения имеют платформы PS, PSP, DS. По всем платформам наблюдаются выбросы (аутлаеры). "
   ]
  },
  {
   "cell_type": "markdown",
   "metadata": {},
   "source": [
    "### 3.3. Исследование влияния на объем продаж отзывов пользователей и критиков <a id=\"critic\"></a>"
   ]
  },
  {
   "cell_type": "code",
   "execution_count": 22,
   "metadata": {},
   "outputs": [
    {
     "data": {
      "image/png": "[encoded data removed]",
      "text/plain": [
       "<Figure size 720x432 with 1 Axes>"
      ]
     },
     "metadata": {
      "needs_background": "light"
     },
     "output_type": "display_data"
    },
    {
     "name": "stdout",
     "output_type": "stream",
     "text": [
      "Коэффициент корреляции Пирсона 0.40939247639371634\n"
     ]
    }
   ],
   "source": [
    "# Проанализируем как влияют на продажи внутри одной популярной платформы отзывы пользователей и критиков\n",
    "# Построим диаграммы рассеяния и рассчитаем корреляцию между отзывами и продажами\n",
    "\n",
    "## Построим диаграмму рассеяния изменения продаж от оценки критиков\n",
    "df_relevant_ps4_critic = df_relevant.query('platform == \"PS4\" & critic_score != 0')\n",
    "\n",
    "df_relevant_ps4_critic.plot(x='critic_score', \n",
    "                            y='total_sales', \n",
    "                            kind='scatter', \n",
    "                            color='red', \n",
    "                            title='Диаграмма рассеяния изменения продаж от оценки критиков', \n",
    "                            figsize=(10, 6), \n",
    "                            sharex=False, \n",
    "                            grid=True, \n",
    "                            alpha=0.6)\n",
    "plt.xlabel('critic score')\n",
    "plt.ylabel('total sales')\n",
    "plt.show()\n",
    "\n",
    "#определим коэффициент корреляции Пирсона\n",
    "sales_critic_score_corr = df_relevant_ps4_critic['total_sales'].corr(df_relevant_ps4_critic['critic_score'])\n",
    "print('Коэффициент корреляции Пирсона', sales_critic_score_corr)"
   ]
  },
  {
   "cell_type": "code",
   "execution_count": 23,
   "metadata": {},
   "outputs": [
    {
     "data": {
      "image/png": "[encoded data removed]",
      "text/plain": [
       "<Figure size 720x432 with 1 Axes>"
      ]
     },
     "metadata": {
      "needs_background": "light"
     },
     "output_type": "display_data"
    },
    {
     "name": "stdout",
     "output_type": "stream",
     "text": [
      "Коэффициент корреляции Пирсона 0.35489764300628185\n"
     ]
    }
   ],
   "source": [
    "## Построим диаграмму рассеяния изменения продаж от оценки пользователей\n",
    "df_relevant_ps4_user = df_relevant.query('platform == \"PS4\" & user_score != 0')\n",
    "\n",
    "df_relevant_ps4_user.plot(x='user_score', \n",
    "                          y='total_sales', \n",
    "                          kind='scatter', \n",
    "                          color='red', \n",
    "                          title='Диаграмма рассеяния изменения продаж от оценки пользователей', \n",
    "                          figsize=(10, 6), \n",
    "                          sharex=False, \n",
    "                          grid=True, \n",
    "                          alpha=0.6)\n",
    "plt.xlabel('user score')\n",
    "plt.ylabel('total sales')\n",
    "plt.show()\n",
    "\n",
    "#определим коэффициент корреляции\n",
    "sales_user_score_corr = df_relevant_ps4_user['total_sales'].corr(df_relevant_ps4_user['critic_score'])\n",
    "print('Коэффициент корреляции Пирсона', sales_user_score_corr)"
   ]
  },
  {
   "cell_type": "markdown",
   "metadata": {},
   "source": [
    "### Вывод:\n",
    "В результате исследования влияния на объем продаж игр на платформе PS4 отзывов пользователей и критиков была выявлена умеренная связь между объемом продаж игр и оценками критиков (corr = 0,4), а также умеренная связь между объемом продаж игр и оценками пользователей (corr = 0,35). Исходя из полученных результатов оценка критиков оказывает немного большее значение на объем продаж игр. Однако стоит учитывать, что связь весьма слабая, очевидно, что высокие оценки критиков и пользователей положительной влияют на объем продаж, но это не является первостепенным фактором."
   ]
  },
  {
   "cell_type": "code",
   "execution_count": 24,
   "metadata": {},
   "outputs": [
    {
     "name": "stdout",
     "output_type": "stream",
     "text": [
      "X360\n",
      "Коэффициент корреляции оценки критиков и объема продаж: 0.36\n",
      "Коэффициент корреляции оценки пользователей и объема продаж: 0.01\n",
      "3DS\n",
      "Коэффициент корреляции оценки критиков и объема продаж: 0.32\n",
      "Коэффициент корреляции оценки пользователей и объема продаж: 0.21\n",
      "XOne\n",
      "Коэффициент корреляции оценки критиков и объема продаж: 0.42\n",
      "Коэффициент корреляции оценки пользователей и объема продаж: -0.07\n"
     ]
    },
    {
     "data": {
      "image/png": "[encoded data removed]",
      "text/plain": [
       "<Figure size 360x360 with 1 Axes>"
      ]
     },
     "metadata": {
      "needs_background": "light"
     },
     "output_type": "display_data"
    },
    {
     "data": {
      "image/png": "[encoded data removed]",
      "text/plain": [
       "<Figure size 360x360 with 1 Axes>"
      ]
     },
     "metadata": {
      "needs_background": "light"
     },
     "output_type": "display_data"
    },
    {
     "data": {
      "image/png": "[encoded data removed]",
      "text/plain": [
       "<Figure size 360x360 with 1 Axes>"
      ]
     },
     "metadata": {
      "needs_background": "light"
     },
     "output_type": "display_data"
    },
    {
     "data": {
      "image/png": "[encoded data removed]",
      "text/plain": [
       "<Figure size 360x360 with 1 Axes>"
      ]
     },
     "metadata": {
      "needs_background": "light"
     },
     "output_type": "display_data"
    },
    {
     "data": {
      "image/png": "[encoded data removed]",
      "text/plain": [
       "<Figure size 360x360 with 1 Axes>"
      ]
     },
     "metadata": {
      "needs_background": "light"
     },
     "output_type": "display_data"
    },
    {
     "data": {
      "image/png": "[encoded data removed]",
      "text/plain": [
       "<Figure size 360x360 with 1 Axes>"
      ]
     },
     "metadata": {
      "needs_background": "light"
     },
     "output_type": "display_data"
    }
   ],
   "source": [
    "# Соотнесем выводы с продажами игр на других топ-платформах\n",
    "for platform in ['X360', '3DS', 'XOne']:\n",
    "    print(platform)\n",
    "    df_relevant_crit = df_relevant.query('platform == @platform and (critic_score != 0)')\n",
    "    print('Коэффициент корреляции оценки критиков и объема продаж: {}'.format(round(df_relevant_crit['critic_score'].corr(df_relevant_crit['total_sales']), 2)))\n",
    "    sns.relplot(x='critic_score', y=\"total_sales\", data=df_relevant_crit, kind='scatter', color='red')\n",
    "    plt.title(platform)\n",
    "\n",
    "    df_relevant_us = df_relevant.query('platform == @platform and (user_score != 0)')\n",
    "    print('Коэффициент корреляции оценки пользователей и объема продаж: {}'.format(round(df_relevant_us['user_score'].corr(df_relevant_us['total_sales']), 2)))\n",
    "    sns.relplot(x='user_score', y=\"total_sales\", data=df_relevant_us, kind='scatter', color='green')\n",
    "    plt.title(platform)"
   ]
  },
  {
   "cell_type": "markdown",
   "metadata": {},
   "source": [
    "### Вывод:\n",
    "- В результате анализа взаимосвязи оценок пользователей и критиков с объемом продаж на других популярных платформах, мы пришли к выводу, что умеренная взаимосвязь между оценками критиков и популярностью игр сохраняется и на других платформах, коэффициент корреляции Пирсона изменяется в интервале от 0,32 до 0,42. \n",
    "- Однако коэффициенты корреляции между оценками пользователей и объемом продаж значительно отличаются, преобладает положительная корреляция, но при рассчете коэф. кор. по платформе XOne мы получили незначительную отрицательную корреляцию близкую к нулю. \n",
    "- Исходя из этого, можем заключить, что оценка пользователей почти не оказывает влияние на потребление игр, в то время как оценка критиков демонстрирует устойчивую положительную взаимосвязь. "
   ]
  },
  {
   "cell_type": "markdown",
   "metadata": {},
   "source": [
    "### 3.4. Определение зависимости между жанром игр и объемом продаж <a id=\"gener\"></a>"
   ]
  },
  {
   "cell_type": "code",
   "execution_count": 25,
   "metadata": {},
   "outputs": [
    {
     "name": "stdout",
     "output_type": "stream",
     "text": [
      "Action          1031\n",
      "Role-Playing     370\n",
      "Adventure        302\n",
      "Sports           268\n",
      "Shooter          235\n",
      "Misc             192\n",
      "Racing           115\n",
      "Fighting         109\n",
      "Platform          85\n",
      "Simulation        80\n",
      "Strategy          71\n",
      "Puzzle            28\n",
      "Name: genre, dtype: int64\n"
     ]
    }
   ],
   "source": [
    "# Определим наиболее часто встречающиеся жанры \n",
    "df_genre_counting = df_relevant['genre'].value_counts()\n",
    "print(df_genre_counting)\n",
    "# Сформируем словарь из полученных значений\n",
    "dict_genre_counting = dict(df_genre_counting)"
   ]
  },
  {
   "cell_type": "markdown",
   "metadata": {},
   "source": [
    "### Вывод:\n",
    "Наиболее популярным среди производителей игр является жанр action. Количество игр в этом жанре в 2,8 раз превышает следующий по рпспространненности жанр - Role-Playing. Также в топ - 5 входят жанры Adventure, Sports и Shooter. На последнем месте жанр Puzzle."
   ]
  },
  {
   "cell_type": "code",
   "execution_count": 26,
   "metadata": {},
   "outputs": [
    {
     "data": {
      "text/html": [
       "<div>\n",
       "<style scoped>\n",
       "    .dataframe tbody tr th:only-of-type {\n",
       "        vertical-align: middle;\n",
       "    }\n",
       "\n",
       "    .dataframe tbody tr th {\n",
       "        vertical-align: top;\n",
       "    }\n",
       "\n",
       "    .dataframe thead th {\n",
       "        text-align: right;\n",
       "    }\n",
       "</style>\n",
       "<table border=\"1\" class=\"dataframe\">\n",
       "  <thead>\n",
       "    <tr style=\"text-align: right;\">\n",
       "      <th></th>\n",
       "      <th>genre</th>\n",
       "      <th>total_sales</th>\n",
       "      <th>number_of_games</th>\n",
       "      <th>number_of_game_sales</th>\n",
       "    </tr>\n",
       "  </thead>\n",
       "  <tbody>\n",
       "    <tr>\n",
       "      <td>1</td>\n",
       "      <td>Shooter</td>\n",
       "      <td>276.70</td>\n",
       "      <td>235</td>\n",
       "      <td>1.177447</td>\n",
       "    </tr>\n",
       "    <tr>\n",
       "      <td>5</td>\n",
       "      <td>Platform</td>\n",
       "      <td>64.05</td>\n",
       "      <td>85</td>\n",
       "      <td>0.753529</td>\n",
       "    </tr>\n",
       "    <tr>\n",
       "      <td>2</td>\n",
       "      <td>Role-Playing</td>\n",
       "      <td>243.41</td>\n",
       "      <td>370</td>\n",
       "      <td>0.657865</td>\n",
       "    </tr>\n",
       "    <tr>\n",
       "      <td>3</td>\n",
       "      <td>Sports</td>\n",
       "      <td>166.64</td>\n",
       "      <td>268</td>\n",
       "      <td>0.621791</td>\n",
       "    </tr>\n",
       "    <tr>\n",
       "      <td>8</td>\n",
       "      <td>Simulation</td>\n",
       "      <td>43.34</td>\n",
       "      <td>80</td>\n",
       "      <td>0.541750</td>\n",
       "    </tr>\n",
       "    <tr>\n",
       "      <td>4</td>\n",
       "      <td>Misc</td>\n",
       "      <td>90.23</td>\n",
       "      <td>192</td>\n",
       "      <td>0.469948</td>\n",
       "    </tr>\n",
       "    <tr>\n",
       "      <td>7</td>\n",
       "      <td>Fighting</td>\n",
       "      <td>49.46</td>\n",
       "      <td>109</td>\n",
       "      <td>0.453761</td>\n",
       "    </tr>\n",
       "    <tr>\n",
       "      <td>6</td>\n",
       "      <td>Racing</td>\n",
       "      <td>49.51</td>\n",
       "      <td>115</td>\n",
       "      <td>0.430522</td>\n",
       "    </tr>\n",
       "    <tr>\n",
       "      <td>0</td>\n",
       "      <td>Action</td>\n",
       "      <td>442.78</td>\n",
       "      <td>1031</td>\n",
       "      <td>0.429467</td>\n",
       "    </tr>\n",
       "    <tr>\n",
       "      <td>11</td>\n",
       "      <td>Puzzle</td>\n",
       "      <td>6.81</td>\n",
       "      <td>28</td>\n",
       "      <td>0.243214</td>\n",
       "    </tr>\n",
       "    <tr>\n",
       "      <td>10</td>\n",
       "      <td>Strategy</td>\n",
       "      <td>15.16</td>\n",
       "      <td>71</td>\n",
       "      <td>0.213521</td>\n",
       "    </tr>\n",
       "    <tr>\n",
       "      <td>9</td>\n",
       "      <td>Adventure</td>\n",
       "      <td>34.86</td>\n",
       "      <td>302</td>\n",
       "      <td>0.115430</td>\n",
       "    </tr>\n",
       "  </tbody>\n",
       "</table>\n",
       "</div>"
      ],
      "text/plain": [
       "           genre  total_sales  number_of_games  number_of_game_sales\n",
       "1        Shooter       276.70              235              1.177447\n",
       "5       Platform        64.05               85              0.753529\n",
       "2   Role-Playing       243.41              370              0.657865\n",
       "3         Sports       166.64              268              0.621791\n",
       "8     Simulation        43.34               80              0.541750\n",
       "4           Misc        90.23              192              0.469948\n",
       "7       Fighting        49.46              109              0.453761\n",
       "6         Racing        49.51              115              0.430522\n",
       "0         Action       442.78             1031              0.429467\n",
       "11        Puzzle         6.81               28              0.243214\n",
       "10      Strategy        15.16               71              0.213521\n",
       "9      Adventure        34.86              302              0.115430"
      ]
     },
     "metadata": {},
     "output_type": "display_data"
    }
   ],
   "source": [
    "# Определим наиболее прибыльный жанр, сгруппируем данные о продажах игр по жанрам\n",
    "df_relevant_pivot_genre = (df_relevant\n",
    "                           .pivot_table(index='genre', values='total_sales', aggfunc='sum')\n",
    "                           .sort_values(by='total_sales', ascending=False)\n",
    "                           .reset_index(drop=False)\n",
    "                          )\n",
    "\n",
    "# Очевидно влияние количество выпускаемых игр каждого жанра\n",
    "# Добавим столбец с количеством игр\n",
    "df_relevant_pivot_genre['number_of_games'] = df_relevant_pivot_genre['genre'].map(dict_genre_counting)\n",
    "\n",
    "# Определим средний объем продаж на одну игру (млн.)\n",
    "df_relevant_pivot_genre['number_of_game_sales'] = df_relevant_pivot_genre['total_sales'] / df_relevant_pivot_genre['number_of_games']\n",
    "display(df_relevant_pivot_genre.sort_values(by='number_of_game_sales', ascending=False))"
   ]
  },
  {
   "cell_type": "code",
   "execution_count": 27,
   "metadata": {},
   "outputs": [
    {
     "data": {
      "image/png": "[encoded data removed]",
      "text/plain": [
       "<Figure size 432x288 with 1 Axes>"
      ]
     },
     "metadata": {
      "needs_background": "light"
     },
     "output_type": "display_data"
    },
    {
     "data": {
      "image/png": "[encoded data removed]",
      "text/plain": [
       "<Figure size 432x288 with 1 Axes>"
      ]
     },
     "metadata": {
      "needs_background": "light"
     },
     "output_type": "display_data"
    }
   ],
   "source": [
    "# Диаграмма общего объема продаж по каждому жанру\n",
    "df_relevant_pivot_genre.plot(x='genre', \n",
    "                             y='total_sales', \n",
    "                             kind='bar', \n",
    "                             grid=True, \n",
    "                             figsize=(6, 4), \n",
    "                             alpha=0.8, \n",
    "                             legend=False, \n",
    "                             title='Диаграмма общего объема продаж игр по жанрам')\n",
    "plt.xlabel('Genre')\n",
    "plt.ylabel('Total sales, mln')\n",
    "plt.show()\n",
    "# Диаграмма среднего объема продаж на одну игру по каждому жанру \n",
    "df_relevant_pivot_genre.plot(x='genre', \n",
    "                             y='number_of_game_sales', \n",
    "                             kind='bar', \n",
    "                             grid=True, \n",
    "                             figsize=(6, 4), \n",
    "                             alpha=0.8, \n",
    "                             legend=False, \n",
    "                             title='Диаграмма среднего объема продаж на одну игру по каждому жанру')\n",
    "plt.xlabel('Genre')\n",
    "plt.ylabel('Average number of game sales, mln')\n",
    "plt.show()"
   ]
  },
  {
   "cell_type": "markdown",
   "metadata": {},
   "source": [
    "### Вывод:\n",
    "- Несмотря на то, что наиболее популярным среди производителей является жанр Action, наиболее рентабельным является жанр Shooter, который на втором месте по совокумному объему выпуска игр. \n",
    "- Тем не менее, за счет огромного количества игр в жанре Action, почти в 3 раза превышающего количество игр в жанре Shooter, жанр Action является лидером по объему продаж."
   ]
  },
  {
   "cell_type": "markdown",
   "metadata": {},
   "source": [
    "## 4. Определение портрета пользователя каждого региона  <a id=\"user\"></a>"
   ]
  },
  {
   "cell_type": "markdown",
   "metadata": {},
   "source": [
    "### Определение самых популярных платформ по регионам"
   ]
  },
  {
   "cell_type": "code",
   "execution_count": 28,
   "metadata": {
    "scrolled": false
   },
   "outputs": [
    {
     "name": "stdout",
     "output_type": "stream",
     "text": [
      "Таблица самые популярные платформы по региону: na_sales\n"
     ]
    },
    {
     "data": {
      "text/html": [
       "<div>\n",
       "<style scoped>\n",
       "    .dataframe tbody tr th:only-of-type {\n",
       "        vertical-align: middle;\n",
       "    }\n",
       "\n",
       "    .dataframe tbody tr th {\n",
       "        vertical-align: top;\n",
       "    }\n",
       "\n",
       "    .dataframe thead th {\n",
       "        text-align: right;\n",
       "    }\n",
       "</style>\n",
       "<table border=\"1\" class=\"dataframe\">\n",
       "  <thead>\n",
       "    <tr style=\"text-align: right;\">\n",
       "      <th></th>\n",
       "      <th>platform</th>\n",
       "      <th>na_sales</th>\n",
       "    </tr>\n",
       "  </thead>\n",
       "  <tbody>\n",
       "    <tr>\n",
       "      <td>0</td>\n",
       "      <td>X360</td>\n",
       "      <td>140.05</td>\n",
       "    </tr>\n",
       "    <tr>\n",
       "      <td>1</td>\n",
       "      <td>PS4</td>\n",
       "      <td>108.74</td>\n",
       "    </tr>\n",
       "    <tr>\n",
       "      <td>2</td>\n",
       "      <td>PS3</td>\n",
       "      <td>103.38</td>\n",
       "    </tr>\n",
       "    <tr>\n",
       "      <td>3</td>\n",
       "      <td>XOne</td>\n",
       "      <td>93.12</td>\n",
       "    </tr>\n",
       "    <tr>\n",
       "      <td>4</td>\n",
       "      <td>3DS</td>\n",
       "      <td>55.31</td>\n",
       "    </tr>\n",
       "  </tbody>\n",
       "</table>\n",
       "</div>"
      ],
      "text/plain": [
       "  platform  na_sales\n",
       "0     X360    140.05\n",
       "1      PS4    108.74\n",
       "2      PS3    103.38\n",
       "3     XOne     93.12\n",
       "4      3DS     55.31"
      ]
     },
     "metadata": {},
     "output_type": "display_data"
    },
    {
     "name": "stdout",
     "output_type": "stream",
     "text": [
      "\n",
      "Диаграмма самые популярные платформы по региону: na_sales\n"
     ]
    },
    {
     "data": {
      "image/png": "[encoded data removed]",
      "text/plain": [
       "<Figure size 432x288 with 1 Axes>"
      ]
     },
     "metadata": {
      "needs_background": "light"
     },
     "output_type": "display_data"
    },
    {
     "name": "stdout",
     "output_type": "stream",
     "text": [
      "Таблица самые популярные платформы по региону: eu_sales\n"
     ]
    },
    {
     "data": {
      "text/html": [
       "<div>\n",
       "<style scoped>\n",
       "    .dataframe tbody tr th:only-of-type {\n",
       "        vertical-align: middle;\n",
       "    }\n",
       "\n",
       "    .dataframe tbody tr th {\n",
       "        vertical-align: top;\n",
       "    }\n",
       "\n",
       "    .dataframe thead th {\n",
       "        text-align: right;\n",
       "    }\n",
       "</style>\n",
       "<table border=\"1\" class=\"dataframe\">\n",
       "  <thead>\n",
       "    <tr style=\"text-align: right;\">\n",
       "      <th></th>\n",
       "      <th>platform</th>\n",
       "      <th>eu_sales</th>\n",
       "    </tr>\n",
       "  </thead>\n",
       "  <tbody>\n",
       "    <tr>\n",
       "      <td>0</td>\n",
       "      <td>PS4</td>\n",
       "      <td>141.09</td>\n",
       "    </tr>\n",
       "    <tr>\n",
       "      <td>1</td>\n",
       "      <td>PS3</td>\n",
       "      <td>106.86</td>\n",
       "    </tr>\n",
       "    <tr>\n",
       "      <td>2</td>\n",
       "      <td>X360</td>\n",
       "      <td>74.52</td>\n",
       "    </tr>\n",
       "    <tr>\n",
       "      <td>3</td>\n",
       "      <td>XOne</td>\n",
       "      <td>51.59</td>\n",
       "    </tr>\n",
       "    <tr>\n",
       "      <td>4</td>\n",
       "      <td>3DS</td>\n",
       "      <td>42.64</td>\n",
       "    </tr>\n",
       "  </tbody>\n",
       "</table>\n",
       "</div>"
      ],
      "text/plain": [
       "  platform  eu_sales\n",
       "0      PS4    141.09\n",
       "1      PS3    106.86\n",
       "2     X360     74.52\n",
       "3     XOne     51.59\n",
       "4      3DS     42.64"
      ]
     },
     "metadata": {},
     "output_type": "display_data"
    },
    {
     "name": "stdout",
     "output_type": "stream",
     "text": [
      "\n",
      "Диаграмма самые популярные платформы по региону: eu_sales\n"
     ]
    },
    {
     "data": {
      "image/png": "[encoded data removed]",
      "text/plain": [
       "<Figure size 432x288 with 1 Axes>"
      ]
     },
     "metadata": {
      "needs_background": "light"
     },
     "output_type": "display_data"
    },
    {
     "name": "stdout",
     "output_type": "stream",
     "text": [
      "Таблица самые популярные платформы по региону: jp_sales\n"
     ]
    },
    {
     "data": {
      "text/html": [
       "<div>\n",
       "<style scoped>\n",
       "    .dataframe tbody tr th:only-of-type {\n",
       "        vertical-align: middle;\n",
       "    }\n",
       "\n",
       "    .dataframe tbody tr th {\n",
       "        vertical-align: top;\n",
       "    }\n",
       "\n",
       "    .dataframe thead th {\n",
       "        text-align: right;\n",
       "    }\n",
       "</style>\n",
       "<table border=\"1\" class=\"dataframe\">\n",
       "  <thead>\n",
       "    <tr style=\"text-align: right;\">\n",
       "      <th></th>\n",
       "      <th>platform</th>\n",
       "      <th>jp_sales</th>\n",
       "    </tr>\n",
       "  </thead>\n",
       "  <tbody>\n",
       "    <tr>\n",
       "      <td>0</td>\n",
       "      <td>3DS</td>\n",
       "      <td>87.79</td>\n",
       "    </tr>\n",
       "    <tr>\n",
       "      <td>1</td>\n",
       "      <td>PS3</td>\n",
       "      <td>35.29</td>\n",
       "    </tr>\n",
       "    <tr>\n",
       "      <td>2</td>\n",
       "      <td>PSV</td>\n",
       "      <td>21.04</td>\n",
       "    </tr>\n",
       "    <tr>\n",
       "      <td>3</td>\n",
       "      <td>PS4</td>\n",
       "      <td>15.96</td>\n",
       "    </tr>\n",
       "    <tr>\n",
       "      <td>4</td>\n",
       "      <td>WiiU</td>\n",
       "      <td>13.01</td>\n",
       "    </tr>\n",
       "  </tbody>\n",
       "</table>\n",
       "</div>"
      ],
      "text/plain": [
       "  platform  jp_sales\n",
       "0      3DS     87.79\n",
       "1      PS3     35.29\n",
       "2      PSV     21.04\n",
       "3      PS4     15.96\n",
       "4     WiiU     13.01"
      ]
     },
     "metadata": {},
     "output_type": "display_data"
    },
    {
     "name": "stdout",
     "output_type": "stream",
     "text": [
      "\n",
      "Диаграмма самые популярные платформы по региону: jp_sales\n"
     ]
    },
    {
     "data": {
      "image/png": "[encoded data removed]",
      "text/plain": [
       "<Figure size 432x288 with 1 Axes>"
      ]
     },
     "metadata": {
      "needs_background": "light"
     },
     "output_type": "display_data"
    }
   ],
   "source": [
    "# Определим самые популярные платформы (топ-5) по регионам \n",
    "for region in ['na_sales', 'eu_sales', 'jp_sales']:\n",
    "    df_relevant_region = (df_relevant\n",
    "                          .pivot_table(index='platform', values=region, aggfunc='sum')\n",
    "                          .sort_values(by=region, ascending=False)\n",
    "                          .reset_index(drop=False)\n",
    "                         )\n",
    "    print('Таблица самые популярные платформы по региону:', region)\n",
    "    display(df_relevant_region.head())\n",
    "    print()\n",
    "    print('Диаграмма самые популярные платформы по региону:', region)\n",
    "    df_relevant_region.plot(x='platform', \n",
    "                            y=region, \n",
    "                            kind='bar', \n",
    "                            grid=True, \n",
    "                            figsize=(6, 4), \n",
    "                            alpha=0.8, \n",
    "                            legend=False, \n",
    "                            title='Диаграмма самые популярные платформы по регионам')\n",
    "    plt.xlabel('Platform')\n",
    "    plt.ylabel('Region sales, mln')\n",
    "    plt.show()"
   ]
  },
  {
   "cell_type": "code",
   "execution_count": 29,
   "metadata": {},
   "outputs": [
    {
     "data": {
      "text/html": [
       "<div>\n",
       "<style scoped>\n",
       "    .dataframe tbody tr th:only-of-type {\n",
       "        vertical-align: middle;\n",
       "    }\n",
       "\n",
       "    .dataframe tbody tr th {\n",
       "        vertical-align: top;\n",
       "    }\n",
       "\n",
       "    .dataframe thead th {\n",
       "        text-align: right;\n",
       "    }\n",
       "</style>\n",
       "<table border=\"1\" class=\"dataframe\">\n",
       "  <thead>\n",
       "    <tr style=\"text-align: right;\">\n",
       "      <th></th>\n",
       "      <th>na_sales</th>\n",
       "      <th>share</th>\n",
       "    </tr>\n",
       "    <tr>\n",
       "      <th>platform</th>\n",
       "      <th></th>\n",
       "      <th></th>\n",
       "    </tr>\n",
       "  </thead>\n",
       "  <tbody>\n",
       "    <tr>\n",
       "      <td>X360</td>\n",
       "      <td>140.05</td>\n",
       "      <td>0.24</td>\n",
       "    </tr>\n",
       "    <tr>\n",
       "      <td>PS4</td>\n",
       "      <td>108.74</td>\n",
       "      <td>0.18</td>\n",
       "    </tr>\n",
       "    <tr>\n",
       "      <td>PS3</td>\n",
       "      <td>103.38</td>\n",
       "      <td>0.17</td>\n",
       "    </tr>\n",
       "    <tr>\n",
       "      <td>XOne</td>\n",
       "      <td>93.12</td>\n",
       "      <td>0.16</td>\n",
       "    </tr>\n",
       "    <tr>\n",
       "      <td>3DS</td>\n",
       "      <td>55.31</td>\n",
       "      <td>0.09</td>\n",
       "    </tr>\n",
       "  </tbody>\n",
       "</table>\n",
       "</div>"
      ],
      "text/plain": [
       "          na_sales  share\n",
       "platform                 \n",
       "X360        140.05   0.24\n",
       "PS4         108.74   0.18\n",
       "PS3         103.38   0.17\n",
       "XOne         93.12   0.16\n",
       "3DS          55.31   0.09"
      ]
     },
     "metadata": {},
     "output_type": "display_data"
    },
    {
     "name": "stdout",
     "output_type": "stream",
     "text": [
      "\n",
      "Доли продаж по платформам по региону: na_sales\n"
     ]
    },
    {
     "data": {
      "image/png": "[encoded data removed]",
      "text/plain": [
       "<Figure size 360x360 with 1 Axes>"
      ]
     },
     "metadata": {},
     "output_type": "display_data"
    },
    {
     "data": {
      "text/html": [
       "<div>\n",
       "<style scoped>\n",
       "    .dataframe tbody tr th:only-of-type {\n",
       "        vertical-align: middle;\n",
       "    }\n",
       "\n",
       "    .dataframe tbody tr th {\n",
       "        vertical-align: top;\n",
       "    }\n",
       "\n",
       "    .dataframe thead th {\n",
       "        text-align: right;\n",
       "    }\n",
       "</style>\n",
       "<table border=\"1\" class=\"dataframe\">\n",
       "  <thead>\n",
       "    <tr style=\"text-align: right;\">\n",
       "      <th></th>\n",
       "      <th>eu_sales</th>\n",
       "      <th>share</th>\n",
       "    </tr>\n",
       "    <tr>\n",
       "      <th>platform</th>\n",
       "      <th></th>\n",
       "      <th></th>\n",
       "    </tr>\n",
       "  </thead>\n",
       "  <tbody>\n",
       "    <tr>\n",
       "      <td>PS4</td>\n",
       "      <td>141.09</td>\n",
       "      <td>0.28</td>\n",
       "    </tr>\n",
       "    <tr>\n",
       "      <td>PS3</td>\n",
       "      <td>106.86</td>\n",
       "      <td>0.21</td>\n",
       "    </tr>\n",
       "    <tr>\n",
       "      <td>X360</td>\n",
       "      <td>74.52</td>\n",
       "      <td>0.15</td>\n",
       "    </tr>\n",
       "    <tr>\n",
       "      <td>XOne</td>\n",
       "      <td>51.59</td>\n",
       "      <td>0.10</td>\n",
       "    </tr>\n",
       "    <tr>\n",
       "      <td>3DS</td>\n",
       "      <td>42.64</td>\n",
       "      <td>0.08</td>\n",
       "    </tr>\n",
       "  </tbody>\n",
       "</table>\n",
       "</div>"
      ],
      "text/plain": [
       "          eu_sales  share\n",
       "platform                 \n",
       "PS4         141.09   0.28\n",
       "PS3         106.86   0.21\n",
       "X360         74.52   0.15\n",
       "XOne         51.59   0.10\n",
       "3DS          42.64   0.08"
      ]
     },
     "metadata": {},
     "output_type": "display_data"
    },
    {
     "name": "stdout",
     "output_type": "stream",
     "text": [
      "\n",
      "Доли продаж по платформам по региону: eu_sales\n"
     ]
    },
    {
     "data": {
      "image/png": "[encoded data removed]",
      "text/plain": [
       "<Figure size 360x360 with 1 Axes>"
      ]
     },
     "metadata": {},
     "output_type": "display_data"
    },
    {
     "data": {
      "text/html": [
       "<div>\n",
       "<style scoped>\n",
       "    .dataframe tbody tr th:only-of-type {\n",
       "        vertical-align: middle;\n",
       "    }\n",
       "\n",
       "    .dataframe tbody tr th {\n",
       "        vertical-align: top;\n",
       "    }\n",
       "\n",
       "    .dataframe thead th {\n",
       "        text-align: right;\n",
       "    }\n",
       "</style>\n",
       "<table border=\"1\" class=\"dataframe\">\n",
       "  <thead>\n",
       "    <tr style=\"text-align: right;\">\n",
       "      <th></th>\n",
       "      <th>jp_sales</th>\n",
       "      <th>share</th>\n",
       "    </tr>\n",
       "    <tr>\n",
       "      <th>platform</th>\n",
       "      <th></th>\n",
       "      <th></th>\n",
       "    </tr>\n",
       "  </thead>\n",
       "  <tbody>\n",
       "    <tr>\n",
       "      <td>3DS</td>\n",
       "      <td>87.79</td>\n",
       "      <td>0.46</td>\n",
       "    </tr>\n",
       "    <tr>\n",
       "      <td>PS3</td>\n",
       "      <td>35.29</td>\n",
       "      <td>0.18</td>\n",
       "    </tr>\n",
       "    <tr>\n",
       "      <td>PSV</td>\n",
       "      <td>21.04</td>\n",
       "      <td>0.11</td>\n",
       "    </tr>\n",
       "    <tr>\n",
       "      <td>PS4</td>\n",
       "      <td>15.96</td>\n",
       "      <td>0.08</td>\n",
       "    </tr>\n",
       "    <tr>\n",
       "      <td>WiiU</td>\n",
       "      <td>13.01</td>\n",
       "      <td>0.07</td>\n",
       "    </tr>\n",
       "  </tbody>\n",
       "</table>\n",
       "</div>"
      ],
      "text/plain": [
       "          jp_sales  share\n",
       "platform                 \n",
       "3DS          87.79   0.46\n",
       "PS3          35.29   0.18\n",
       "PSV          21.04   0.11\n",
       "PS4          15.96   0.08\n",
       "WiiU         13.01   0.07"
      ]
     },
     "metadata": {},
     "output_type": "display_data"
    },
    {
     "name": "stdout",
     "output_type": "stream",
     "text": [
      "\n",
      "Доли продаж по платформам по региону: jp_sales\n"
     ]
    },
    {
     "data": {
      "image/png": "[encoded data removed]",
      "text/plain": [
       "<Figure size 360x360 with 1 Axes>"
      ]
     },
     "metadata": {},
     "output_type": "display_data"
    }
   ],
   "source": [
    "# Определим различия в долях продаж по платформам\n",
    "for region in ['na_sales', 'eu_sales', 'jp_sales']:\n",
    "    df_relevant_region = (df_relevant\n",
    "                          .pivot_table(index='platform', values=region, aggfunc='sum')\n",
    "                          .sort_values(by=region, ascending=False)\n",
    "                         )\n",
    "    df_relevant_region['share'] = round(df_relevant_region[region] / df_relevant_region[region].sum(), 2)\n",
    "    display(df_relevant_region.head())\n",
    "    print()\n",
    "    print('Доли продаж по платформам по региону:', region)\n",
    "    df_relevant_region.plot.pie(y='share', \n",
    "                                figsize=(5, 5),\n",
    "                                autopct=\"%.0f\",\n",
    "                                legend=False, \n",
    "                                title='Доля продаж по платформам')\n",
    "    plt.show()"
   ]
  },
  {
   "cell_type": "markdown",
   "metadata": {},
   "source": [
    "### Вывод:\n",
    "- В результате исследования наиболее популярных платформ по регионам было выявлено, что в Северной Америке наиболее популярными платформами являются: X360, PS4, PS3, XOne и 3DS.\n",
    "- В Европе структура популярных платформ весьма сходна с Северной Америкой, однако отличием является расположение топ-3 платформ. В Европе на первом месте PS4, на втором - PS3, а на третьем месте X360, которая в Северной Америке занимает лидирующую позицию.\n",
    "- В Японии ситуация весьма координально отличает от Европы и Северной Америки. Лидирующую позицию по популярности занимает платформа 3DS, которая в Европе и Северной Америке занимает нижнюю строчку топ-5 платформ. PS3, аналогично Европе занимает второе место по популярности. Стоит отметить, что PS4 расположена ниже, чем PS3, возможно, оказало влияние более позднее введение платформы на территории Японии. Также заметим, что в топе популярных платформ Японии появились такие платформы как PSV и WiiU, которые отсутствовали в топ-4 Европы и Северной Америки.\n",
    "- Анализ различий в долях продаж по платформам позволяет заключить, что в  наибольшую долю продаж - 28% формирует платформа PS4, в Северной Америке наибольшую долю - 24% формирует платформа X360. При этом в Японии наблюдается явное доминирование, платформа 3DS формирует 46% от общего объема продаж.\n",
    "- Наибольшая часть продаж в обоих регионах сфокусирована на 3 платформах PS4, X360 и PS3, которые покрывают 60% продаж в Северной Америке и 65% в Европе."
   ]
  },
  {
   "cell_type": "markdown",
   "metadata": {},
   "source": [
    "### Определение самых популярных жанров по регионам"
   ]
  },
  {
   "cell_type": "code",
   "execution_count": 30,
   "metadata": {},
   "outputs": [
    {
     "name": "stdout",
     "output_type": "stream",
     "text": [
      "Таблица самые популярные жанры по региону: na_sales\n"
     ]
    },
    {
     "data": {
      "text/html": [
       "<div>\n",
       "<style scoped>\n",
       "    .dataframe tbody tr th:only-of-type {\n",
       "        vertical-align: middle;\n",
       "    }\n",
       "\n",
       "    .dataframe tbody tr th {\n",
       "        vertical-align: top;\n",
       "    }\n",
       "\n",
       "    .dataframe thead th {\n",
       "        text-align: right;\n",
       "    }\n",
       "</style>\n",
       "<table border=\"1\" class=\"dataframe\">\n",
       "  <thead>\n",
       "    <tr style=\"text-align: right;\">\n",
       "      <th></th>\n",
       "      <th>genre</th>\n",
       "      <th>na_sales</th>\n",
       "    </tr>\n",
       "  </thead>\n",
       "  <tbody>\n",
       "    <tr>\n",
       "      <td>0</td>\n",
       "      <td>Action</td>\n",
       "      <td>177.84</td>\n",
       "    </tr>\n",
       "    <tr>\n",
       "      <td>1</td>\n",
       "      <td>Shooter</td>\n",
       "      <td>144.77</td>\n",
       "    </tr>\n",
       "    <tr>\n",
       "      <td>2</td>\n",
       "      <td>Sports</td>\n",
       "      <td>81.53</td>\n",
       "    </tr>\n",
       "    <tr>\n",
       "      <td>3</td>\n",
       "      <td>Role-Playing</td>\n",
       "      <td>64.00</td>\n",
       "    </tr>\n",
       "    <tr>\n",
       "      <td>4</td>\n",
       "      <td>Misc</td>\n",
       "      <td>38.19</td>\n",
       "    </tr>\n",
       "  </tbody>\n",
       "</table>\n",
       "</div>"
      ],
      "text/plain": [
       "          genre  na_sales\n",
       "0        Action    177.84\n",
       "1       Shooter    144.77\n",
       "2        Sports     81.53\n",
       "3  Role-Playing     64.00\n",
       "4          Misc     38.19"
      ]
     },
     "metadata": {},
     "output_type": "display_data"
    },
    {
     "name": "stdout",
     "output_type": "stream",
     "text": [
      "\n",
      "Диаграмма самые популярные жанры по региону: na_sales\n"
     ]
    },
    {
     "data": {
      "image/png": "[encoded data removed]",
      "text/plain": [
       "<Figure size 432x288 with 1 Axes>"
      ]
     },
     "metadata": {
      "needs_background": "light"
     },
     "output_type": "display_data"
    },
    {
     "name": "stdout",
     "output_type": "stream",
     "text": [
      "Таблица самые популярные жанры по региону: eu_sales\n"
     ]
    },
    {
     "data": {
      "text/html": [
       "<div>\n",
       "<style scoped>\n",
       "    .dataframe tbody tr th:only-of-type {\n",
       "        vertical-align: middle;\n",
       "    }\n",
       "\n",
       "    .dataframe tbody tr th {\n",
       "        vertical-align: top;\n",
       "    }\n",
       "\n",
       "    .dataframe thead th {\n",
       "        text-align: right;\n",
       "    }\n",
       "</style>\n",
       "<table border=\"1\" class=\"dataframe\">\n",
       "  <thead>\n",
       "    <tr style=\"text-align: right;\">\n",
       "      <th></th>\n",
       "      <th>genre</th>\n",
       "      <th>eu_sales</th>\n",
       "    </tr>\n",
       "  </thead>\n",
       "  <tbody>\n",
       "    <tr>\n",
       "      <td>0</td>\n",
       "      <td>Action</td>\n",
       "      <td>159.34</td>\n",
       "    </tr>\n",
       "    <tr>\n",
       "      <td>1</td>\n",
       "      <td>Shooter</td>\n",
       "      <td>113.47</td>\n",
       "    </tr>\n",
       "    <tr>\n",
       "      <td>2</td>\n",
       "      <td>Sports</td>\n",
       "      <td>69.09</td>\n",
       "    </tr>\n",
       "    <tr>\n",
       "      <td>3</td>\n",
       "      <td>Role-Playing</td>\n",
       "      <td>48.53</td>\n",
       "    </tr>\n",
       "    <tr>\n",
       "      <td>4</td>\n",
       "      <td>Racing</td>\n",
       "      <td>27.29</td>\n",
       "    </tr>\n",
       "  </tbody>\n",
       "</table>\n",
       "</div>"
      ],
      "text/plain": [
       "          genre  eu_sales\n",
       "0        Action    159.34\n",
       "1       Shooter    113.47\n",
       "2        Sports     69.09\n",
       "3  Role-Playing     48.53\n",
       "4        Racing     27.29"
      ]
     },
     "metadata": {},
     "output_type": "display_data"
    },
    {
     "name": "stdout",
     "output_type": "stream",
     "text": [
      "\n",
      "Диаграмма самые популярные жанры по региону: eu_sales\n"
     ]
    },
    {
     "data": {
      "image/png": "[encoded data removed]",
      "text/plain": [
       "<Figure size 432x288 with 1 Axes>"
      ]
     },
     "metadata": {
      "needs_background": "light"
     },
     "output_type": "display_data"
    },
    {
     "name": "stdout",
     "output_type": "stream",
     "text": [
      "Таблица самые популярные жанры по региону: jp_sales\n"
     ]
    },
    {
     "data": {
      "text/html": [
       "<div>\n",
       "<style scoped>\n",
       "    .dataframe tbody tr th:only-of-type {\n",
       "        vertical-align: middle;\n",
       "    }\n",
       "\n",
       "    .dataframe tbody tr th {\n",
       "        vertical-align: top;\n",
       "    }\n",
       "\n",
       "    .dataframe thead th {\n",
       "        text-align: right;\n",
       "    }\n",
       "</style>\n",
       "<table border=\"1\" class=\"dataframe\">\n",
       "  <thead>\n",
       "    <tr style=\"text-align: right;\">\n",
       "      <th></th>\n",
       "      <th>genre</th>\n",
       "      <th>jp_sales</th>\n",
       "    </tr>\n",
       "  </thead>\n",
       "  <tbody>\n",
       "    <tr>\n",
       "      <td>0</td>\n",
       "      <td>Role-Playing</td>\n",
       "      <td>65.44</td>\n",
       "    </tr>\n",
       "    <tr>\n",
       "      <td>1</td>\n",
       "      <td>Action</td>\n",
       "      <td>52.80</td>\n",
       "    </tr>\n",
       "    <tr>\n",
       "      <td>2</td>\n",
       "      <td>Misc</td>\n",
       "      <td>12.86</td>\n",
       "    </tr>\n",
       "    <tr>\n",
       "      <td>3</td>\n",
       "      <td>Simulation</td>\n",
       "      <td>10.41</td>\n",
       "    </tr>\n",
       "    <tr>\n",
       "      <td>4</td>\n",
       "      <td>Fighting</td>\n",
       "      <td>9.44</td>\n",
       "    </tr>\n",
       "  </tbody>\n",
       "</table>\n",
       "</div>"
      ],
      "text/plain": [
       "          genre  jp_sales\n",
       "0  Role-Playing     65.44\n",
       "1        Action     52.80\n",
       "2          Misc     12.86\n",
       "3    Simulation     10.41\n",
       "4      Fighting      9.44"
      ]
     },
     "metadata": {},
     "output_type": "display_data"
    },
    {
     "name": "stdout",
     "output_type": "stream",
     "text": [
      "\n",
      "Диаграмма самые популярные жанры по региону: jp_sales\n"
     ]
    },
    {
     "data": {
      "image/png": "[encoded data removed]",
      "text/plain": [
       "<Figure size 432x288 with 1 Axes>"
      ]
     },
     "metadata": {
      "needs_background": "light"
     },
     "output_type": "display_data"
    }
   ],
   "source": [
    "# Определим самые популярные жанры (топ-5)\n",
    "for region in ['na_sales', 'eu_sales', 'jp_sales']:\n",
    "    df_relevant_region_genre = (df_relevant\n",
    "                                .pivot_table(index='genre', values=region, aggfunc='sum')\n",
    "                                .sort_values(by=region, ascending=False)\n",
    "                                .reset_index(drop=False)\n",
    "                               )\n",
    "    print('Таблица самые популярные жанры по региону:', region)\n",
    "    display(df_relevant_region_genre.head())\n",
    "    print()\n",
    "    print('Диаграмма самые популярные жанры по региону:', region)\n",
    "    df_relevant_region_genre.plot(x='genre', \n",
    "                                  y=region, \n",
    "                                  kind='bar', \n",
    "                                  grid=True, \n",
    "                                  figsize=(6, 4), \n",
    "                                  alpha=0.8, \n",
    "                                  legend=False, \n",
    "                                  title='Диаграмма самые популярные платформы по регионам')\n",
    "    plt.xlabel('Genre')\n",
    "    plt.ylabel('Region sales, mln')\n",
    "    plt.show()"
   ]
  },
  {
   "cell_type": "markdown",
   "metadata": {},
   "source": [
    "### Вывод:\n",
    "В результате анализа наиболее популярных жанров были сделы следующие выводы:\n",
    "- Топ-5 жанров в Северной Америке и Европе совпадают кроме 5 позиции. Лидерами в этих регионах являются жанры Action, Shooter, Sports, Role-Playing. На пятом месте в Северной Америке расположен жанр Misc, а в Европе Racing.\n",
    "- Топ-5 жанров в Японии существенно отличается от остальных регионов. Лидирующую позицию среди жанров занимает Role-Playing, затем следуют Action, Misc, Simulation и Fighting. Опять же мы сталкиваемся со спецификой вкуса потребителей из Японии.\n",
    "- Самым непопулярным жанром во всех странах является жанр Puzzle."
   ]
  },
  {
   "cell_type": "code",
   "execution_count": 31,
   "metadata": {},
   "outputs": [
    {
     "name": "stdout",
     "output_type": "stream",
     "text": [
      "Таблица распределение продаж по рейтингу ESRB по региону: na_sales\n"
     ]
    },
    {
     "data": {
      "text/html": [
       "<div>\n",
       "<style scoped>\n",
       "    .dataframe tbody tr th:only-of-type {\n",
       "        vertical-align: middle;\n",
       "    }\n",
       "\n",
       "    .dataframe tbody tr th {\n",
       "        vertical-align: top;\n",
       "    }\n",
       "\n",
       "    .dataframe thead th {\n",
       "        text-align: right;\n",
       "    }\n",
       "</style>\n",
       "<table border=\"1\" class=\"dataframe\">\n",
       "  <thead>\n",
       "    <tr style=\"text-align: right;\">\n",
       "      <th></th>\n",
       "      <th>rating</th>\n",
       "      <th>na_sales</th>\n",
       "    </tr>\n",
       "  </thead>\n",
       "  <tbody>\n",
       "    <tr>\n",
       "      <td>0</td>\n",
       "      <td>M</td>\n",
       "      <td>231.57</td>\n",
       "    </tr>\n",
       "    <tr>\n",
       "      <td>1</td>\n",
       "      <td>E</td>\n",
       "      <td>114.37</td>\n",
       "    </tr>\n",
       "    <tr>\n",
       "      <td>2</td>\n",
       "      <td>E10+</td>\n",
       "      <td>75.70</td>\n",
       "    </tr>\n",
       "    <tr>\n",
       "      <td>3</td>\n",
       "      <td>T</td>\n",
       "      <td>66.02</td>\n",
       "    </tr>\n",
       "  </tbody>\n",
       "</table>\n",
       "</div>"
      ],
      "text/plain": [
       "  rating  na_sales\n",
       "0      M    231.57\n",
       "1      E    114.37\n",
       "2   E10+     75.70\n",
       "3      T     66.02"
      ]
     },
     "metadata": {},
     "output_type": "display_data"
    },
    {
     "name": "stdout",
     "output_type": "stream",
     "text": [
      "\n",
      "Диаграмма распределение продаж по рейтингу ESRB по региону na_sales\n"
     ]
    },
    {
     "data": {
      "image/png": "[encoded data removed]",
      "text/plain": [
       "<Figure size 432x288 with 1 Axes>"
      ]
     },
     "metadata": {
      "needs_background": "light"
     },
     "output_type": "display_data"
    },
    {
     "name": "stdout",
     "output_type": "stream",
     "text": [
      "Таблица распределение продаж по рейтингу ESRB по региону: eu_sales\n"
     ]
    },
    {
     "data": {
      "text/html": [
       "<div>\n",
       "<style scoped>\n",
       "    .dataframe tbody tr th:only-of-type {\n",
       "        vertical-align: middle;\n",
       "    }\n",
       "\n",
       "    .dataframe tbody tr th {\n",
       "        vertical-align: top;\n",
       "    }\n",
       "\n",
       "    .dataframe thead th {\n",
       "        text-align: right;\n",
       "    }\n",
       "</style>\n",
       "<table border=\"1\" class=\"dataframe\">\n",
       "  <thead>\n",
       "    <tr style=\"text-align: right;\">\n",
       "      <th></th>\n",
       "      <th>rating</th>\n",
       "      <th>eu_sales</th>\n",
       "    </tr>\n",
       "  </thead>\n",
       "  <tbody>\n",
       "    <tr>\n",
       "      <td>0</td>\n",
       "      <td>M</td>\n",
       "      <td>193.96</td>\n",
       "    </tr>\n",
       "    <tr>\n",
       "      <td>1</td>\n",
       "      <td>E</td>\n",
       "      <td>113.03</td>\n",
       "    </tr>\n",
       "    <tr>\n",
       "      <td>2</td>\n",
       "      <td>E10+</td>\n",
       "      <td>55.37</td>\n",
       "    </tr>\n",
       "    <tr>\n",
       "      <td>3</td>\n",
       "      <td>T</td>\n",
       "      <td>52.96</td>\n",
       "    </tr>\n",
       "  </tbody>\n",
       "</table>\n",
       "</div>"
      ],
      "text/plain": [
       "  rating  eu_sales\n",
       "0      M    193.96\n",
       "1      E    113.03\n",
       "2   E10+     55.37\n",
       "3      T     52.96"
      ]
     },
     "metadata": {},
     "output_type": "display_data"
    },
    {
     "name": "stdout",
     "output_type": "stream",
     "text": [
      "\n",
      "Диаграмма распределение продаж по рейтингу ESRB по региону eu_sales\n"
     ]
    },
    {
     "data": {
      "image/png": "[encoded data removed]",
      "text/plain": [
       "<Figure size 432x288 with 1 Axes>"
      ]
     },
     "metadata": {
      "needs_background": "light"
     },
     "output_type": "display_data"
    },
    {
     "name": "stdout",
     "output_type": "stream",
     "text": [
      "Таблица распределение продаж по рейтингу ESRB по региону: jp_sales\n"
     ]
    },
    {
     "data": {
      "text/html": [
       "<div>\n",
       "<style scoped>\n",
       "    .dataframe tbody tr th:only-of-type {\n",
       "        vertical-align: middle;\n",
       "    }\n",
       "\n",
       "    .dataframe tbody tr th {\n",
       "        vertical-align: top;\n",
       "    }\n",
       "\n",
       "    .dataframe thead th {\n",
       "        text-align: right;\n",
       "    }\n",
       "</style>\n",
       "<table border=\"1\" class=\"dataframe\">\n",
       "  <thead>\n",
       "    <tr style=\"text-align: right;\">\n",
       "      <th></th>\n",
       "      <th>rating</th>\n",
       "      <th>jp_sales</th>\n",
       "    </tr>\n",
       "  </thead>\n",
       "  <tbody>\n",
       "    <tr>\n",
       "      <td>0</td>\n",
       "      <td>E</td>\n",
       "      <td>28.33</td>\n",
       "    </tr>\n",
       "    <tr>\n",
       "      <td>1</td>\n",
       "      <td>T</td>\n",
       "      <td>26.02</td>\n",
       "    </tr>\n",
       "    <tr>\n",
       "      <td>2</td>\n",
       "      <td>M</td>\n",
       "      <td>21.20</td>\n",
       "    </tr>\n",
       "    <tr>\n",
       "      <td>3</td>\n",
       "      <td>E10+</td>\n",
       "      <td>8.19</td>\n",
       "    </tr>\n",
       "  </tbody>\n",
       "</table>\n",
       "</div>"
      ],
      "text/plain": [
       "  rating  jp_sales\n",
       "0      E     28.33\n",
       "1      T     26.02\n",
       "2      M     21.20\n",
       "3   E10+      8.19"
      ]
     },
     "metadata": {},
     "output_type": "display_data"
    },
    {
     "name": "stdout",
     "output_type": "stream",
     "text": [
      "\n",
      "Диаграмма распределение продаж по рейтингу ESRB по региону jp_sales\n"
     ]
    },
    {
     "data": {
      "image/png": "[encoded data removed]",
      "text/plain": [
       "<Figure size 432x288 with 1 Axes>"
      ]
     },
     "metadata": {
      "needs_background": "light"
     },
     "output_type": "display_data"
    }
   ],
   "source": [
    "# Определим влияет ли рейтинг ESRB на продажи в отдельном регионе\n",
    "for region in ['na_sales', 'eu_sales', 'jp_sales']:\n",
    "    df_relevant_rating = (df_relevant\n",
    "                                .query('rating != \"N\"')\n",
    "                                .pivot_table(index='rating', values=region, aggfunc='sum')\n",
    "                                .sort_values(by=region, ascending=False)\n",
    "                                .reset_index(drop=False)\n",
    "                               )\n",
    "    print('Таблица распределение продаж по рейтингу ESRB по региону:', region)\n",
    "    display(df_relevant_rating)\n",
    "    print()\n",
    "    print('Диаграмма распределение продаж по рейтингу ESRB по региону', region)\n",
    "    df_relevant_rating.plot(x='rating', y=region, kind='bar', grid=True, figsize=(6, 4), alpha=0.8, legend=False, title='Распределение продаж по рейтингу ESRB по регионам')\n",
    "    plt.xlabel('Rating ESRB')\n",
    "    plt.ylabel('Region sales, mln')\n",
    "    plt.show()"
   ]
  },
  {
   "cell_type": "markdown",
   "metadata": {},
   "source": [
    "### Вывод:\n",
    "Исследование влияния рейтинга ESRB на продажи в отдельном регионе позволило сделать следующие выводы:\n",
    "- Распределение продаж по рейтингу ESRB в Северной Америке и Европе идентично. Наиболее популярны игры M (17+), на втором месте E (everyone), на третьем - E+10, на четвертом - T (teen).\n",
    "- В Японии на превом месте расположилось E, на втором - T, на третьем - M, на четвертом - E10+.\n",
    "- Исходя из полученных результатов можно предположить, что в Японии более активными потребителями игр являются дети и подростки, в то время как в Северной Америке и Европе основными потребителями является более старшая аудитория - люди старше 17 лет. "
   ]
  },
  {
   "cell_type": "markdown",
   "metadata": {},
   "source": [
    "## 5. Проверка гипотез о пользовательских рейтингах <a id=\"hypothesis\"></a>"
   ]
  },
  {
   "cell_type": "markdown",
   "metadata": {},
   "source": [
    "### Проверка гипотезы: cредние пользовательские рейтинги платформ Xbox One и PC одинаковые\n",
    "Начнем с формирования нулевой гипотезы Н0. Нулевую гипотезу сформируем таким образом, чтобы использовать знак равенства.\n",
    "- **Нo**: cредний пользовательский рейтинг платформы Xbox One равен cреднему пользовательскому рейтингу платформы PC.\n",
    "Мы можем предположить отклонение наблюдаемого значения в обе стороны, поэтому сформируем двухстороннюю альтернативную гипотезу.\n",
    "- **H1**: cредний пользовательский рейтинг платформы Xbox One не равен cреднему пользовательскому рейтингу платформы PC.\n",
    "Если мы отвергнем Ho, то можно сделать предположение, что cредние пользовательские рейтинги платформ Xbox One и PC различаются.\n",
    "\n",
    "**Выбор статистического критерия:** В данном случае нам необходимо провести анализ различий между группами. Тип данных - количественные. Количество групп для анализа - 2. Выборки являются независимыми. Исходя из полученных гистограмм и графиков плотности распределения значений рейтинга, можно предположить, что в данном случае значения имеют нормальное распределение. В связи с этим применим t-критерий Стьюдента для независисмых выборок. \n",
    "\n",
    "Для сравнения средних значений двух генеральных совокупностей воспользуемся t-критерием Стьюдента, т.е. для того чтобы определить различаются ли cредние пользовательские рейтинги платформ Xbox One и PC , применим метод scipy.stats.ttest_ind. Для применения данного критерия необходимо, чтобы исходные данные имели нормальное распределение. "
   ]
  },
  {
   "cell_type": "code",
   "execution_count": 32,
   "metadata": {},
   "outputs": [
    {
     "data": {
      "image/png": "[encoded data removed]",
      "text/plain": [
       "<Figure size 432x288 with 1 Axes>"
      ]
     },
     "metadata": {
      "needs_background": "light"
     },
     "output_type": "display_data"
    },
    {
     "data": {
      "image/png": "[encoded data removed]",
      "text/plain": [
       "<Figure size 432x288 with 1 Axes>"
      ]
     },
     "metadata": {
      "needs_background": "light"
     },
     "output_type": "display_data"
    }
   ],
   "source": [
    "# Построим гистограммы распределений значений пользовательского рейтинга по платформам Xbox One и PC\n",
    "df_xbox_one = df_relevant.query('platform == \"XOne\" & user_score != 0')\n",
    "df_pc = df_relevant.query('platform == \"PC\" & user_score != 0')\n",
    "\n",
    "# Масштабируем данные для приведения их к общей шкале без потери информации о различии диапазонов\n",
    "normalized_xbox_one =(df_xbox_one['user_score'] - df_xbox_one['user_score'].mean()) / df_xbox_one['user_score'].std()\n",
    "normalized_pc =(df_pc['user_score'] - df_pc['user_score'].mean()) / df_pc['user_score'].std()\n",
    "\n",
    "# Построим график и гистограмму плотности распределения пользовательского рейтинга по платформе Xbox One\n",
    "sns.distplot(normalized_xbox_one, bins=10, fit=norm, fit_kws = {'color':'red', 'linestyle':'--', 'alpha': 0.6}, label = \"Xbox rating\")\n",
    "plt.suptitle('Гистограмма и график плотности распределения значений пользовательского рейтинга по платформе Xbox One')\n",
    "plt.xlabel('Score')\n",
    "plt.ylabel('Density')\n",
    "plt.legend()\n",
    "plt.show()\n",
    "\n",
    "# Построим график и гистограмму плотности распределения значений пользовательского рейтинга по платформе PC\n",
    "sns.distplot(normalized_pc, bins=10, fit=norm, fit_kws = {'color':'red', 'linestyle':'--', 'alpha': 0.6}, label = \"PC rating\") \n",
    "plt.suptitle('Гистограмма и график плотности распределения значений пользовательского рейтинга по платформе PC')\n",
    "plt.xlabel('Score')\n",
    "plt.ylabel('Density')\n",
    "plt.legend()\n",
    "plt.show()"
   ]
  },
  {
   "cell_type": "code",
   "execution_count": 33,
   "metadata": {},
   "outputs": [
    {
     "name": "stdout",
     "output_type": "stream",
     "text": [
      "p-значение: 0.5489537965134912\n",
      "Не получилось отвергнуть нулевую гипотезу\n"
     ]
    }
   ],
   "source": [
    "# Проверим гипотезу Нo: cредние пользовательские рейтинги платформ Xbox One и PC равны\n",
    "\n",
    "xbox_one = df_xbox_one['user_score']\n",
    "pc = df_pc['user_score']\n",
    "\n",
    "alpha = 0.05 \n",
    "\n",
    "results = st.ttest_ind(\n",
    "    xbox_one, \n",
    "    pc,\n",
    "    equal_var=False)\n",
    "\n",
    "print('p-значение:', results.pvalue)\n",
    "\n",
    "if (results.pvalue < alpha):\n",
    "    print(\"Отвергаем нулевую гипотезу\")\n",
    "else:\n",
    "    print(\"Не получилось отвергнуть нулевую гипотезу\") "
   ]
  },
  {
   "cell_type": "markdown",
   "metadata": {},
   "source": [
    "### Вывод по гипотезе 1:\n",
    "В результате проверки гипотезы Ho: cредние пользовательские рейтинги платформ Xbox One и PC равны - не была отвергнута. Полученное значение p-value говорит о том, что хотя средний рейтинг на платформах неодинаков, с вероятностью в около 55% такое различие можно получить случайно. Исходя из этого, утверждать о различиях в среднем пользовательском рейтинге некорректно. Можно предположить, что пользовательские рейтинги платформ Xbox One и PC одинаковые."
   ]
  },
  {
   "cell_type": "markdown",
   "metadata": {},
   "source": [
    "### Проверка гипотезы: cредние пользовательские рейтинги жанров Action и Sports разные\n",
    "Начнем с формирования нулевой гипотезы Н0. Нулевую гипотезу сформируем таким образом, чтобы использовать знак равенства.\n",
    "- **Нo**: cредний пользовательский рейтинг жанра Action равен cреднему пользовательскому рейтингу жанра Sports.\n",
    "Мы можем предположить отклонение наблюдаемого значения в обе стороны, поэтому сформируем двухстороннюю альтернативную гипотезу.\n",
    "- **H1**: cредний пользовательский рейтинг жанра Action не равен cреднему пользовательскому рейтингу жанра Sports.\n",
    "Если мы отвергнем Ho, то можно сделать предположение, что cредние пользовательские рейтинги по жанрам Action и Sports различаются.\n",
    "\n",
    "**Выбор статистического критерия:** В данном случае нам необходимо провести анализ различий между группами. Тип данных - количественные. Количество групп для анализа - 2. Выборки являются независимыми. Исходя из полученных гистограмм и графиков плотности распределения значений рейтинга, можно предположить, что в данном случае значения имеют нормальное распределение. В связи с этим применим t-критерия Стьюдента для независисмых выборок. \n",
    "\n",
    "Для сравнения средних значений двух генеральных совокупностей воспользуемся t-критерием Стьюдента, т.е. для того чтобы определить различаются ли cредние пользовательские рейтинги по жанрам Action и Sports, применим метод scipy.stats.ttest_ind. Для применения данного критерия необходимо, чтобы исходные данные имели нормальное распределение. "
   ]
  },
  {
   "cell_type": "code",
   "execution_count": 34,
   "metadata": {},
   "outputs": [
    {
     "data": {
      "image/png": "[encoded data removed]",
      "text/plain": [
       "<Figure size 432x288 with 1 Axes>"
      ]
     },
     "metadata": {
      "needs_background": "light"
     },
     "output_type": "display_data"
    },
    {
     "data": {
      "image/png": "[encoded data removed]",
      "text/plain": [
       "<Figure size 432x288 with 1 Axes>"
      ]
     },
     "metadata": {
      "needs_background": "light"
     },
     "output_type": "display_data"
    }
   ],
   "source": [
    "# Построим гистограммы распределений значений пользовательского рейтинга по жанрам Action и Sports\n",
    "df_action = df_relevant.query('genre == \"Action\" & user_score != 0')\n",
    "df_sports = df_relevant.query('genre == \"Sports\" & user_score != 0')\n",
    "\n",
    "# Масштабируем данные для приведения их к общей шкале без потери информации о различии диапазонов\n",
    "normalized_action =(df_action['user_score'] - df_action['user_score'].mean()) / df_action['user_score'].std()\n",
    "normalized_sports =(df_sports['user_score'] - df_sports['user_score'].mean()) / df_sports['user_score'].std()\n",
    "\n",
    "# Построим график и гистограмму плотности распределения пользовательского рейтинга по жанру Action\n",
    "sns.distplot(normalized_action, bins=10, fit=norm, fit_kws = {'color':'red', 'linestyle':'--', 'alpha': 0.6}, label = \"Action rating\")\n",
    "plt.suptitle('Гистограмма и график плотности распределения значений пользовательского рейтинга по жанру Action')\n",
    "plt.xlabel('Score')\n",
    "plt.ylabel('Density')\n",
    "plt.legend()\n",
    "plt.show()\n",
    "\n",
    "# Построим график и гистограмму плотности распределения значений пользовательского рейтинга по жанру Sports\n",
    "sns.distplot(normalized_sports, bins=10, fit=norm, fit_kws = {'color':'red', 'linestyle':'--', 'alpha': 0.6}, label = \"Sports rating\") \n",
    "plt.suptitle('Гистограмма и график плотности распределения значений пользовательского рейтинга по жанру Sports')\n",
    "plt.xlabel('Score')\n",
    "plt.ylabel('Density')\n",
    "plt.legend()\n",
    "plt.show()"
   ]
  },
  {
   "cell_type": "code",
   "execution_count": 35,
   "metadata": {},
   "outputs": [
    {
     "name": "stdout",
     "output_type": "stream",
     "text": [
      "p-значение: 4.24307776572644e-20\n",
      "Отвергаем нулевую гипотезу\n"
     ]
    }
   ],
   "source": [
    "# Проверим гипотезу Нo: cредний пользовательский рейтинг жанра Action равен cреднему пользовательскому рейтингу жанра Sports\n",
    "\n",
    "action = df_action['user_score']\n",
    "sports = df_sports['user_score']\n",
    "\n",
    "alpha = 0.05 \n",
    "\n",
    "results = st.ttest_ind(\n",
    "    action, \n",
    "    sports,\n",
    "    equal_var=False)\n",
    "\n",
    "print('p-значение:', results.pvalue)\n",
    "\n",
    "if (results.pvalue < alpha):\n",
    "    print(\"Отвергаем нулевую гипотезу\")\n",
    "else:\n",
    "    print(\"Не получилось отвергнуть нулевую гипотезу\") "
   ]
  },
  {
   "cell_type": "markdown",
   "metadata": {},
   "source": [
    "### Вывод по гипотезе 2:\n",
    "В результате проверки статичтического критерия мы отвергли гипотезу Hо о равенстве cреднего пользовательского рейтинга жанров Action и Sports. Полученное значение p-value говорит о том, что средний пользовательский рейтинг неодинаков, а вероятность получить такое различие случайно крайне мала. Можно сделать предположение, что средний пользовательский рейтинг жанров Action и Sports различается."
   ]
  },
  {
   "cell_type": "markdown",
   "metadata": {},
   "source": [
    "## 6. Общий вывод <a id=\"result\"></a>"
   ]
  },
  {
   "cell_type": "markdown",
   "metadata": {},
   "source": [
    "В результате проекта \"Исследование данных о продаже игр\" нами был проведен анализ входных данных, определены направления предобработки данных. Затем на этапе предобработки данных были заполнены пропущенные значения, были применены методы удаления строк и т.д. Также в рамках предобработки были скорректированы типы данных, где были изначально указаны ошибочно или тип был неоптимален. По итогам предобработки данных была проведена проверка качества ее выполнения. Затем были проведены расчеты дополнительных параметров, таких как суммарные продажи игр по всем регионам.\n",
    "<br> В процессе проведения исследовательского анализа данных был определен актуальный для анализа период (2012-2016 гг.). По актуальным данным было исследовано влияния игровых платформ на объем продаж. Исходя из анализа за период 2012-2016 гг., было выявлено, что PS4 является лидером по объему продаж игр в 2016 г., на втором месте XOne и на третьем месте 3DS. Предполагается, что в 2017 г. PS4 сохранит лидирующие позиции по объему продаж и является наиболее перспективной для инвестирования.\n",
    "<br>В результате анализа взаимосвязи оценок пользователей и критиков с объемом продаж на популярных платформах, мы пришли к выводу, что существует умеренная взаимосвязь между оценками критиков и популярностью игр, коэффициент корреляции Пирсона изменяется в интервале от 0,32 до 0,42. Однако оценка пользователей почти не оказывает влияние на потребление игр.\n",
    "<br> В результате исследования зависимости между жанром игр и объемом продаж было определено, что жанр Action является лидером по объему продаж, при этом аиболее рентабельным является жанр Shooter, который на втором месте по совокумному объему выпуска игр после Action.\n",
    "<br> Формирование портрета пользователя позволило выявить сходство между пользователями из Европы и Северной Америки и их значительные отличия от пользователей из Японии. В Европе структура популярных платформ весьма сходна с Северной Америкой. Наибольшая часть продаж в обоих регионах сфокусирована на 3 платформах PS4, X360 и PS3, которые покрывают 60% продаж в Северной Америке и 65% в Европе. В Японии ситуация координально отличает от Европы и Северной Америки. В частности лидирующую позицию по популярности занимает платформа 3DS, которая в Европе и Северной Америке занимает нижнюю строчку топ-5 платформ.\n",
    "<br> Анализ популярных жанров по регионам также позволил выявить сходство между пользователями из Европы и Северной Америки. Лидерами в этих регионах являются жанры Action, Shooter, Sports. При этом в Японии лидерами являются такие жанры как Role-Playing, Action, Misc.\n",
    "<br> Исследование влияния рейтинга ESRB на продажи в отдельном регионе позволило сделать вывод, что в Японии более активными потребителями игр являются дети и подростки, в то время как в Северной Америке и Европе основными потребителями является более старшая аудитория - люди старше 17 лет.\n",
    "<br>На этапе проверки гипотез были проверены две гипотезы.\n",
    "<br>В результате проверки гипотезы Ho: cредние пользовательские рейтинги платформ Xbox One и PC равны - гипотеза не была отвергнута. Можно предположить, что пользовательские рейтинги платформ Xbox One и PC одинаковые.\n",
    "<br>В результате проверки мы отвергли гипотезу Hо о равенстве cреднего пользовательского рейтинга жанров Action и Sports. Можно сделать предположение, что средний пользовательский рейтинг жанров Action и Sports различается."
   ]
  }
 ],
 "metadata": {
  "kernelspec": {
   "display_name": "Python 3",
   "language": "python",
   "name": "python3"
  },
  "language_info": {
   "codemirror_mode": {
    "name": "ipython",
    "version": 3
   },
   "file_extension": ".py",
   "mimetype": "text/x-python",
   "name": "python",
   "nbconvert_exporter": "python",
   "pygments_lexer": "ipython3",
   "version": "3.7.8"
  },
  "toc": {
   "base_numbering": 1,
   "nav_menu": {},
   "number_sections": false,
   "sideBar": true,
   "skip_h1_title": false,
   "title_cell": "Table of Contents",
   "title_sidebar": "Contents",
   "toc_cell": false,
   "toc_position": {},
   "toc_section_display": true,
   "toc_window_display": false
  }
 },
 "nbformat": 4,
 "nbformat_minor": 2
}
