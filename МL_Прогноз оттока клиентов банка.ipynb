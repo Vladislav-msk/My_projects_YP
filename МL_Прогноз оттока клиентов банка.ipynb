{
 "cells": [
  {
   "cell_type": "markdown",
   "metadata": {
    "toc": true
   },
   "source": [
    "<h1>Содержание:<span class=\"tocSkip\"></span></h1>\n",
    "<div class=\"toc\"><ul class=\"toc-item\"><li><span><a href=\"#Подготовка-данных\" data-toc-modified-id=\"Подготовка-данных-1\"><span class=\"toc-item-num\">1&nbsp;&nbsp;</span>Подготовка данных</a></span><ul class=\"toc-item\"><li><span><a href=\"#Импорт-данных-и-первичное-ознакомление\" data-toc-modified-id=\"Импорт-данных-и-первичное-ознакомление-1.1\"><span class=\"toc-item-num\">1.1&nbsp;&nbsp;</span>Импорт данных и первичное ознакомление</a></span></li><li><span><a href=\"#Анализ-входных-данных\" data-toc-modified-id=\"Анализ-входных-данных-1.2\"><span class=\"toc-item-num\">1.2&nbsp;&nbsp;</span>Анализ входных данных</a></span></li><li><span><a href=\"#Проверка-наличия-мультиколлинеарности-признаков\" data-toc-modified-id=\"Проверка-наличия-мультиколлинеарности-признаков-1.3\"><span class=\"toc-item-num\">1.3&nbsp;&nbsp;</span>Проверка наличия мультиколлинеарности признаков</a></span></li><li><span><a href=\"#Прямое-кодирование\" data-toc-modified-id=\"Прямое-кодирование-1.4\"><span class=\"toc-item-num\">1.4&nbsp;&nbsp;</span>Прямое кодирование</a></span></li><li><span><a href=\"#Разделение-данных\" data-toc-modified-id=\"Разделение-данных-1.5\"><span class=\"toc-item-num\">1.5&nbsp;&nbsp;</span>Разделение данных</a></span></li><li><span><a href=\"#Стандартизация-данных\" data-toc-modified-id=\"Стандартизация-данных-1.6\"><span class=\"toc-item-num\">1.6&nbsp;&nbsp;</span>Стандартизация данных</a></span></li></ul></li><li><span><a href=\"#Исследование-задачи\" data-toc-modified-id=\"Исследование-задачи-2\"><span class=\"toc-item-num\">2&nbsp;&nbsp;</span>Исследование задачи</a></span><ul class=\"toc-item\"><li><span><a href=\"#Исследование-баланса--классов\" data-toc-modified-id=\"Исследование-баланса--классов-2.1\"><span class=\"toc-item-num\">2.1&nbsp;&nbsp;</span>Исследование баланса  классов</a></span></li><li><span><a href=\"#Изучение-моделей-без-учета-дисбаланса-классов\" data-toc-modified-id=\"Изучение-моделей-без-учета-дисбаланса-классов-2.2\"><span class=\"toc-item-num\">2.2&nbsp;&nbsp;</span>Изучение моделей без учета дисбаланса классов</a></span><ul class=\"toc-item\"><li><span><a href=\"#A-decision-tree-classifier\" data-toc-modified-id=\"A-decision-tree-classifier-2.2.1\"><span class=\"toc-item-num\">2.2.1&nbsp;&nbsp;</span>A decision tree classifier</a></span></li><li><span><a href=\"#A-random-forest-classifier\" data-toc-modified-id=\"A-random-forest-classifier-2.2.2\"><span class=\"toc-item-num\">2.2.2&nbsp;&nbsp;</span>A random forest classifier</a></span></li><li><span><a href=\"#Logistic-regression\" data-toc-modified-id=\"Logistic-regression-2.2.3\"><span class=\"toc-item-num\">2.2.3&nbsp;&nbsp;</span>Logistic regression</a></span></li><li><span><a href=\"#Вывод:\" data-toc-modified-id=\"Вывод:-2.2.4\"><span class=\"toc-item-num\">2.2.4&nbsp;&nbsp;</span>Вывод:</a></span></li></ul></li></ul></li><li><span><a href=\"#Борьба-с-дисбалансом\" data-toc-modified-id=\"Борьба-с-дисбалансом-3\"><span class=\"toc-item-num\">3&nbsp;&nbsp;</span>Борьба с дисбалансом</a></span><ul class=\"toc-item\"><li><span><a href=\"#Взвешивание-классов\" data-toc-modified-id=\"Взвешивание-классов-3.1\"><span class=\"toc-item-num\">3.1&nbsp;&nbsp;</span>Взвешивание классов</a></span><ul class=\"toc-item\"><li><span><a href=\"#A-decision-tree-classifier\" data-toc-modified-id=\"A-decision-tree-classifier-3.1.1\"><span class=\"toc-item-num\">3.1.1&nbsp;&nbsp;</span>A decision tree classifier</a></span></li><li><span><a href=\"#A-random-forest-classifier\" data-toc-modified-id=\"A-random-forest-classifier-3.1.2\"><span class=\"toc-item-num\">3.1.2&nbsp;&nbsp;</span>A random forest classifier</a></span></li><li><span><a href=\"#Logistic-regression\" data-toc-modified-id=\"Logistic-regression-3.1.3\"><span class=\"toc-item-num\">3.1.3&nbsp;&nbsp;</span>Logistic regression</a></span></li><li><span><a href=\"#Test-results-&quot;Weighing&quot;\" data-toc-modified-id=\"Test-results-&quot;Weighing&quot;-3.1.4\"><span class=\"toc-item-num\">3.1.4&nbsp;&nbsp;</span>Test results \"Weighing\"</a></span></li><li><span><a href=\"#Вывод:\" data-toc-modified-id=\"Вывод:-3.1.5\"><span class=\"toc-item-num\">3.1.5&nbsp;&nbsp;</span>Вывод:</a></span></li></ul></li><li><span><a href=\"#Upsampling\" data-toc-modified-id=\"Upsampling-3.2\"><span class=\"toc-item-num\">3.2&nbsp;&nbsp;</span>Upsampling</a></span><ul class=\"toc-item\"><li><span><a href=\"#A-decision-tree-classifier\" data-toc-modified-id=\"A-decision-tree-classifier-3.2.1\"><span class=\"toc-item-num\">3.2.1&nbsp;&nbsp;</span>A decision tree classifier</a></span></li><li><span><a href=\"#A-random-forest-classifier\" data-toc-modified-id=\"A-random-forest-classifier-3.2.2\"><span class=\"toc-item-num\">3.2.2&nbsp;&nbsp;</span>A random forest classifier</a></span></li><li><span><a href=\"#Logistic-regression\" data-toc-modified-id=\"Logistic-regression-3.2.3\"><span class=\"toc-item-num\">3.2.3&nbsp;&nbsp;</span>Logistic regression</a></span></li><li><span><a href=\"#Test-results-&quot;Upsampling&quot;\" data-toc-modified-id=\"Test-results-&quot;Upsampling&quot;-3.2.4\"><span class=\"toc-item-num\">3.2.4&nbsp;&nbsp;</span>Test results \"Upsampling\"</a></span></li><li><span><a href=\"#Вывод:\" data-toc-modified-id=\"Вывод:-3.2.5\"><span class=\"toc-item-num\">3.2.5&nbsp;&nbsp;</span>Вывод:</a></span></li></ul></li><li><span><a href=\"#Downsampling\" data-toc-modified-id=\"Downsampling-3.3\"><span class=\"toc-item-num\">3.3&nbsp;&nbsp;</span>Downsampling</a></span><ul class=\"toc-item\"><li><span><a href=\"#A-decision-tree-classifier\" data-toc-modified-id=\"A-decision-tree-classifier-3.3.1\"><span class=\"toc-item-num\">3.3.1&nbsp;&nbsp;</span>A decision tree classifier</a></span></li><li><span><a href=\"#A-random-forest-classifier\" data-toc-modified-id=\"A-random-forest-classifier-3.3.2\"><span class=\"toc-item-num\">3.3.2&nbsp;&nbsp;</span>A random forest classifier</a></span></li><li><span><a href=\"#Logistic-regression\" data-toc-modified-id=\"Logistic-regression-3.3.3\"><span class=\"toc-item-num\">3.3.3&nbsp;&nbsp;</span>Logistic regression</a></span></li><li><span><a href=\"#Test-results-&quot;Downsampling&quot;\" data-toc-modified-id=\"Test-results-&quot;Downsampling&quot;-3.3.4\"><span class=\"toc-item-num\">3.3.4&nbsp;&nbsp;</span>Test results \"Downsampling\"</a></span></li><li><span><a href=\"#Вывод:\" data-toc-modified-id=\"Вывод:-3.3.5\"><span class=\"toc-item-num\">3.3.5&nbsp;&nbsp;</span>Вывод:</a></span></li></ul></li><li><span><a href=\"#Вывод-по-этапу-3:\" data-toc-modified-id=\"Вывод-по-этапу-3:-3.4\"><span class=\"toc-item-num\">3.4&nbsp;&nbsp;</span>Вывод по этапу 3:</a></span></li></ul></li><li><span><a href=\"#Тестирование-модели\" data-toc-modified-id=\"Тестирование-модели-4\"><span class=\"toc-item-num\">4&nbsp;&nbsp;</span>Тестирование модели</a></span><ul class=\"toc-item\"><li><span><a href=\"#Проверка-качества-модели-на-тестовой-выборке\" data-toc-modified-id=\"Проверка-качества-модели-на-тестовой-выборке-4.1\"><span class=\"toc-item-num\">4.1&nbsp;&nbsp;</span>Проверка качества модели на тестовой выборке</a></span></li><li><span><a href=\"#Повышение-качества-модели-и-тестирование\" data-toc-modified-id=\"Повышение-качества-модели-и-тестирование-4.2\"><span class=\"toc-item-num\">4.2&nbsp;&nbsp;</span>Повышение качества модели и тестирование</a></span></li><li><span><a href=\"#Вывод:\" data-toc-modified-id=\"Вывод:-4.3\"><span class=\"toc-item-num\">4.3&nbsp;&nbsp;</span>Вывод:</a></span></li></ul></li><li><span><a href=\"#Общий-вывод:\" data-toc-modified-id=\"Общий-вывод:-5\"><span class=\"toc-item-num\">5&nbsp;&nbsp;</span>Общий вывод:</a></span></li><li><span><a href=\"#Общий-комментарий\" data-toc-modified-id=\"Общий-комментарий-6\"><span class=\"toc-item-num\">6&nbsp;&nbsp;</span>Общий комментарий</a></span></li></ul></div>"
   ]
  },
  {
   "cell_type": "markdown",
   "metadata": {},
   "source": [
    "# Отток клиентов"
   ]
  },
  {
   "cell_type": "markdown",
   "metadata": {},
   "source": [
    "**Цель и задачи проекта**\n",
    "\n",
    "*Цель проекта:*\n",
    "- Построить модель для прогноза ухода клиента из «Бета-Банка» с предельно большим значением F1-меры (не менее 0.59) \n",
    "\n",
    "*Для достижения цели проекта следует выполнить следующие задачи:*\n",
    "1. Провести первичный анализ и подготовку входных данных;\n",
    "2. Исследовать баланс классов;\n",
    "3. Разделить исходные данные на обучающую, валидационную и тестовую выборки;\n",
    "4. Обучить модель без учёта дисбаланса классов;\n",
    "5. Улучшить качество модели, учитывая дисбаланс классов. \n",
    "6. Обучить разные модели и выбрать лучшую;\n",
    "7. Проверить качество модели на тестовой выборке."
   ]
  },
  {
   "cell_type": "markdown",
   "metadata": {},
   "source": [
    "**Описание входных данных**\n",
    "\n",
    "Получены исторические данные о поведении клиентов и расторжении договоров с банком.\n",
    "\n",
    "Источник данных: https://www.kaggle.com/barelydedicated/bank-customer-churn-modeling\n",
    "\n",
    "*Признаки*\n",
    "- RowNumber — индекс строки в данных\n",
    "- CustomerId — уникальный идентификатор клиента\n",
    "- Surname — фамилия\n",
    "- CreditScore — кредитный рейтинг\n",
    "- Geography — страна проживания\n",
    "- Gender — пол\n",
    "- Age — возраст\n",
    "- Tenure — количество недвижимости у клиента\n",
    "- Balance — баланс на счёте\n",
    "- NumOfProducts — количество продуктов банка, используемых клиентом\n",
    "- HasCrCard — наличие кредитной карты\n",
    "- IsActiveMember — активность клиента\n",
    "- EstimatedSalary — предполагаемая зарплата\n",
    "\n",
    "*Целевой признак*\n",
    "- Exited — факт ухода клиента"
   ]
  },
  {
   "cell_type": "markdown",
   "metadata": {},
   "source": [
    "## Подготовка данных"
   ]
  },
  {
   "cell_type": "markdown",
   "metadata": {},
   "source": [
    "### Импорт данных и первичное ознакомление"
   ]
  },
  {
   "cell_type": "code",
   "execution_count": 1,
   "metadata": {},
   "outputs": [],
   "source": [
    "# Импорт библиотек\n",
    "import pandas as pd\n",
    "import numpy as np\n",
    "\n",
    "from sklearn.tree import DecisionTreeClassifier\n",
    "from sklearn.ensemble import RandomForestClassifier\n",
    "from sklearn.linear_model import LogisticRegression\n",
    "\n",
    "from sklearn.model_selection import train_test_split\n",
    "from sklearn.preprocessing import StandardScaler\n",
    "from sklearn.metrics import f1_score\n",
    "from sklearn.metrics import roc_auc_score\n",
    "from sklearn.dummy import DummyClassifier\n",
    "\n",
    "from IPython.display import display\n",
    "pd.options.display.max_columns = None\n",
    "import matplotlib.pyplot as plt"
   ]
  },
  {
   "cell_type": "code",
   "execution_count": 2,
   "metadata": {},
   "outputs": [],
   "source": [
    "# Открытие данных\n",
    "df = pd.read_csv('/datasets/Churn.csv')"
   ]
  },
  {
   "cell_type": "code",
   "execution_count": 3,
   "metadata": {},
   "outputs": [
    {
     "data": {
      "text/html": [
       "<div>\n",
       "<style scoped>\n",
       "    .dataframe tbody tr th:only-of-type {\n",
       "        vertical-align: middle;\n",
       "    }\n",
       "\n",
       "    .dataframe tbody tr th {\n",
       "        vertical-align: top;\n",
       "    }\n",
       "\n",
       "    .dataframe thead th {\n",
       "        text-align: right;\n",
       "    }\n",
       "</style>\n",
       "<table border=\"1\" class=\"dataframe\">\n",
       "  <thead>\n",
       "    <tr style=\"text-align: right;\">\n",
       "      <th></th>\n",
       "      <th>RowNumber</th>\n",
       "      <th>CustomerId</th>\n",
       "      <th>Surname</th>\n",
       "      <th>CreditScore</th>\n",
       "      <th>Geography</th>\n",
       "      <th>Gender</th>\n",
       "      <th>Age</th>\n",
       "      <th>Tenure</th>\n",
       "      <th>Balance</th>\n",
       "      <th>NumOfProducts</th>\n",
       "      <th>HasCrCard</th>\n",
       "      <th>IsActiveMember</th>\n",
       "      <th>EstimatedSalary</th>\n",
       "      <th>Exited</th>\n",
       "    </tr>\n",
       "  </thead>\n",
       "  <tbody>\n",
       "    <tr>\n",
       "      <td>0</td>\n",
       "      <td>1</td>\n",
       "      <td>15634602</td>\n",
       "      <td>Hargrave</td>\n",
       "      <td>619</td>\n",
       "      <td>France</td>\n",
       "      <td>Female</td>\n",
       "      <td>42</td>\n",
       "      <td>2.0</td>\n",
       "      <td>0.00</td>\n",
       "      <td>1</td>\n",
       "      <td>1</td>\n",
       "      <td>1</td>\n",
       "      <td>101348.88</td>\n",
       "      <td>1</td>\n",
       "    </tr>\n",
       "    <tr>\n",
       "      <td>1</td>\n",
       "      <td>2</td>\n",
       "      <td>15647311</td>\n",
       "      <td>Hill</td>\n",
       "      <td>608</td>\n",
       "      <td>Spain</td>\n",
       "      <td>Female</td>\n",
       "      <td>41</td>\n",
       "      <td>1.0</td>\n",
       "      <td>83807.86</td>\n",
       "      <td>1</td>\n",
       "      <td>0</td>\n",
       "      <td>1</td>\n",
       "      <td>112542.58</td>\n",
       "      <td>0</td>\n",
       "    </tr>\n",
       "    <tr>\n",
       "      <td>2</td>\n",
       "      <td>3</td>\n",
       "      <td>15619304</td>\n",
       "      <td>Onio</td>\n",
       "      <td>502</td>\n",
       "      <td>France</td>\n",
       "      <td>Female</td>\n",
       "      <td>42</td>\n",
       "      <td>8.0</td>\n",
       "      <td>159660.80</td>\n",
       "      <td>3</td>\n",
       "      <td>1</td>\n",
       "      <td>0</td>\n",
       "      <td>113931.57</td>\n",
       "      <td>1</td>\n",
       "    </tr>\n",
       "    <tr>\n",
       "      <td>3</td>\n",
       "      <td>4</td>\n",
       "      <td>15701354</td>\n",
       "      <td>Boni</td>\n",
       "      <td>699</td>\n",
       "      <td>France</td>\n",
       "      <td>Female</td>\n",
       "      <td>39</td>\n",
       "      <td>1.0</td>\n",
       "      <td>0.00</td>\n",
       "      <td>2</td>\n",
       "      <td>0</td>\n",
       "      <td>0</td>\n",
       "      <td>93826.63</td>\n",
       "      <td>0</td>\n",
       "    </tr>\n",
       "    <tr>\n",
       "      <td>4</td>\n",
       "      <td>5</td>\n",
       "      <td>15737888</td>\n",
       "      <td>Mitchell</td>\n",
       "      <td>850</td>\n",
       "      <td>Spain</td>\n",
       "      <td>Female</td>\n",
       "      <td>43</td>\n",
       "      <td>2.0</td>\n",
       "      <td>125510.82</td>\n",
       "      <td>1</td>\n",
       "      <td>1</td>\n",
       "      <td>1</td>\n",
       "      <td>79084.10</td>\n",
       "      <td>0</td>\n",
       "    </tr>\n",
       "  </tbody>\n",
       "</table>\n",
       "</div>"
      ],
      "text/plain": [
       "   RowNumber  CustomerId   Surname  CreditScore Geography  Gender  Age  \\\n",
       "0          1    15634602  Hargrave          619    France  Female   42   \n",
       "1          2    15647311      Hill          608     Spain  Female   41   \n",
       "2          3    15619304      Onio          502    France  Female   42   \n",
       "3          4    15701354      Boni          699    France  Female   39   \n",
       "4          5    15737888  Mitchell          850     Spain  Female   43   \n",
       "\n",
       "   Tenure    Balance  NumOfProducts  HasCrCard  IsActiveMember  \\\n",
       "0     2.0       0.00              1          1               1   \n",
       "1     1.0   83807.86              1          0               1   \n",
       "2     8.0  159660.80              3          1               0   \n",
       "3     1.0       0.00              2          0               0   \n",
       "4     2.0  125510.82              1          1               1   \n",
       "\n",
       "   EstimatedSalary  Exited  \n",
       "0        101348.88       1  \n",
       "1        112542.58       0  \n",
       "2        113931.57       1  \n",
       "3         93826.63       0  \n",
       "4         79084.10       0  "
      ]
     },
     "metadata": {},
     "output_type": "display_data"
    },
    {
     "name": "stdout",
     "output_type": "stream",
     "text": [
      "<class 'pandas.core.frame.DataFrame'>\n",
      "RangeIndex: 10000 entries, 0 to 9999\n",
      "Data columns (total 14 columns):\n",
      "RowNumber          10000 non-null int64\n",
      "CustomerId         10000 non-null int64\n",
      "Surname            10000 non-null object\n",
      "CreditScore        10000 non-null int64\n",
      "Geography          10000 non-null object\n",
      "Gender             10000 non-null object\n",
      "Age                10000 non-null int64\n",
      "Tenure             9091 non-null float64\n",
      "Balance            10000 non-null float64\n",
      "NumOfProducts      10000 non-null int64\n",
      "HasCrCard          10000 non-null int64\n",
      "IsActiveMember     10000 non-null int64\n",
      "EstimatedSalary    10000 non-null float64\n",
      "Exited             10000 non-null int64\n",
      "dtypes: float64(3), int64(8), object(3)\n",
      "memory usage: 1.1+ MB\n",
      "None\n"
     ]
    }
   ],
   "source": [
    "# Первичное изучение входных данных\n",
    "display(df.head())\n",
    "print(df.info())"
   ]
  },
  {
   "cell_type": "markdown",
   "metadata": {},
   "source": [
    "**Вывод:**\n",
    "- Полученные данные содержат 10 тыс. строк. \n",
    "- Пропуски содержит только признак Tenure. Доля пропущенных значений около 10%, поэтому заполним пропуски.\n",
    "- Признаки RowNumber, CustomerId и Surname целесообразно удалить, т.к. они не только нагружают модель. Порядковый номер в списке, уникальный ID клиента и фамилия не должны влиять на предсказания модели.\n",
    "- Тип данных указан корректно.\n",
    "- Целесообразно провести стандартизацию признаков: CreditScore, Age, Tenure, Balance, NumOfProducts, EstimatedSalary, чтобы избежать влияние масштаба признака при обучении модели."
   ]
  },
  {
   "cell_type": "markdown",
   "metadata": {},
   "source": [
    "### Анализ входных данных"
   ]
  },
  {
   "cell_type": "code",
   "execution_count": 4,
   "metadata": {},
   "outputs": [
    {
     "data": {
      "text/html": [
       "<div>\n",
       "<style scoped>\n",
       "    .dataframe tbody tr th:only-of-type {\n",
       "        vertical-align: middle;\n",
       "    }\n",
       "\n",
       "    .dataframe tbody tr th {\n",
       "        vertical-align: top;\n",
       "    }\n",
       "\n",
       "    .dataframe thead th {\n",
       "        text-align: right;\n",
       "    }\n",
       "</style>\n",
       "<table border=\"1\" class=\"dataframe\">\n",
       "  <thead>\n",
       "    <tr style=\"text-align: right;\">\n",
       "      <th></th>\n",
       "      <th>RowNumber</th>\n",
       "      <th>CustomerId</th>\n",
       "      <th>Surname</th>\n",
       "      <th>CreditScore</th>\n",
       "      <th>Geography</th>\n",
       "      <th>Gender</th>\n",
       "      <th>Age</th>\n",
       "      <th>Tenure</th>\n",
       "      <th>Balance</th>\n",
       "      <th>NumOfProducts</th>\n",
       "      <th>HasCrCard</th>\n",
       "      <th>IsActiveMember</th>\n",
       "      <th>EstimatedSalary</th>\n",
       "      <th>Exited</th>\n",
       "    </tr>\n",
       "  </thead>\n",
       "  <tbody>\n",
       "    <tr>\n",
       "      <td>30</td>\n",
       "      <td>31</td>\n",
       "      <td>15589475</td>\n",
       "      <td>Azikiwe</td>\n",
       "      <td>591</td>\n",
       "      <td>Spain</td>\n",
       "      <td>Female</td>\n",
       "      <td>39</td>\n",
       "      <td>NaN</td>\n",
       "      <td>0.00</td>\n",
       "      <td>3</td>\n",
       "      <td>1</td>\n",
       "      <td>0</td>\n",
       "      <td>140469.38</td>\n",
       "      <td>1</td>\n",
       "    </tr>\n",
       "    <tr>\n",
       "      <td>48</td>\n",
       "      <td>49</td>\n",
       "      <td>15766205</td>\n",
       "      <td>Yin</td>\n",
       "      <td>550</td>\n",
       "      <td>Germany</td>\n",
       "      <td>Male</td>\n",
       "      <td>38</td>\n",
       "      <td>NaN</td>\n",
       "      <td>103391.38</td>\n",
       "      <td>1</td>\n",
       "      <td>0</td>\n",
       "      <td>1</td>\n",
       "      <td>90878.13</td>\n",
       "      <td>0</td>\n",
       "    </tr>\n",
       "    <tr>\n",
       "      <td>51</td>\n",
       "      <td>52</td>\n",
       "      <td>15768193</td>\n",
       "      <td>Trevisani</td>\n",
       "      <td>585</td>\n",
       "      <td>Germany</td>\n",
       "      <td>Male</td>\n",
       "      <td>36</td>\n",
       "      <td>NaN</td>\n",
       "      <td>146050.97</td>\n",
       "      <td>2</td>\n",
       "      <td>0</td>\n",
       "      <td>0</td>\n",
       "      <td>86424.57</td>\n",
       "      <td>0</td>\n",
       "    </tr>\n",
       "    <tr>\n",
       "      <td>53</td>\n",
       "      <td>54</td>\n",
       "      <td>15702298</td>\n",
       "      <td>Parkhill</td>\n",
       "      <td>655</td>\n",
       "      <td>Germany</td>\n",
       "      <td>Male</td>\n",
       "      <td>41</td>\n",
       "      <td>NaN</td>\n",
       "      <td>125561.97</td>\n",
       "      <td>1</td>\n",
       "      <td>0</td>\n",
       "      <td>0</td>\n",
       "      <td>164040.94</td>\n",
       "      <td>1</td>\n",
       "    </tr>\n",
       "    <tr>\n",
       "      <td>60</td>\n",
       "      <td>61</td>\n",
       "      <td>15651280</td>\n",
       "      <td>Hunter</td>\n",
       "      <td>742</td>\n",
       "      <td>Germany</td>\n",
       "      <td>Male</td>\n",
       "      <td>35</td>\n",
       "      <td>NaN</td>\n",
       "      <td>136857.00</td>\n",
       "      <td>1</td>\n",
       "      <td>0</td>\n",
       "      <td>0</td>\n",
       "      <td>84509.57</td>\n",
       "      <td>0</td>\n",
       "    </tr>\n",
       "  </tbody>\n",
       "</table>\n",
       "</div>"
      ],
      "text/plain": [
       "    RowNumber  CustomerId    Surname  CreditScore Geography  Gender  Age  \\\n",
       "30         31    15589475    Azikiwe          591     Spain  Female   39   \n",
       "48         49    15766205        Yin          550   Germany    Male   38   \n",
       "51         52    15768193  Trevisani          585   Germany    Male   36   \n",
       "53         54    15702298   Parkhill          655   Germany    Male   41   \n",
       "60         61    15651280     Hunter          742   Germany    Male   35   \n",
       "\n",
       "    Tenure    Balance  NumOfProducts  HasCrCard  IsActiveMember  \\\n",
       "30     NaN       0.00              3          1               0   \n",
       "48     NaN  103391.38              1          0               1   \n",
       "51     NaN  146050.97              2          0               0   \n",
       "53     NaN  125561.97              1          0               0   \n",
       "60     NaN  136857.00              1          0               0   \n",
       "\n",
       "    EstimatedSalary  Exited  \n",
       "30        140469.38       1  \n",
       "48         90878.13       0  \n",
       "51         86424.57       0  \n",
       "53        164040.94       1  \n",
       "60         84509.57       0  "
      ]
     },
     "metadata": {},
     "output_type": "display_data"
    },
    {
     "name": "stdout",
     "output_type": "stream",
     "text": [
      "1.0     952\n",
      "2.0     950\n",
      "8.0     933\n",
      "3.0     928\n",
      "5.0     927\n",
      "7.0     925\n",
      "4.0     885\n",
      "9.0     882\n",
      "6.0     881\n",
      "10.0    446\n",
      "0.0     382\n",
      "Name: Tenure, dtype: int64\n"
     ]
    }
   ],
   "source": [
    "# Проанализируем пропуски\n",
    "display(df[df['Tenure'].isna()].head())\n",
    "print(df['Tenure'].value_counts())"
   ]
  },
  {
   "cell_type": "code",
   "execution_count": 5,
   "metadata": {},
   "outputs": [],
   "source": [
    "# Заменим пропуски нулевыми значениями\n",
    "df['Tenure'] = df['Tenure'].fillna(value=0)"
   ]
  },
  {
   "cell_type": "markdown",
   "metadata": {},
   "source": [
    "**Вывод:**\n",
    "Можно предположить, что вместо нулевых значений были допущены пропуски, т.к. во входных данных отсутствие недвижимости у клиента встречается реже, чем 10 объектов недвижимости у клиента. Заменим пропуски нулевыми значениями."
   ]
  },
  {
   "cell_type": "code",
   "execution_count": 6,
   "metadata": {},
   "outputs": [
    {
     "data": {
      "text/html": [
       "<div>\n",
       "<style scoped>\n",
       "    .dataframe tbody tr th:only-of-type {\n",
       "        vertical-align: middle;\n",
       "    }\n",
       "\n",
       "    .dataframe tbody tr th {\n",
       "        vertical-align: top;\n",
       "    }\n",
       "\n",
       "    .dataframe thead th {\n",
       "        text-align: right;\n",
       "    }\n",
       "</style>\n",
       "<table border=\"1\" class=\"dataframe\">\n",
       "  <thead>\n",
       "    <tr style=\"text-align: right;\">\n",
       "      <th></th>\n",
       "      <th>CreditScore</th>\n",
       "      <th>Geography</th>\n",
       "      <th>Gender</th>\n",
       "      <th>Age</th>\n",
       "      <th>Tenure</th>\n",
       "      <th>Balance</th>\n",
       "      <th>NumOfProducts</th>\n",
       "      <th>HasCrCard</th>\n",
       "      <th>IsActiveMember</th>\n",
       "      <th>EstimatedSalary</th>\n",
       "      <th>Exited</th>\n",
       "    </tr>\n",
       "  </thead>\n",
       "  <tbody>\n",
       "    <tr>\n",
       "      <td>0</td>\n",
       "      <td>619</td>\n",
       "      <td>France</td>\n",
       "      <td>Female</td>\n",
       "      <td>42</td>\n",
       "      <td>2.0</td>\n",
       "      <td>0.00</td>\n",
       "      <td>1</td>\n",
       "      <td>1</td>\n",
       "      <td>1</td>\n",
       "      <td>101348.88</td>\n",
       "      <td>1</td>\n",
       "    </tr>\n",
       "    <tr>\n",
       "      <td>1</td>\n",
       "      <td>608</td>\n",
       "      <td>Spain</td>\n",
       "      <td>Female</td>\n",
       "      <td>41</td>\n",
       "      <td>1.0</td>\n",
       "      <td>83807.86</td>\n",
       "      <td>1</td>\n",
       "      <td>0</td>\n",
       "      <td>1</td>\n",
       "      <td>112542.58</td>\n",
       "      <td>0</td>\n",
       "    </tr>\n",
       "    <tr>\n",
       "      <td>2</td>\n",
       "      <td>502</td>\n",
       "      <td>France</td>\n",
       "      <td>Female</td>\n",
       "      <td>42</td>\n",
       "      <td>8.0</td>\n",
       "      <td>159660.80</td>\n",
       "      <td>3</td>\n",
       "      <td>1</td>\n",
       "      <td>0</td>\n",
       "      <td>113931.57</td>\n",
       "      <td>1</td>\n",
       "    </tr>\n",
       "    <tr>\n",
       "      <td>3</td>\n",
       "      <td>699</td>\n",
       "      <td>France</td>\n",
       "      <td>Female</td>\n",
       "      <td>39</td>\n",
       "      <td>1.0</td>\n",
       "      <td>0.00</td>\n",
       "      <td>2</td>\n",
       "      <td>0</td>\n",
       "      <td>0</td>\n",
       "      <td>93826.63</td>\n",
       "      <td>0</td>\n",
       "    </tr>\n",
       "    <tr>\n",
       "      <td>4</td>\n",
       "      <td>850</td>\n",
       "      <td>Spain</td>\n",
       "      <td>Female</td>\n",
       "      <td>43</td>\n",
       "      <td>2.0</td>\n",
       "      <td>125510.82</td>\n",
       "      <td>1</td>\n",
       "      <td>1</td>\n",
       "      <td>1</td>\n",
       "      <td>79084.10</td>\n",
       "      <td>0</td>\n",
       "    </tr>\n",
       "  </tbody>\n",
       "</table>\n",
       "</div>"
      ],
      "text/plain": [
       "   CreditScore Geography  Gender  Age  Tenure    Balance  NumOfProducts  \\\n",
       "0          619    France  Female   42     2.0       0.00              1   \n",
       "1          608     Spain  Female   41     1.0   83807.86              1   \n",
       "2          502    France  Female   42     8.0  159660.80              3   \n",
       "3          699    France  Female   39     1.0       0.00              2   \n",
       "4          850     Spain  Female   43     2.0  125510.82              1   \n",
       "\n",
       "   HasCrCard  IsActiveMember  EstimatedSalary  Exited  \n",
       "0          1               1        101348.88       1  \n",
       "1          0               1        112542.58       0  \n",
       "2          1               0        113931.57       1  \n",
       "3          0               0         93826.63       0  \n",
       "4          1               1         79084.10       0  "
      ]
     },
     "metadata": {},
     "output_type": "display_data"
    }
   ],
   "source": [
    "# Удалим признаки RowNumber, CustomerId и Surname\n",
    "df = df.drop(['RowNumber', 'CustomerId', 'Surname'], axis=1)\n",
    "display(df.head())"
   ]
  },
  {
   "cell_type": "code",
   "execution_count": 7,
   "metadata": {},
   "outputs": [
    {
     "name": "stdout",
     "output_type": "stream",
     "text": [
      "France     5014\n",
      "Germany    2509\n",
      "Spain      2477\n",
      "Name: Geography, dtype: int64\n"
     ]
    }
   ],
   "source": [
    "# Проанализируем значения признака Geography\n",
    "print(df['Geography'].value_counts())"
   ]
  },
  {
   "cell_type": "code",
   "execution_count": 8,
   "metadata": {},
   "outputs": [
    {
     "name": "stdout",
     "output_type": "stream",
     "text": [
      "CreditScore\n"
     ]
    },
    {
     "data": {
      "image/png": "[encoded data removed]",
      "text/plain": [
       "<Figure size 576x360 with 1 Axes>"
      ]
     },
     "metadata": {
      "needs_background": "light"
     },
     "output_type": "display_data"
    },
    {
     "name": "stdout",
     "output_type": "stream",
     "text": [
      "Age\n"
     ]
    },
    {
     "data": {
      "image/png": "[encoded data removed]",
      "text/plain": [
       "<Figure size 576x360 with 1 Axes>"
      ]
     },
     "metadata": {
      "needs_background": "light"
     },
     "output_type": "display_data"
    },
    {
     "name": "stdout",
     "output_type": "stream",
     "text": [
      "Balance\n"
     ]
    },
    {
     "data": {
      "image/png": "[encoded data removed]",
      "text/plain": [
       "<Figure size 576x360 with 1 Axes>"
      ]
     },
     "metadata": {
      "needs_background": "light"
     },
     "output_type": "display_data"
    },
    {
     "name": "stdout",
     "output_type": "stream",
     "text": [
      "NumOfProducts\n"
     ]
    },
    {
     "data": {
      "image/png": "[encoded data removed]",
      "text/plain": [
       "<Figure size 576x360 with 1 Axes>"
      ]
     },
     "metadata": {
      "needs_background": "light"
     },
     "output_type": "display_data"
    },
    {
     "name": "stdout",
     "output_type": "stream",
     "text": [
      "EstimatedSalary\n"
     ]
    },
    {
     "data": {
      "image/png": "[encoded data removed]",
      "text/plain": [
       "<Figure size 576x360 with 1 Axes>"
      ]
     },
     "metadata": {
      "needs_background": "light"
     },
     "output_type": "display_data"
    }
   ],
   "source": [
    "# Проанализируем значения признаков\n",
    "for feature in ['CreditScore', 'Age', 'Balance', 'NumOfProducts', 'EstimatedSalary']:\n",
    "    print(feature)\n",
    "    df.boxplot(column=feature, figsize=(8, 5))\n",
    "    plt.title('Диаграмма размаха признака')\n",
    "    plt.show()"
   ]
  },
  {
   "cell_type": "markdown",
   "metadata": {},
   "source": [
    "**Вывод:**\n",
    "- Значения признаков не содержат выбросов, которые могут негативно повлиять на качество модели.\n",
    "- Медиана кредитного рейтинга клиентов на уровне 650. Есть клиенты с CS менее 400, однако такие отклонения не являются аномальными.\n",
    "- Медиана возраста клиентов около 38. При этом максимальный возраст клиентов чуть более 90 и встречается крайне редко.\n",
    "- Медиана баланса на счете клиентов около 10 тыс. руб. При этом значения изменяются от 0 до 250 тыс. руб., т.е. анамалий также не наблюдается.\n",
    "- Количество используемых продуктов варьируется от 1 до 4.\n",
    "- Медиана дохода клиентов составляет 100 тыс. Значения варьируются от 0 до 200 тыс. руб. - без аномалий."
   ]
  },
  {
   "cell_type": "markdown",
   "metadata": {},
   "source": [
    "### Проверка наличия мультиколлинеарности признаков"
   ]
  },
  {
   "cell_type": "code",
   "execution_count": 9,
   "metadata": {},
   "outputs": [
    {
     "data": {
      "text/html": [
       "<div>\n",
       "<style scoped>\n",
       "    .dataframe tbody tr th:only-of-type {\n",
       "        vertical-align: middle;\n",
       "    }\n",
       "\n",
       "    .dataframe tbody tr th {\n",
       "        vertical-align: top;\n",
       "    }\n",
       "\n",
       "    .dataframe thead th {\n",
       "        text-align: right;\n",
       "    }\n",
       "</style>\n",
       "<table border=\"1\" class=\"dataframe\">\n",
       "  <thead>\n",
       "    <tr style=\"text-align: right;\">\n",
       "      <th></th>\n",
       "      <th>CreditScore</th>\n",
       "      <th>Age</th>\n",
       "      <th>Tenure</th>\n",
       "      <th>Balance</th>\n",
       "      <th>NumOfProducts</th>\n",
       "      <th>HasCrCard</th>\n",
       "      <th>IsActiveMember</th>\n",
       "      <th>EstimatedSalary</th>\n",
       "    </tr>\n",
       "  </thead>\n",
       "  <tbody>\n",
       "    <tr>\n",
       "      <td>CreditScore</td>\n",
       "      <td>1.000000</td>\n",
       "      <td>-0.003965</td>\n",
       "      <td>0.003087</td>\n",
       "      <td>0.006268</td>\n",
       "      <td>0.012238</td>\n",
       "      <td>-0.005458</td>\n",
       "      <td>0.025651</td>\n",
       "      <td>-0.001384</td>\n",
       "    </tr>\n",
       "    <tr>\n",
       "      <td>Age</td>\n",
       "      <td>-0.003965</td>\n",
       "      <td>1.000000</td>\n",
       "      <td>-0.007368</td>\n",
       "      <td>0.028308</td>\n",
       "      <td>-0.030680</td>\n",
       "      <td>-0.011721</td>\n",
       "      <td>0.085472</td>\n",
       "      <td>-0.007201</td>\n",
       "    </tr>\n",
       "    <tr>\n",
       "      <td>Tenure</td>\n",
       "      <td>0.003087</td>\n",
       "      <td>-0.007368</td>\n",
       "      <td>1.000000</td>\n",
       "      <td>-0.005821</td>\n",
       "      <td>0.010106</td>\n",
       "      <td>0.021387</td>\n",
       "      <td>-0.025856</td>\n",
       "      <td>0.011225</td>\n",
       "    </tr>\n",
       "    <tr>\n",
       "      <td>Balance</td>\n",
       "      <td>0.006268</td>\n",
       "      <td>0.028308</td>\n",
       "      <td>-0.005821</td>\n",
       "      <td>1.000000</td>\n",
       "      <td>-0.304180</td>\n",
       "      <td>-0.014858</td>\n",
       "      <td>-0.010084</td>\n",
       "      <td>0.012797</td>\n",
       "    </tr>\n",
       "    <tr>\n",
       "      <td>NumOfProducts</td>\n",
       "      <td>0.012238</td>\n",
       "      <td>-0.030680</td>\n",
       "      <td>0.010106</td>\n",
       "      <td>-0.304180</td>\n",
       "      <td>1.000000</td>\n",
       "      <td>0.003183</td>\n",
       "      <td>0.009612</td>\n",
       "      <td>0.014204</td>\n",
       "    </tr>\n",
       "    <tr>\n",
       "      <td>HasCrCard</td>\n",
       "      <td>-0.005458</td>\n",
       "      <td>-0.011721</td>\n",
       "      <td>0.021387</td>\n",
       "      <td>-0.014858</td>\n",
       "      <td>0.003183</td>\n",
       "      <td>1.000000</td>\n",
       "      <td>-0.011866</td>\n",
       "      <td>-0.009933</td>\n",
       "    </tr>\n",
       "    <tr>\n",
       "      <td>IsActiveMember</td>\n",
       "      <td>0.025651</td>\n",
       "      <td>0.085472</td>\n",
       "      <td>-0.025856</td>\n",
       "      <td>-0.010084</td>\n",
       "      <td>0.009612</td>\n",
       "      <td>-0.011866</td>\n",
       "      <td>1.000000</td>\n",
       "      <td>-0.011421</td>\n",
       "    </tr>\n",
       "    <tr>\n",
       "      <td>EstimatedSalary</td>\n",
       "      <td>-0.001384</td>\n",
       "      <td>-0.007201</td>\n",
       "      <td>0.011225</td>\n",
       "      <td>0.012797</td>\n",
       "      <td>0.014204</td>\n",
       "      <td>-0.009933</td>\n",
       "      <td>-0.011421</td>\n",
       "      <td>1.000000</td>\n",
       "    </tr>\n",
       "  </tbody>\n",
       "</table>\n",
       "</div>"
      ],
      "text/plain": [
       "                 CreditScore       Age    Tenure   Balance  NumOfProducts  \\\n",
       "CreditScore         1.000000 -0.003965  0.003087  0.006268       0.012238   \n",
       "Age                -0.003965  1.000000 -0.007368  0.028308      -0.030680   \n",
       "Tenure              0.003087 -0.007368  1.000000 -0.005821       0.010106   \n",
       "Balance             0.006268  0.028308 -0.005821  1.000000      -0.304180   \n",
       "NumOfProducts       0.012238 -0.030680  0.010106 -0.304180       1.000000   \n",
       "HasCrCard          -0.005458 -0.011721  0.021387 -0.014858       0.003183   \n",
       "IsActiveMember      0.025651  0.085472 -0.025856 -0.010084       0.009612   \n",
       "EstimatedSalary    -0.001384 -0.007201  0.011225  0.012797       0.014204   \n",
       "\n",
       "                 HasCrCard  IsActiveMember  EstimatedSalary  \n",
       "CreditScore      -0.005458        0.025651        -0.001384  \n",
       "Age              -0.011721        0.085472        -0.007201  \n",
       "Tenure            0.021387       -0.025856         0.011225  \n",
       "Balance          -0.014858       -0.010084         0.012797  \n",
       "NumOfProducts     0.003183        0.009612         0.014204  \n",
       "HasCrCard         1.000000       -0.011866        -0.009933  \n",
       "IsActiveMember   -0.011866        1.000000        -0.011421  \n",
       "EstimatedSalary  -0.009933       -0.011421         1.000000  "
      ]
     },
     "metadata": {},
     "output_type": "display_data"
    }
   ],
   "source": [
    "# Рассчитаем коэффиценты корреляции для определения зависимости признаков\n",
    "df_cor = df.drop(['Geography', 'Gender', 'Exited'], axis=1)\n",
    "display(df_cor.corr())"
   ]
  },
  {
   "cell_type": "markdown",
   "metadata": {},
   "source": [
    "**Вывод:**\n",
    "Мультиколлинеарность признаков отсутствует."
   ]
  },
  {
   "cell_type": "markdown",
   "metadata": {},
   "source": [
    "### Прямое кодирование"
   ]
  },
  {
   "cell_type": "code",
   "execution_count": 10,
   "metadata": {},
   "outputs": [
    {
     "data": {
      "text/html": [
       "<div>\n",
       "<style scoped>\n",
       "    .dataframe tbody tr th:only-of-type {\n",
       "        vertical-align: middle;\n",
       "    }\n",
       "\n",
       "    .dataframe tbody tr th {\n",
       "        vertical-align: top;\n",
       "    }\n",
       "\n",
       "    .dataframe thead th {\n",
       "        text-align: right;\n",
       "    }\n",
       "</style>\n",
       "<table border=\"1\" class=\"dataframe\">\n",
       "  <thead>\n",
       "    <tr style=\"text-align: right;\">\n",
       "      <th></th>\n",
       "      <th>CreditScore</th>\n",
       "      <th>Age</th>\n",
       "      <th>Tenure</th>\n",
       "      <th>Balance</th>\n",
       "      <th>NumOfProducts</th>\n",
       "      <th>HasCrCard</th>\n",
       "      <th>IsActiveMember</th>\n",
       "      <th>EstimatedSalary</th>\n",
       "      <th>Exited</th>\n",
       "      <th>Geography_Germany</th>\n",
       "      <th>Geography_Spain</th>\n",
       "      <th>Gender_Male</th>\n",
       "    </tr>\n",
       "  </thead>\n",
       "  <tbody>\n",
       "    <tr>\n",
       "      <td>0</td>\n",
       "      <td>619</td>\n",
       "      <td>42</td>\n",
       "      <td>2.0</td>\n",
       "      <td>0.00</td>\n",
       "      <td>1</td>\n",
       "      <td>1</td>\n",
       "      <td>1</td>\n",
       "      <td>101348.88</td>\n",
       "      <td>1</td>\n",
       "      <td>0</td>\n",
       "      <td>0</td>\n",
       "      <td>0</td>\n",
       "    </tr>\n",
       "    <tr>\n",
       "      <td>1</td>\n",
       "      <td>608</td>\n",
       "      <td>41</td>\n",
       "      <td>1.0</td>\n",
       "      <td>83807.86</td>\n",
       "      <td>1</td>\n",
       "      <td>0</td>\n",
       "      <td>1</td>\n",
       "      <td>112542.58</td>\n",
       "      <td>0</td>\n",
       "      <td>0</td>\n",
       "      <td>1</td>\n",
       "      <td>0</td>\n",
       "    </tr>\n",
       "    <tr>\n",
       "      <td>2</td>\n",
       "      <td>502</td>\n",
       "      <td>42</td>\n",
       "      <td>8.0</td>\n",
       "      <td>159660.80</td>\n",
       "      <td>3</td>\n",
       "      <td>1</td>\n",
       "      <td>0</td>\n",
       "      <td>113931.57</td>\n",
       "      <td>1</td>\n",
       "      <td>0</td>\n",
       "      <td>0</td>\n",
       "      <td>0</td>\n",
       "    </tr>\n",
       "    <tr>\n",
       "      <td>3</td>\n",
       "      <td>699</td>\n",
       "      <td>39</td>\n",
       "      <td>1.0</td>\n",
       "      <td>0.00</td>\n",
       "      <td>2</td>\n",
       "      <td>0</td>\n",
       "      <td>0</td>\n",
       "      <td>93826.63</td>\n",
       "      <td>0</td>\n",
       "      <td>0</td>\n",
       "      <td>0</td>\n",
       "      <td>0</td>\n",
       "    </tr>\n",
       "    <tr>\n",
       "      <td>4</td>\n",
       "      <td>850</td>\n",
       "      <td>43</td>\n",
       "      <td>2.0</td>\n",
       "      <td>125510.82</td>\n",
       "      <td>1</td>\n",
       "      <td>1</td>\n",
       "      <td>1</td>\n",
       "      <td>79084.10</td>\n",
       "      <td>0</td>\n",
       "      <td>0</td>\n",
       "      <td>1</td>\n",
       "      <td>0</td>\n",
       "    </tr>\n",
       "  </tbody>\n",
       "</table>\n",
       "</div>"
      ],
      "text/plain": [
       "   CreditScore  Age  Tenure    Balance  NumOfProducts  HasCrCard  \\\n",
       "0          619   42     2.0       0.00              1          1   \n",
       "1          608   41     1.0   83807.86              1          0   \n",
       "2          502   42     8.0  159660.80              3          1   \n",
       "3          699   39     1.0       0.00              2          0   \n",
       "4          850   43     2.0  125510.82              1          1   \n",
       "\n",
       "   IsActiveMember  EstimatedSalary  Exited  Geography_Germany  \\\n",
       "0               1        101348.88       1                  0   \n",
       "1               1        112542.58       0                  0   \n",
       "2               0        113931.57       1                  0   \n",
       "3               0         93826.63       0                  0   \n",
       "4               1         79084.10       0                  0   \n",
       "\n",
       "   Geography_Spain  Gender_Male  \n",
       "0                0            0  \n",
       "1                1            0  \n",
       "2                0            0  \n",
       "3                0            0  \n",
       "4                1            0  "
      ]
     },
     "metadata": {},
     "output_type": "display_data"
    }
   ],
   "source": [
    "# Преобразуем колонки Geography, Gender техникой OHE\n",
    "df_ohe = pd.get_dummies(df, drop_first=True)\n",
    "display(df_ohe.head())"
   ]
  },
  {
   "cell_type": "markdown",
   "metadata": {},
   "source": [
    "### Разделение данных"
   ]
  },
  {
   "cell_type": "code",
   "execution_count": 11,
   "metadata": {},
   "outputs": [
    {
     "name": "stdout",
     "output_type": "stream",
     "text": [
      "(6000, 11)\n",
      "(2000, 11)\n",
      "(2000, 11)\n",
      "(6000,)\n",
      "(2000,)\n",
      "(2000,)\n"
     ]
    }
   ],
   "source": [
    "# Разделим данные на обучающую, валидационную и тестовую выборки\n",
    "\n",
    "features = df_ohe.drop('Exited', axis=1)\n",
    "target = df_ohe['Exited']\n",
    "\n",
    "features_train, features_valid, target_train, target_valid = train_test_split(\n",
    "    features, target, test_size=0.2, random_state=101)\n",
    "\n",
    "features_train, features_test, target_train, target_test = train_test_split(\n",
    "    features_train, target_train, test_size=0.25, random_state=101)\n",
    "\n",
    "print(features_train.shape)\n",
    "print(features_valid.shape)\n",
    "print(features_test.shape)\n",
    "\n",
    "print(target_train.shape)\n",
    "print(target_valid.shape)\n",
    "print(target_test.shape)"
   ]
  },
  {
   "cell_type": "markdown",
   "metadata": {},
   "source": [
    "### Стандартизация данных"
   ]
  },
  {
   "cell_type": "code",
   "execution_count": 12,
   "metadata": {},
   "outputs": [],
   "source": [
    "# Проведем стандартизацию признаков для снижения эффекта от масштаба данных\n",
    "pd.options.mode.chained_assignment = None\n",
    "\n",
    "numeric = ['CreditScore', 'Age', 'Tenure', 'Balance', 'NumOfProducts', 'EstimatedSalary']\n",
    "\n",
    "scaler = StandardScaler()\n",
    "scaler.fit(features_train[numeric])\n",
    "\n",
    "features_train[numeric] = scaler.transform(features_train[numeric])\n",
    "features_valid[numeric] = scaler.transform(features_valid[numeric])\n",
    "features_test[numeric] = scaler.transform(features_test[numeric])"
   ]
  },
  {
   "cell_type": "markdown",
   "metadata": {},
   "source": [
    "## Исследование задачи"
   ]
  },
  {
   "cell_type": "markdown",
   "metadata": {},
   "source": [
    "### Исследование баланса  классов"
   ]
  },
  {
   "cell_type": "code",
   "execution_count": 13,
   "metadata": {},
   "outputs": [
    {
     "name": "stdout",
     "output_type": "stream",
     "text": [
      "Количество действующих и покинувших банк клиентов\n",
      "0    7963\n",
      "1    2037\n",
      "Name: Exited, dtype: int64\n",
      "\n",
      "Доля покинувших банк клиентов =  0.2037\n"
     ]
    },
    {
     "data": {
      "image/png": "[encoded data removed]",
      "text/plain": [
       "<Figure size 432x288 with 1 Axes>"
      ]
     },
     "metadata": {
      "needs_background": "light"
     },
     "output_type": "display_data"
    }
   ],
   "source": [
    "# Проанализируем распределение целевого признака\n",
    "df_Exited_value = df['Exited'].value_counts()\n",
    "print('Количество действующих и покинувших банк клиентов')\n",
    "print(df_Exited_value)\n",
    "print()\n",
    "\n",
    "exited_share = df[df['Exited'] == 1]['Exited'].count() / len(df)\n",
    "print('Доля покинувших банк клиентов = ', exited_share)\n",
    "\n",
    "df['Exited'].hist()\n",
    "plt.suptitle('Гистограмма количества клиентов покинувших банк')\n",
    "plt.xlabel('Exiting')\n",
    "plt.ylabel('Frequency')\n",
    "plt.show()"
   ]
  },
  {
   "cell_type": "markdown",
   "metadata": {},
   "source": [
    "**Вывод:**\n",
    "Целевой признак в 80% случаев равен 0. Если мы создадим тривиальную модель, которая всегда предсказывает 0, то в 80% случаев мы получим верный результат. Однако цель модели будет не достигнута. \n",
    "\n",
    "Классы несбалансированны, будем учитывать дисбаланс классов при обучении модели."
   ]
  },
  {
   "cell_type": "markdown",
   "metadata": {},
   "source": [
    "### Изучение моделей без учета дисбаланса классов"
   ]
  },
  {
   "cell_type": "markdown",
   "metadata": {},
   "source": [
    "#### A decision tree classifier"
   ]
  },
  {
   "cell_type": "code",
   "execution_count": 14,
   "metadata": {},
   "outputs": [
    {
     "name": "stderr",
     "output_type": "stream",
     "text": [
      "/opt/conda/lib/python3.7/site-packages/sklearn/metrics/classification.py:1437: UndefinedMetricWarning: F-score is ill-defined and being set to 0.0 due to no predicted samples.\n",
      "  'precision', 'predicted', average, warn_for)\n"
     ]
    },
    {
     "name": "stdout",
     "output_type": "stream",
     "text": [
      "[0 1]\n",
      "Decision Tree Classifier\n",
      "F1 = 0.6196808510638299\n",
      "AUC-ROC = 0.8330050324478204\n",
      "Best depth = 8\n"
     ]
    }
   ],
   "source": [
    "# Для построения первой модели используем алгоритм дерево принятия решений\n",
    "## Создадим и обучим модель на обучающей выборке\n",
    "## Для определения оптимальной глубины дерева создадим цикл перебирающий гиперпараметры\n",
    "\n",
    "tree_best_f1 = 0\n",
    "tree_best_model = None\n",
    "tree_best_depth = 0\n",
    "tree_best_auc_roc = 0\n",
    "\n",
    "for depth in range(1, 10):\n",
    "    tree_model = DecisionTreeClassifier(max_depth = depth, random_state=101)\n",
    "    tree_model.fit(features_train, target_train)\n",
    "    tree_predicted_valid = tree_model.predict(features_valid)\n",
    "    \n",
    "    tree_probabilities_valid = tree_model.predict_proba(features_valid)\n",
    "    tree_probabilities_one_valid = tree_probabilities_valid[:, 1]\n",
    "   \n",
    "    f1_score_tree = f1_score(target_valid, tree_predicted_valid)\n",
    "\n",
    "    tree_auc_roc = roc_auc_score(target_valid, tree_probabilities_one_valid)\n",
    "    \n",
    "    if f1_score_tree > tree_best_f1:\n",
    "        tree_best_f1 = f1_score_tree \n",
    "        tree_best_model = tree_model\n",
    "        tree_best_depth = depth\n",
    "        tree_best_auc_roc = tree_auc_roc\n",
    "print(np.unique(tree_predicted_valid))\n",
    "print('Decision Tree Classifier')\n",
    "print('F1 =', tree_best_f1)\n",
    "print('AUC-ROC =', tree_best_auc_roc)\n",
    "print('Best depth =', tree_best_depth)"
   ]
  },
  {
   "cell_type": "markdown",
   "metadata": {},
   "source": [
    "#### A random forest classifier"
   ]
  },
  {
   "cell_type": "code",
   "execution_count": 15,
   "metadata": {},
   "outputs": [
    {
     "name": "stdout",
     "output_type": "stream",
     "text": [
      "Random forest\n",
      "F1 = 0.6075187969924812\n",
      "AUC-ROC = 0.8834816683681348\n",
      "Best depth = 9\n",
      "Best number of estimators = 345\n"
     ]
    }
   ],
   "source": [
    "# Построим модель применяя алгоритм random forest\n",
    "## Создадим и обучим модель на обучающей выборке\n",
    "## Для определения оптимального количество деревьев и их глубины создадим цикл перебирающий гиперпараметры\n",
    "import warnings\n",
    "warnings.filterwarnings('ignore')\n",
    "                        \n",
    "forest_best_model = None\n",
    "forest_best_f1 = 0\n",
    "forest_best_est = 0\n",
    "forest_best_depth = 0\n",
    "forest_best_auc_roc = 0\n",
    "\n",
    "for est in range(340, 400, 5):\n",
    "    for depth in range(7, 10):\n",
    "        forest_model = RandomForestClassifier(max_depth=depth, n_estimators=est, random_state=101)\n",
    "        forest_model.fit(features_train, target_train)\n",
    "        \n",
    "        forest_predicted_valid = forest_model.predict(features_valid)\n",
    "        \n",
    "        # Определим вероятность предсказания \"1\" на валидационной выборке\n",
    "        forest_probabilities_valid = forest_model.predict_proba(features_valid)\n",
    "        forest_probabilities_valid_one = forest_probabilities_valid[:, 1]\n",
    "        \n",
    "        f1_score_forest = f1_score(target_valid, forest_predicted_valid)\n",
    "        auc_roc_forest = roc_auc_score(target_valid, forest_probabilities_valid_one)\n",
    "        \n",
    "        if f1_score_forest > forest_best_f1:\n",
    "            forest_best_f1 = f1_score_forest\n",
    "            forest_best_model = forest_model\n",
    "            forest_best_est = est\n",
    "            forest_best_depth = depth\n",
    "            forest_best_auc_roc = auc_roc_forest\n",
    "\n",
    "print('Random forest')\n",
    "print('F1 =', forest_best_f1)\n",
    "print('AUC-ROC =', forest_best_auc_roc)\n",
    "print('Best depth =', forest_best_depth)\n",
    "print('Best number of estimators =', forest_best_est)"
   ]
  },
  {
   "cell_type": "markdown",
   "metadata": {},
   "source": [
    "#### Logistic regression"
   ]
  },
  {
   "cell_type": "code",
   "execution_count": 16,
   "metadata": {},
   "outputs": [
    {
     "name": "stdout",
     "output_type": "stream",
     "text": [
      "Logistic Regression\n",
      "F1 = 0.29537366548042704\n",
      "AUC-ROC = 0.7870451571122115\n"
     ]
    }
   ],
   "source": [
    "# Построим модель применяя алгоритм - логистическую регрессию\n",
    "## Создадим и обучим модель на обучающей выборке\n",
    "log_model = LogisticRegression(random_state=101)\n",
    "log_model.fit(features_train, target_train)\n",
    "log_predicted = log_model.predict(features_valid)\n",
    "\n",
    "log_probabilities = log_model.predict_proba(features_valid)\n",
    "log_probabilities_one = log_probabilities[:, 1]\n",
    "\n",
    "f1_score_log = f1_score(target_valid, log_predicted)\n",
    "auc_roc_log = roc_auc_score(target_valid, log_probabilities_one)\n",
    "\n",
    "print('Logistic Regression')\n",
    "print('F1 =', f1_score_log)\n",
    "print('AUC-ROC =', auc_roc_log)"
   ]
  },
  {
   "cell_type": "code",
   "execution_count": 17,
   "metadata": {},
   "outputs": [
    {
     "data": {
      "image/png": "[encoded data removed]",
      "text/plain": [
       "<Figure size 432x288 with 1 Axes>"
      ]
     },
     "metadata": {
      "needs_background": "light"
     },
     "output_type": "display_data"
    }
   ],
   "source": [
    "# Визуализируем результат тестирования моделей через кривую ошибок\n",
    "from sklearn.metrics import roc_curve\n",
    "\n",
    "def roc_curve_show(target, tree_one_probabilities, forest_one_probabilities, log_one_probabilities):\n",
    "\n",
    "    fpr, tpr, thresholds = roc_curve(target, tree_one_probabilities) \n",
    "    fpr2, tpr2, thresholds = roc_curve(target, forest_one_probabilities)\n",
    "    fpr3, tpr3, thresholds = roc_curve(target, log_one_probabilities)\n",
    "\n",
    "    plt.figure()\n",
    "    plt.plot(fpr, tpr)\n",
    "    plt.plot(fpr2, tpr2)\n",
    "    plt.plot(fpr3, tpr3)\n",
    "\n",
    "    plt.xlabel('False Positive Rate')\n",
    "    plt.ylabel('True Positive Rate')\n",
    "    plt.xlim(0, 1)\n",
    "    plt.ylim(0, 1)\n",
    "    plt.title('ROC-кривая')\n",
    "    plt.legend(['Tree', 'Forest', 'Log', ])\n",
    "    plt.show()\n",
    "    \n",
    "# Построим кривую ошибок при тестировании моделей машинного обучения\n",
    "roc_curve_show(target_valid, tree_probabilities_one_valid, forest_probabilities_valid_one, log_probabilities_one)"
   ]
  },
  {
   "cell_type": "markdown",
   "metadata": {},
   "source": [
    "#### Вывод:\n",
    "\n",
    "В результате построения моделей на основе несбалансированных данных были получены следующие результаты:\n",
    "- наивысшей показатель на валидационной выборке - F1 = 0.62 (AUC-ROC = 0.83) был достигнут в модели, обученной на алгоритме Decision Tree Classifier. Наивысшее значение гармонического среднего между точностью и полнотой достигнуто при глубине 8.\n",
    "- ипользование алгоритма Random forest позволило достичь показателей: F1 = 0.61 и AUC-ROC = 0.88. Наивысшей показатель F1 получен при глубине 9 и количестве деревьев 345.\n",
    "- Применение логистической регрессии дало самое низкое значение F1 = 0,3, AUC-ROC = 0.79.\n",
    "- Наивысшее значение площади под кривой ошибок получено при применении алгоритма Random forest."
   ]
  },
  {
   "cell_type": "markdown",
   "metadata": {},
   "source": [
    "## Борьба с дисбалансом"
   ]
  },
  {
   "cell_type": "markdown",
   "metadata": {},
   "source": [
    "### Взвешивание классов"
   ]
  },
  {
   "cell_type": "markdown",
   "metadata": {},
   "source": [
    "#### A decision tree classifier"
   ]
  },
  {
   "cell_type": "code",
   "execution_count": 18,
   "metadata": {},
   "outputs": [
    {
     "name": "stdout",
     "output_type": "stream",
     "text": [
      "Valid: Decision Tree Classifier Balanced\n",
      "F1 = 0.588021778584392\n",
      "AUC-ROC = 0.8301672535607154\n",
      "Best depth = 8\n"
     ]
    }
   ],
   "source": [
    "# Улучшим качество модели с учетом дисбаланса классов\n",
    "# Придадим классу \"1\" больший вес\n",
    "\n",
    "## Дерево принятия решений\n",
    "## Создадим и обучим модель на обучающей выборке\n",
    "## Для определения оптимальной глубины дерева создадим цикл перебирающий гиперпараметры\n",
    "\n",
    "tree_weighing_best_f1 = 0\n",
    "tree_weighing_best_model = None\n",
    "tree_weighing_best_depth = 0\n",
    "tree_weighing_best_auc_roc = 0\n",
    "\n",
    "for depth in range(1, 10):\n",
    "    tree_weighing_model = DecisionTreeClassifier(max_depth = depth, class_weight='balanced', random_state=101)\n",
    "    tree_weighing_model.fit(features_train, target_train)\n",
    "    tree_weighing_predicted_valid = tree_weighing_model.predict(features_valid)\n",
    "    \n",
    "    tree_weighing_probabilities_valid = tree_weighing_model.predict_proba(features_valid)\n",
    "    tree_weighing_probabilities_one_valid = tree_weighing_probabilities_valid[:, 1]\n",
    "   \n",
    "    f1_score_tree_weighing = f1_score(target_valid, tree_weighing_predicted_valid)\n",
    "\n",
    "    tree_weighing_auc_roc = roc_auc_score(target_valid, tree_weighing_probabilities_one_valid)\n",
    "    \n",
    "    if f1_score_tree_weighing > tree_weighing_best_f1:\n",
    "        tree_weighing_best_f1 = f1_score_tree_weighing\n",
    "        tree_weighing_best_model = tree_weighing_model\n",
    "        tree_weighing_best_depth = depth\n",
    "        tree_weighing_best_auc_roc = tree_weighing_auc_roc\n",
    "\n",
    "print('Valid: Decision Tree Classifier Balanced')\n",
    "print('F1 =', tree_weighing_best_f1)\n",
    "print('AUC-ROC =', tree_weighing_best_auc_roc)\n",
    "print('Best depth =', tree_weighing_best_depth)"
   ]
  },
  {
   "cell_type": "markdown",
   "metadata": {},
   "source": [
    "#### A random forest classifier"
   ]
  },
  {
   "cell_type": "code",
   "execution_count": 19,
   "metadata": {},
   "outputs": [
    {
     "name": "stdout",
     "output_type": "stream",
     "text": [
      "Random forest Balanced\n",
      "Valid:\n",
      "F1 = 0.6335540838852097\n",
      "AUC-ROC = 0.8797129540933424\n",
      "Number of estimators = 340\n",
      "Best max depth = 7\n"
     ]
    }
   ],
   "source": [
    "# Построим модель применяя алгоритм random forest\n",
    "## Создадим и обучим модель на обучающей выборке\n",
    "## Для определения оптимального количество деревьев и их глубины создадим цикл перебирающий гиперпараметры\n",
    "forest_weighing_best_model = None\n",
    "forest_weighing_best_f1 = 0\n",
    "forest_weighing_best_est = 0\n",
    "forest_weighing_best_auc_roc = 0\n",
    "forest_weighing_best_depth = 0\n",
    "\n",
    "for est in range(340, 400, 5):\n",
    "    for depth in range(7, 10):\n",
    "        forest_weighing_model = RandomForestClassifier(max_depth=depth, n_estimators=est, class_weight='balanced', random_state=101)\n",
    "        forest_weighing_model.fit(features_train, target_train)\n",
    "\n",
    "        forest_weighing_predicted_valid = forest_weighing_model.predict(features_valid)\n",
    "\n",
    "# Определим вероятность предсказания \"1\" на валидационной выборке\n",
    "        forest_weighing_probabilities_valid = forest_weighing_model.predict_proba(features_valid)\n",
    "        forest_weighing_probabilities_valid_one = forest_weighing_probabilities_valid[:, 1]\n",
    "\n",
    "        f1_score_forest_weighing = f1_score(target_valid, forest_weighing_predicted_valid)\n",
    "        auc_roc_forest_weighing = roc_auc_score(target_valid, forest_weighing_probabilities_valid_one)\n",
    "\n",
    "        if f1_score_forest > forest_weighing_best_f1:\n",
    "            forest_weighing_best_f1 = f1_score_forest_weighing\n",
    "            forest_weighing_best_model = forest_weighing_model\n",
    "            forest_weighing_best_est = est\n",
    "            forest_weighing_best_depth = depth\n",
    "            forest_weighing_best_auc_roc = auc_roc_forest_weighing\n",
    "            forest_weighing_best_depth = depth\n",
    "\n",
    "print('Random forest Balanced')\n",
    "print('Valid:')\n",
    "print('F1 =', f1_score_forest_weighing)\n",
    "print('AUC-ROC =', auc_roc_forest_weighing)\n",
    "print('Number of estimators =', forest_weighing_best_est)\n",
    "print('Best max depth =', forest_weighing_best_depth)"
   ]
  },
  {
   "cell_type": "markdown",
   "metadata": {},
   "source": [
    "#### Logistic regression"
   ]
  },
  {
   "cell_type": "code",
   "execution_count": 20,
   "metadata": {},
   "outputs": [
    {
     "name": "stdout",
     "output_type": "stream",
     "text": [
      "Logistic Regression\n",
      "F1 = 0.5134680134680135\n",
      "AUC-ROC = 0.7899354041773665\n"
     ]
    }
   ],
   "source": [
    "# Построим модель применяя алгоритм - логистическую регрессию\n",
    "## Создадим и обучим модель на обучающей выборке\n",
    "log_weighing_model = LogisticRegression(random_state=101, class_weight='balanced')\n",
    "log_weighing_model.fit(features_train, target_train)\n",
    "log_weighing_predicted = log_weighing_model.predict(features_valid)\n",
    "\n",
    "log_weighing_probabilities = log_weighing_model.predict_proba(features_valid)\n",
    "log_weighing_probabilities_one = log_weighing_probabilities[:, 1]\n",
    "\n",
    "f1_score_log_weighing = f1_score(target_valid, log_weighing_predicted)\n",
    "auc_roc_log_weighing = roc_auc_score(target_valid, log_weighing_probabilities_one)\n",
    "\n",
    "print('Logistic Regression')\n",
    "print('F1 =', f1_score_log_weighing)\n",
    "print('AUC-ROC =', auc_roc_log_weighing)"
   ]
  },
  {
   "cell_type": "markdown",
   "metadata": {},
   "source": [
    "#### Test results \"Weighing\""
   ]
  },
  {
   "cell_type": "code",
   "execution_count": 21,
   "metadata": {},
   "outputs": [
    {
     "name": "stdout",
     "output_type": "stream",
     "text": [
      "Results \"Weighing\":\n",
      "\n",
      "Decision Tree Classifier Balanced\n",
      "F1 - valid sample = 0.59\n",
      "AUC-ROC - valid sample = 0.83\n",
      "\n",
      "Random forest\n",
      "F1 - valid sample = 0.63\n",
      "AUC-ROC - valid sample = 0.88\n",
      "\n",
      "Logistic Regression\n",
      "F1 - valid sample = 0.51\n",
      "AUC-ROC - valid sample = 0.79\n"
     ]
    }
   ],
   "source": [
    "print('Results \"Weighing\":')\n",
    "print()\n",
    "print('Decision Tree Classifier Balanced')\n",
    "print('F1 - valid sample =', round(tree_weighing_best_f1, 2))\n",
    "print('AUC-ROC - valid sample =', round(tree_weighing_best_auc_roc, 2))\n",
    "print()\n",
    "print('Random forest')\n",
    "print('F1 - valid sample =', round(f1_score_forest_weighing, 2))\n",
    "print('AUC-ROC - valid sample =', round(auc_roc_forest_weighing, 2))\n",
    "print()\n",
    "print('Logistic Regression')\n",
    "print('F1 - valid sample =', round(f1_score_log_weighing, 2))\n",
    "print('AUC-ROC - valid sample =', round(auc_roc_log_weighing, 2))"
   ]
  },
  {
   "cell_type": "code",
   "execution_count": 22,
   "metadata": {},
   "outputs": [
    {
     "data": {
      "image/png": "[encoded data removed]",
      "text/plain": [
       "<Figure size 432x288 with 1 Axes>"
      ]
     },
     "metadata": {
      "needs_background": "light"
     },
     "output_type": "display_data"
    }
   ],
   "source": [
    "# Построим кривую ошибок при тестировании моделей машинного обучения\n",
    "roc_curve_show(target_valid, \n",
    "               tree_weighing_probabilities_one_valid, \n",
    "               forest_weighing_probabilities_valid_one, \n",
    "               log_weighing_probabilities_one)"
   ]
  },
  {
   "cell_type": "markdown",
   "metadata": {},
   "source": [
    "#### Вывод:\n",
    "- В результате применения гиперпараметра class_weight для устранения дисбаланса классов было получено значение F1, превышающее 0.59.\n",
    "- Наивысшее значение F1 = 0.63 на валидационной выборке было достигнуто при построении модели на основе алгоритма Random forest и гиперпараметрах: max depth = 7, number of estimators = 340. При этом значение AUC-ROC составило 0.88.\n",
    "- Самый низкий результат достигнут при применении логистической регрессии: F1 = 0.51, AUC-ROC = 0.79.\n",
    "- Применение алгоритма \"Дерево решений\" при гиперпараметре max depth = 8 позволило получить F1 = 0.59, AUC-ROC = 0.83.\n",
    "- Таким образом, модель на основе алгоритма Random forest при гиперпараметрах max depth = 7, number of estimators = 340  является оптимальной, т.к. дает наивысшее значение F1.\n"
   ]
  },
  {
   "cell_type": "markdown",
   "metadata": {},
   "source": [
    "### Upsampling"
   ]
  },
  {
   "cell_type": "code",
   "execution_count": 23,
   "metadata": {},
   "outputs": [
    {
     "name": "stdout",
     "output_type": "stream",
     "text": [
      "1    4900\n",
      "0    4775\n",
      "Name: Exited, dtype: int64\n"
     ]
    },
    {
     "data": {
      "image/png": "[encoded data removed]",
      "text/plain": [
       "<Figure size 432x288 with 1 Axes>"
      ]
     },
     "metadata": {
      "needs_background": "light"
     },
     "output_type": "display_data"
    }
   ],
   "source": [
    "# Повысим качество модели увеличив объем выборки - устраним дисбаланс\n",
    "\n",
    "# Увеличим объем обучающей выборки\n",
    "from sklearn.utils import shuffle\n",
    "\n",
    "repeat = 4\n",
    "\n",
    "features_zeros = features_train[target_train == 0]\n",
    "features_ones = features_train[target_train == 1]\n",
    "target_zeros = target_train[target_train == 0]\n",
    "target_ones = target_train[target_train == 1]\n",
    "\n",
    "features_upsampled = pd.concat([features_zeros] + [features_ones] * repeat)\n",
    "target_upsampled = pd.concat([target_zeros] + [target_ones] * repeat)\n",
    "    \n",
    "features_upsampled, target_upsampled = shuffle(features_upsampled, target_upsampled, random_state=101)\n",
    "\n",
    "# Проверим устранение дисбаланса\n",
    "\n",
    "target_uni = target_upsampled.value_counts()\n",
    "print(target_uni)\n",
    "\n",
    "target_upsampled.hist()\n",
    "plt.suptitle('Гистограмма распределения значений exit после увеличения выборки')\n",
    "plt.xlabel('Exiting')\n",
    "plt.ylabel('Frequency')\n",
    "plt.show()"
   ]
  },
  {
   "cell_type": "markdown",
   "metadata": {},
   "source": [
    "#### A decision tree classifier"
   ]
  },
  {
   "cell_type": "code",
   "execution_count": 24,
   "metadata": {},
   "outputs": [
    {
     "name": "stdout",
     "output_type": "stream",
     "text": [
      "Valid: Decision Tree Classifier Balanced\n",
      "F1 = 0.5911151405258386\n",
      "AUC-ROC = 0.8341151091862784\n",
      "Best depth = 8\n"
     ]
    }
   ],
   "source": [
    "## Создадим и обучим модель на увеличинной обучающей выборке - алгоритм Дерево принятия решений\n",
    "## Для определения оптимальной глубины дерева создадим цикл перебирающий гиперпараметры\n",
    "\n",
    "tree_upsampling_best_f1 = 0\n",
    "tree_upsampling_best_model = None\n",
    "tree_upsampling_best_depth = 0\n",
    "tree_upsampling_best_auc_roc = 0\n",
    "\n",
    "for depth in range(1, 10):\n",
    "    tree_upsampling_model = DecisionTreeClassifier(max_depth = depth, random_state=101)\n",
    "    tree_upsampling_model.fit(features_upsampled, target_upsampled)\n",
    "    tree_upsampling_predicted_valid = tree_upsampling_model.predict(features_valid)\n",
    "    \n",
    "    tree_upsampling_probabilities_valid = tree_upsampling_model.predict_proba(features_valid)\n",
    "    tree_upsampling_probabilities_one_valid = tree_upsampling_probabilities_valid[:, 1]\n",
    "   \n",
    "    f1_score_tree_upsampling = f1_score(target_valid, tree_upsampling_predicted_valid)\n",
    "\n",
    "    tree_upsampling_auc_roc = roc_auc_score(target_valid, tree_upsampling_probabilities_one_valid)\n",
    "    \n",
    "    if f1_score_tree_upsampling > tree_upsampling_best_f1:\n",
    "        tree_upsampling_best_f1 = f1_score_tree_upsampling \n",
    "        tree_upsampling_best_model = tree_upsampling_model\n",
    "        tree_upsampling_best_depth = depth\n",
    "        tree_upsampling_best_auc_roc = tree_upsampling_auc_roc\n",
    "\n",
    "print('Valid: Decision Tree Classifier Balanced')\n",
    "print('F1 =', tree_upsampling_best_f1)\n",
    "print('AUC-ROC =', tree_upsampling_best_auc_roc)\n",
    "print('Best depth =', tree_upsampling_best_depth)"
   ]
  },
  {
   "cell_type": "markdown",
   "metadata": {},
   "source": [
    "#### A random forest classifier"
   ]
  },
  {
   "cell_type": "code",
   "execution_count": 25,
   "metadata": {},
   "outputs": [
    {
     "name": "stdout",
     "output_type": "stream",
     "text": [
      "Random forest Balanced\n",
      "Valid:\n",
      "F1 = 0.6179337231968811\n",
      "AUC-ROC = 0.8776082306081361\n",
      "Best depth = 7\n",
      "Best number of estimators = 340\n"
     ]
    }
   ],
   "source": [
    "# Построим модель применяя алгоритм random forest\n",
    "## Создадим и обучим модель на обучающей выборке\n",
    "## Для определения оптимального количество деревьев и их глубины создадим цикл перебирающий гиперпараметры\n",
    "\n",
    "forest_upsampling_best_model = None\n",
    "forest_upsampling_best_f1 = 0\n",
    "forest_upsampling_best_est = 0\n",
    "forest_upsampling_best_depth = 0\n",
    "forest_upsampling_best_auc_roc = 0\n",
    "\n",
    "for est in range(340, 400, 5):\n",
    "    for depth in range(7, 10):\n",
    "        forest_upsampling_model = RandomForestClassifier(max_depth=depth, n_estimators=est, class_weight='balanced', random_state=101)\n",
    "        forest_upsampling_model.fit(features_upsampled, target_upsampled)\n",
    "        \n",
    "        forest_upsampling_predicted_valid = forest_upsampling_model.predict(features_valid)\n",
    "        \n",
    "        # Определим вероятность предсказания \"1\" на валидационной выборке\n",
    "        forest_upsampling_probabilities_valid = forest_upsampling_model.predict_proba(features_valid)\n",
    "        forest_upsampling_probabilities_valid_one = forest_upsampling_probabilities_valid[:, 1]\n",
    "        \n",
    "        f1_score_forest_upsampling = f1_score(target_valid, forest_upsampling_predicted_valid)\n",
    "        auc_roc_forest_upsampling = roc_auc_score(target_valid, forest_upsampling_probabilities_valid_one)\n",
    "        \n",
    "        if f1_score_forest > forest_upsampling_best_f1:\n",
    "            forest_upsampling_best_f1 = f1_score_forest_upsampling\n",
    "            forest_upsampling_best_model = forest_upsampling_model\n",
    "            forest_upsampling_best_est = est\n",
    "            forest_upsampling_best_depth = depth\n",
    "            forest_upsampling_best_auc_roc = auc_roc_forest_upsampling\n",
    "\n",
    "print('Random forest Balanced')\n",
    "print('Valid:')\n",
    "print('F1 =', forest_upsampling_best_f1)\n",
    "print('AUC-ROC =', forest_upsampling_best_auc_roc)\n",
    "print('Best depth =', forest_upsampling_best_depth)\n",
    "print('Best number of estimators =', forest_upsampling_best_est)"
   ]
  },
  {
   "cell_type": "markdown",
   "metadata": {},
   "source": [
    "#### Logistic regression"
   ]
  },
  {
   "cell_type": "code",
   "execution_count": 26,
   "metadata": {},
   "outputs": [
    {
     "name": "stdout",
     "output_type": "stream",
     "text": [
      "Logistic Regression\n",
      "F1 = 0.5173553719008265\n",
      "AUC-ROC = 0.7900013641726293\n"
     ]
    }
   ],
   "source": [
    "# Построим модель применяя алгоритм - логистическую регрессию\n",
    "## Создадим и обучим модель на обучающей выборке\n",
    "log_upsampling_model = LogisticRegression(random_state=101)\n",
    "log_upsampling_model.fit(features_upsampled, target_upsampled)\n",
    "log_upsampling_predicted = log_upsampling_model.predict(features_valid)\n",
    "\n",
    "log_upsampling_probabilities = log_upsampling_model.predict_proba(features_valid)\n",
    "log_upsampling_probabilities_one = log_upsampling_probabilities[:, 1]\n",
    "\n",
    "f1_score_log_upsampling = f1_score(target_valid, log_upsampling_predicted)\n",
    "auc_roc_log_upsampling = roc_auc_score(target_valid, log_upsampling_probabilities_one)\n",
    "\n",
    "print('Logistic Regression')\n",
    "print('F1 =', f1_score_log_upsampling)\n",
    "print('AUC-ROC =', auc_roc_log_upsampling)"
   ]
  },
  {
   "cell_type": "markdown",
   "metadata": {},
   "source": [
    "#### Test results \"Upsampling\""
   ]
  },
  {
   "cell_type": "code",
   "execution_count": 27,
   "metadata": {},
   "outputs": [
    {
     "name": "stdout",
     "output_type": "stream",
     "text": [
      "Results \"Upsampling\":\n",
      "\n",
      "Decision Tree Classifier\n",
      "F1 - valid sample = 0.59\n",
      "AUC-ROC - valid sample = 0.83\n",
      "\n",
      "Random forest\n",
      "F1 - valid sample = 0.62\n",
      "AUC-ROC - valid sample = 0.88\n",
      "\n",
      "Logistic Regression\n",
      "F1 - valid sample = 0.52\n",
      "AUC-ROC - valid sample = 0.79\n"
     ]
    }
   ],
   "source": [
    "print('Results \"Upsampling\":')\n",
    "print()\n",
    "print('Decision Tree Classifier')\n",
    "print('F1 - valid sample =', round(tree_upsampling_best_f1, 2))\n",
    "print('AUC-ROC - valid sample =', round(tree_upsampling_best_auc_roc, 2))\n",
    "print()\n",
    "print('Random forest')\n",
    "print('F1 - valid sample =', round(forest_upsampling_best_f1, 2))\n",
    "print('AUC-ROC - valid sample =', round(forest_upsampling_best_auc_roc, 2))\n",
    "print()\n",
    "print('Logistic Regression')\n",
    "print('F1 - valid sample =', round(f1_score_log_upsampling, 2))\n",
    "print('AUC-ROC - valid sample =', round(auc_roc_log_upsampling, 2))"
   ]
  },
  {
   "cell_type": "code",
   "execution_count": 28,
   "metadata": {},
   "outputs": [
    {
     "data": {
      "image/png": "[encoded data removed]",
      "text/plain": [
       "<Figure size 432x288 with 1 Axes>"
      ]
     },
     "metadata": {
      "needs_background": "light"
     },
     "output_type": "display_data"
    }
   ],
   "source": [
    "# Построим кривую ошибок при тестировании моделей машинного обучения\n",
    "roc_curve_show(target_valid, \n",
    "               tree_upsampling_probabilities_one_valid, \n",
    "               forest_upsampling_probabilities_valid_one, \n",
    "               log_upsampling_probabilities_one)"
   ]
  },
  {
   "cell_type": "markdown",
   "metadata": {},
   "source": [
    "#### Вывод:\n",
    "- В результате увеличения выборки для устранения дисбаланса классов наивысшее значение F1 = 0.62 было получено при применении алгоритма Random forest (max depth = 7, number of estimators = 340). \n",
    "- Самый низкий результат на валидационной выборке достигнут при применении логистической регрессии: F1 = 0.52, AUC-ROC = 0.79.\n",
    "- Наивысшее значение AUC-ROC было достигнуто в модели при примении алгоритма Random forest (AUC-ROC = 0.88). Применение Decision Tree Classifier позволило получить AUC-ROC = 0.83."
   ]
  },
  {
   "cell_type": "markdown",
   "metadata": {},
   "source": [
    "### Downsampling"
   ]
  },
  {
   "cell_type": "code",
   "execution_count": 29,
   "metadata": {},
   "outputs": [
    {
     "name": "stdout",
     "output_type": "stream",
     "text": [
      "0    1227\n",
      "1    1225\n",
      "Name: Exited, dtype: int64\n"
     ]
    },
    {
     "data": {
      "image/png": "[encoded data removed]",
      "text/plain": [
       "<Figure size 432x288 with 1 Axes>"
      ]
     },
     "metadata": {
      "needs_background": "light"
     },
     "output_type": "display_data"
    }
   ],
   "source": [
    "# Повысим качество модели уменьшив объем выборки - устраним дисбаланс\n",
    "\n",
    "# Уменьшим объем обучающей выборки\n",
    "fraction = 0.257\n",
    "\n",
    "features_zeros = features_train[target_train == 0]\n",
    "features_ones = features_train[target_train == 1]\n",
    "target_zeros = target_train[target_train == 0]\n",
    "target_ones = target_train[target_train == 1]\n",
    "\n",
    "features_downsampled = pd.concat(\n",
    "    [features_zeros.sample(frac=fraction, random_state=101)] + [features_ones])\n",
    "target_downsampled = pd.concat(\n",
    "    [target_zeros.sample(frac=fraction, random_state=101)] + [target_ones])\n",
    "\n",
    "features_downsampled, target_downsampled = shuffle(\n",
    "    features_downsampled, target_downsampled, random_state=101)\n",
    "\n",
    "# Проверим устранение дисбаланса\n",
    "\n",
    "target_uni = target_downsampled.value_counts()\n",
    "print(target_uni)\n",
    "\n",
    "target_downsampled.hist()\n",
    "plt.suptitle('Гистограмма распределения значений exit после уменьшения выборки') \n",
    "plt.xlabel('Exiting')\n",
    "plt.ylabel('Frequency')\n",
    "plt.show()"
   ]
  },
  {
   "cell_type": "markdown",
   "metadata": {},
   "source": [
    "#### A decision tree classifier"
   ]
  },
  {
   "cell_type": "code",
   "execution_count": 30,
   "metadata": {},
   "outputs": [
    {
     "name": "stdout",
     "output_type": "stream",
     "text": [
      "Valid: Decision Tree Classifier Balanced\n",
      "F1 = 0.599250936329588\n",
      "AUC-ROC = 0.8118213803328285\n",
      "Best depth = 8\n"
     ]
    }
   ],
   "source": [
    "## Создадим и обучим модель на увеличинной обучающей выборке - алгоритм Дерево принятия решений\n",
    "## Для определения оптимальной глубины дерева создадим цикл перебирающий гиперпараметры\n",
    "\n",
    "tree_downsampling_best_f1 = 0\n",
    "tree_downsampling_best_model = None\n",
    "tree_downsampling_best_depth = 0\n",
    "tree_downsampling_best_auc_roc = 0\n",
    "\n",
    "for depth in range(1, 10):\n",
    "    tree_downsampling_model = DecisionTreeClassifier(max_depth = depth, random_state=101)\n",
    "    tree_downsampling_model.fit(features_downsampled, target_downsampled)\n",
    "    tree_downsampling_predicted_valid = tree_downsampling_model.predict(features_valid)\n",
    "    \n",
    "    tree_downsampling_probabilities_valid = tree_downsampling_model.predict_proba(features_valid)\n",
    "    tree_downsampling_probabilities_one_valid = tree_downsampling_probabilities_valid[:, 1]\n",
    "   \n",
    "    f1_score_tree_downsampling = f1_score(target_valid, tree_downsampling_predicted_valid)\n",
    "\n",
    "    tree_downsampling_auc_roc = roc_auc_score(target_valid, tree_downsampling_probabilities_one_valid)\n",
    "    \n",
    "    if f1_score_tree_downsampling > tree_downsampling_best_f1:\n",
    "        tree_downsampling_best_f1 = f1_score_tree_downsampling\n",
    "        tree_downsampling_best_model = tree_downsampling_model\n",
    "        tree_downsampling_best_depth = depth\n",
    "        tree_downsampling_best_auc_roc = tree_downsampling_auc_roc\n",
    "\n",
    "print('Valid: Decision Tree Classifier Balanced')\n",
    "print('F1 =', tree_downsampling_best_f1)\n",
    "print('AUC-ROC =', tree_downsampling_best_auc_roc)\n",
    "print('Best depth =', tree_downsampling_best_depth)"
   ]
  },
  {
   "cell_type": "markdown",
   "metadata": {},
   "source": [
    "#### A random forest classifier"
   ]
  },
  {
   "cell_type": "code",
   "execution_count": 31,
   "metadata": {},
   "outputs": [
    {
     "name": "stdout",
     "output_type": "stream",
     "text": [
      "Random forest Balanced\n",
      "Valid:\n",
      "F1 = 0.612933458294283\n",
      "AUC-ROC = 0.8763235097913116\n",
      "Best number of estimators = 340\n",
      "Best max depth = 7\n"
     ]
    }
   ],
   "source": [
    "# Построим модель применяя алгоритм random forest\n",
    "## Создадим и обучим модель на обучающей выборке\n",
    "## Для определения оптимального количество деревьев и их глубины создадим цикл перебирающий гиперпараметры\n",
    "\n",
    "forest_downsampling_best_model = None\n",
    "forest_downsampling_best_f1 = 0\n",
    "forest_downsampling_best_est = 0\n",
    "forest_downsampling_best_auc_roc = 0\n",
    "forest_downsampling_best_depth = 0\n",
    "\n",
    "\n",
    "for est in range(340, 400, 5):\n",
    "    for depth in range(7, 10):\n",
    "        forest_downsampling_model = RandomForestClassifier(max_depth=depth, n_estimators=est, random_state=101)\n",
    "        forest_downsampling_model.fit(features_downsampled, target_downsampled)\n",
    "\n",
    "        forest_downsampling_predicted_valid = forest_downsampling_model.predict(features_valid)\n",
    "\n",
    "        # Определим вероятность предсказания \"1\" на валидационной выборке\n",
    "        forest_downsampling_probabilities_valid = forest_downsampling_model.predict_proba(features_valid)\n",
    "        forest_downsampling_probabilities_valid_one = forest_downsampling_probabilities_valid[:, 1]\n",
    "\n",
    "        f1_score_forest_downsampling = f1_score(target_valid, forest_downsampling_predicted_valid)\n",
    "        auc_roc_forest_downsampling = roc_auc_score(target_valid, forest_downsampling_probabilities_valid_one)\n",
    "\n",
    "        if f1_score_forest > forest_downsampling_best_f1:\n",
    "            forest_downsampling_best_f1 = f1_score_forest_downsampling\n",
    "            forest_downsampling_best_model = forest_downsampling_model\n",
    "            forest_downsampling_best_est = est\n",
    "            forest_downsampling_best_auc_roc = auc_roc_forest_downsampling\n",
    "            forest_downsampling_best_depth = depth\n",
    "\n",
    "print('Random forest Balanced')\n",
    "print('Valid:')\n",
    "print('F1 =', forest_downsampling_best_f1)\n",
    "print('AUC-ROC =', forest_downsampling_best_auc_roc)\n",
    "print('Best number of estimators =', forest_downsampling_best_est)\n",
    "print('Best max depth =', forest_downsampling_best_depth)"
   ]
  },
  {
   "cell_type": "markdown",
   "metadata": {},
   "source": [
    "#### Logistic regression"
   ]
  },
  {
   "cell_type": "code",
   "execution_count": 32,
   "metadata": {
    "scrolled": true
   },
   "outputs": [
    {
     "name": "stdout",
     "output_type": "stream",
     "text": [
      "Logistic Regression\n",
      "F1 = 0.5134228187919464\n",
      "AUC-ROC = 0.7897869941880249\n"
     ]
    }
   ],
   "source": [
    "# Построим модель применяя алгоритм - логистическую регрессию\n",
    "## Создадим и обучим модель на обучающей выборке\n",
    "log_downsampling_model = LogisticRegression(random_state=101)\n",
    "log_downsampling_model.fit(features_downsampled, target_downsampled)\n",
    "log_downsampling_predicted = log_downsampling_model.predict(features_valid)\n",
    "\n",
    "log_downsampling_probabilities = log_downsampling_model.predict_proba(features_valid)\n",
    "log_downsampling_probabilities_one = log_downsampling_probabilities[:, 1]\n",
    "\n",
    "f1_score_log_downsampling = f1_score(target_valid, log_downsampling_predicted)\n",
    "auc_roc_log_downsampling = roc_auc_score(target_valid, log_downsampling_probabilities_one)\n",
    "\n",
    "print('Logistic Regression')\n",
    "print('F1 =', f1_score_log_downsampling)\n",
    "print('AUC-ROC =', auc_roc_log_downsampling)"
   ]
  },
  {
   "cell_type": "markdown",
   "metadata": {},
   "source": [
    "#### Test results \"Downsampling\""
   ]
  },
  {
   "cell_type": "code",
   "execution_count": 33,
   "metadata": {},
   "outputs": [
    {
     "name": "stdout",
     "output_type": "stream",
     "text": [
      "Results \"Downsampling\":\n",
      "\n",
      "Decision Tree Classifier Balanced\n",
      "F1 - valid sample = 0.6\n",
      "AUC-ROC - valid sample = 0.81\n",
      "\n",
      "Random forest Balanced\n",
      "F1 - valid sample = 0.61\n",
      "AUC-ROC - valid sample = 0.88\n",
      "\n",
      "Logistic Regression\n",
      "F1 - valid sample = 0.51\n",
      "AUC-ROC - valid sample = 0.79\n"
     ]
    }
   ],
   "source": [
    "print('Results \"Downsampling\":')\n",
    "print()\n",
    "print('Decision Tree Classifier Balanced')\n",
    "print('F1 - valid sample =', round(tree_downsampling_best_f1, 2))\n",
    "print('AUC-ROC - valid sample =', round(tree_downsampling_best_auc_roc, 2))\n",
    "print()\n",
    "print('Random forest Balanced')\n",
    "print('F1 - valid sample =', round(forest_downsampling_best_f1, 2))\n",
    "print('AUC-ROC - valid sample =', round(forest_downsampling_best_auc_roc, 2))\n",
    "print()\n",
    "print('Logistic Regression')\n",
    "print('F1 - valid sample =', round(f1_score_log_downsampling, 2))\n",
    "print('AUC-ROC - valid sample =', round(auc_roc_log_downsampling, 2))"
   ]
  },
  {
   "cell_type": "code",
   "execution_count": 34,
   "metadata": {},
   "outputs": [
    {
     "data": {
      "image/png": "[encoded data removed]",
      "text/plain": [
       "<Figure size 432x288 with 1 Axes>"
      ]
     },
     "metadata": {
      "needs_background": "light"
     },
     "output_type": "display_data"
    }
   ],
   "source": [
    "# Построим кривую ошибок при тестировании моделей машинного обучения\n",
    "roc_curve_show(target_valid, \n",
    "               tree_downsampling_probabilities_one_valid, \n",
    "               forest_downsampling_probabilities_valid_one, \n",
    "               log_downsampling_probabilities_one)"
   ]
  },
  {
   "cell_type": "markdown",
   "metadata": {},
   "source": [
    "#### Вывод:\n",
    "- В результате уменьшения выборки с нулевыми значениями для устранения дисбаланса классов наивысшее значение F1 = 0.61 было получено при применении алгоритма Random forest (max depth = 7, number of estimators = 340). \n",
    "- Самый низкий результат достигнут при применении логистической регрессии: F1 = 0.51, AUC-ROC = 0.79.\n",
    "- Наивысшее значение AUC-ROC было достигнуто в модели при примении алгоритма Random forest (AUC-ROC = 0.88). Применение Decision Tree Classifier позволило получить AUC-ROC = 0.81."
   ]
  },
  {
   "cell_type": "markdown",
   "metadata": {},
   "source": [
    "### Вывод по этапу 3:\n",
    "\n",
    "Применив различные методы устранения дисбаланса классов и исследовав результаты работы различных моделей, мы пришли к выводу, что наиболее эффективным методом устранения дисбаланса в данной задаче является взвешивание. Модель на алгоритме Random forest позволяет получить максимальное значение F1 на валидационной выборке равное 0.63. Значение AUC-ROC равное 0.88 также является наибольшим среди результатов работы иных моделей."
   ]
  },
  {
   "cell_type": "markdown",
   "metadata": {},
   "source": [
    "## Тестирование модели"
   ]
  },
  {
   "cell_type": "markdown",
   "metadata": {},
   "source": [
    "### Проверка качества модели на тестовой выборке"
   ]
  },
  {
   "cell_type": "code",
   "execution_count": 35,
   "metadata": {},
   "outputs": [
    {
     "name": "stdout",
     "output_type": "stream",
     "text": [
      "Random forest - Test:\n",
      "F1 - test sample = 0.59\n",
      "AUC-ROC - test sample = 0.85\n"
     ]
    }
   ],
   "source": [
    "# Проверим результаты обучения модели на тестовой выборке\n",
    "\n",
    "forest_weighing_test_predicted = forest_weighing_best_model.predict(features_test)\n",
    "\n",
    "forest_weighing_probabilities_test = forest_weighing_best_model.predict_proba(features_test)\n",
    "forest_weighing_probabilities_one_test = forest_weighing_probabilities_test[:, 1]\n",
    "\n",
    "f1_score_forest_weighing_test = f1_score(target_test, forest_weighing_test_predicted)\n",
    "forest_weighing_test_auc_roc = roc_auc_score(target_test, forest_weighing_probabilities_one_test)\n",
    "\n",
    "print('Random forest - Test:')\n",
    "print('F1 - test sample =', round(f1_score_forest_weighing_test, 2))\n",
    "print('AUC-ROC - test sample =', round(forest_weighing_test_auc_roc, 2))"
   ]
  },
  {
   "cell_type": "markdown",
   "metadata": {},
   "source": [
    "### Повышение качества модели и тестирование"
   ]
  },
  {
   "cell_type": "code",
   "execution_count": 36,
   "metadata": {},
   "outputs": [
    {
     "name": "stdout",
     "output_type": "stream",
     "text": [
      "Random forest:\n",
      "F1 = 0.6\n",
      "AUC-ROC = 0.85\n"
     ]
    },
    {
     "data": {
      "image/png": "[encoded data removed]",
      "text/plain": [
       "<Figure size 432x288 with 1 Axes>"
      ]
     },
     "metadata": {
      "needs_background": "light"
     },
     "output_type": "display_data"
    }
   ],
   "source": [
    "# Обучим модель на увеличенной выборке и проверим качество на тестовой выборке\n",
    "\n",
    "features_train_valid = features_train.append(features_valid)\n",
    "target_train_valid = target_train.append(target_valid)\n",
    "\n",
    "forest_weighing_best_model.fit(features_train_valid, target_train_valid)\n",
    "\n",
    "tv_forest_weighing_test_predicted = forest_weighing_best_model.predict(features_test)\n",
    "\n",
    "tv_forest_weighing_probabilities_test = forest_weighing_best_model.predict_proba(features_test)\n",
    "tv_forest_weighing_probabilities_one_test = tv_forest_weighing_probabilities_test[:, 1]\n",
    "\n",
    "tv_f1_score_forest_weighing_test = f1_score(target_test, tv_forest_weighing_test_predicted)\n",
    "tv_forest_weighing_test_auc_roc = roc_auc_score(target_test, tv_forest_weighing_probabilities_one_test)\n",
    "\n",
    "print('Random forest:')\n",
    "print('F1 =', round(tv_f1_score_forest_weighing_test, 2))\n",
    "print('AUC-ROC =', round(tv_forest_weighing_test_auc_roc, 2))\n",
    "\n",
    "# Визуализируем результат тестирования наилучшей модели через кривую ошибок\n",
    "\n",
    "fpr, tpr, thresholds = roc_curve(target_test, tv_forest_weighing_probabilities_one_test) \n",
    "\n",
    "plt.figure()\n",
    "plt.plot(fpr, tpr)\n",
    "plt.xlabel('False Positive Rate')\n",
    "plt.ylabel('True Positive Rate')\n",
    "plt.xlim(0, 1)\n",
    "plt.ylim(0, 1)\n",
    "plt.title('ROC-кривая')\n",
    "plt.show()"
   ]
  },
  {
   "cell_type": "markdown",
   "metadata": {},
   "source": [
    "### Вывод:\n",
    "Проверка качества модели удовлетворяет условию: F1 не менее 0.59. \n",
    "Переобучение наилучшей модели на объединенных обучающей и валидационной выборках позволило улучшить качество модели. Метрика F1 повышена до 0.6."
   ]
  },
  {
   "cell_type": "markdown",
   "metadata": {},
   "source": [
    "## Общий вывод:\n",
    "\n",
    "- В результате выполнения проекта была проведена подготовка данных: ряд признаков был преобразован техникой OHE, ряд признаков был стандартизирован для устранения влияния эффекта масштаба исходных данных.\n",
    "- В результате исследования моделей без учета дисбаланса классов наилучшее качество было получено при применении алгоритма Дерево принятия решений (F1 = 0.56, AUC-ROC = 0.85).\n",
    "- Затем были применены различные методы устранения дисбаланса классов: взвешивание, увеличение выборки путем добавления объектов со значением \"1\", уменьшение выборки путем сокращения доли нулевых значений. Наиболее эффективным методом в данной задаче стало взвешивание, которое получило получить максимальное значение F1 = 0.6.\n",
    "- В результате сравнения метрик каждой модели была выбрана наиболее эффективная модель на алгоритме Random forest.\n",
    "- Увеличение обучающей выборки засчет валидационных данных позволило повысить качество модели. Метрика F1 увеличилась до 0.61. \n",
    "- В результате тестирования качества модели наивысшее значение метрики AUC-ROC составляет 0.85."
   ]
  }
 ],
 "metadata": {
  "kernelspec": {
   "display_name": "Python 3",
   "language": "python",
   "name": "python3"
  },
  "language_info": {
   "codemirror_mode": {
    "name": "ipython",
    "version": 3
   },
   "file_extension": ".py",
   "mimetype": "text/x-python",
   "name": "python",
   "nbconvert_exporter": "python",
   "pygments_lexer": "ipython3",
   "version": "3.7.8"
  },
  "toc": {
   "base_numbering": 1,
   "nav_menu": {},
   "number_sections": true,
   "sideBar": true,
   "skip_h1_title": true,
   "title_cell": "Содержание:",
   "title_sidebar": "Contents",
   "toc_cell": true,
   "toc_position": {
    "height": "calc(100% - 180px)",
    "left": "10px",
    "top": "150px",
    "width": "188.6px"
   },
   "toc_section_display": true,
   "toc_window_display": true
  }
 },
 "nbformat": 4,
 "nbformat_minor": 2
}
