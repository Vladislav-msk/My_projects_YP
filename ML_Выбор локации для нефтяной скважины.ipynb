{
 "cells": [
  {
   "cell_type": "markdown",
   "metadata": {
    "toc": true
   },
   "source": [
    "<h1>Содержание проекта: \"Выбор локации для нефтяной скважины\"<span class=\"tocSkip\"></span></h1>\n",
    "<div class=\"toc\"><ul class=\"toc-item\"><li><span><a href=\"#Загрузка-и-подготовка-данных\" data-toc-modified-id=\"Загрузка-и-подготовка-данных-1\"><span class=\"toc-item-num\">1&nbsp;&nbsp;</span>Загрузка и подготовка данных</a></span><ul class=\"toc-item\"><li><span><a href=\"#Импорт-данных-и-первичное-ознакомление\" data-toc-modified-id=\"Импорт-данных-и-первичное-ознакомление-1.1\"><span class=\"toc-item-num\">1.1&nbsp;&nbsp;</span>Импорт данных и первичное ознакомление</a></span><ul class=\"toc-item\"><li><span><a href=\"#Вывод:\" data-toc-modified-id=\"Вывод:-1.1.1\"><span class=\"toc-item-num\">1.1.1&nbsp;&nbsp;</span>Вывод:</a></span></li></ul></li><li><span><a href=\"#Исследование-распределения-целевого-признака\" data-toc-modified-id=\"Исследование-распределения-целевого-признака-1.2\"><span class=\"toc-item-num\">1.2&nbsp;&nbsp;</span>Исследование распределения целевого признака</a></span><ul class=\"toc-item\"><li><span><a href=\"#Вывод:\" data-toc-modified-id=\"Вывод:-1.2.1\"><span class=\"toc-item-num\">1.2.1&nbsp;&nbsp;</span>Вывод:</a></span></li></ul></li><li><span><a href=\"#Анализ-значений-признаков\" data-toc-modified-id=\"Анализ-значений-признаков-1.3\"><span class=\"toc-item-num\">1.3&nbsp;&nbsp;</span>Анализ значений признаков</a></span></li><li><span><a href=\"#Разбеение-данных-на-обучающую-и-валидационную-выборки\" data-toc-modified-id=\"Разбеение-данных-на-обучающую-и-валидационную-выборки-1.4\"><span class=\"toc-item-num\">1.4&nbsp;&nbsp;</span>Разбеение данных на обучающую и валидационную выборки</a></span></li><li><span><a href=\"#Стандартизация-признаков\" data-toc-modified-id=\"Стандартизация-признаков-1.5\"><span class=\"toc-item-num\">1.5&nbsp;&nbsp;</span>Стандартизация признаков</a></span><ul class=\"toc-item\"><li><span><a href=\"#Вывод:\" data-toc-modified-id=\"Вывод:-1.5.1\"><span class=\"toc-item-num\">1.5.1&nbsp;&nbsp;</span>Вывод:</a></span></li></ul></li></ul></li><li><span><a href=\"#Обучение-и-проверка-модели-для-каждого-региона\" data-toc-modified-id=\"Обучение-и-проверка-модели-для-каждого-региона-2\"><span class=\"toc-item-num\">2&nbsp;&nbsp;</span>Обучение и проверка модели для каждого региона</a></span><ul class=\"toc-item\"><li><span><a href=\"#Обучение-модели-и-предсказание-на-валидационной-выборке\" data-toc-modified-id=\"Обучение-модели-и-предсказание-на-валидационной-выборке-2.1\"><span class=\"toc-item-num\">2.1&nbsp;&nbsp;</span>Обучение модели и предсказание на валидационной выборке</a></span><ul class=\"toc-item\"><li><span><a href=\"#Обучение-модели-и-предсказание-запасов-сырья-в-регионе-1\" data-toc-modified-id=\"Обучение-модели-и-предсказание-запасов-сырья-в-регионе-1-2.1.1\"><span class=\"toc-item-num\">2.1.1&nbsp;&nbsp;</span>Обучение модели и предсказание запасов сырья в регионе 1</a></span></li><li><span><a href=\"#Обучение-модели-и-предсказание-запасов-сырья-в-регионе-2\" data-toc-modified-id=\"Обучение-модели-и-предсказание-запасов-сырья-в-регионе-2-2.1.2\"><span class=\"toc-item-num\">2.1.2&nbsp;&nbsp;</span>Обучение модели и предсказание запасов сырья в регионе 2</a></span></li><li><span><a href=\"#Обучение-модели-и-предсказание-запасов-сырья-в-регионе-3\" data-toc-modified-id=\"Обучение-модели-и-предсказание-запасов-сырья-в-регионе-3-2.1.3\"><span class=\"toc-item-num\">2.1.3&nbsp;&nbsp;</span>Обучение модели и предсказание запасов сырья в регионе 3</a></span></li><li><span><a href=\"#Вывод:\" data-toc-modified-id=\"Вывод:-2.1.4\"><span class=\"toc-item-num\">2.1.4&nbsp;&nbsp;</span>Вывод:</a></span></li></ul></li></ul></li><li><span><a href=\"#Подготовка-к-расчёту-прибыли\" data-toc-modified-id=\"Подготовка-к-расчёту-прибыли-3\"><span class=\"toc-item-num\">3&nbsp;&nbsp;</span>Подготовка к расчёту прибыли</a></span><ul class=\"toc-item\"><li><span><a href=\"#Определим-ключевые-значения-для-расчетов\" data-toc-modified-id=\"Определим-ключевые-значения-для-расчетов-3.1\"><span class=\"toc-item-num\">3.1&nbsp;&nbsp;</span>Определим ключевые значения для расчетов</a></span></li><li><span><a href=\"#Определение-достаточного-объёма-сырья-для-безубыточной-разработки-новой-скважины\" data-toc-modified-id=\"Определение-достаточного-объёма-сырья-для-безубыточной-разработки-новой-скважины-3.2\"><span class=\"toc-item-num\">3.2&nbsp;&nbsp;</span>Определение достаточного объёма сырья для безубыточной разработки новой скважины</a></span></li><li><span><a href=\"#Вывод:\" data-toc-modified-id=\"Вывод:-3.3\"><span class=\"toc-item-num\">3.3&nbsp;&nbsp;</span>Вывод:</a></span></li></ul></li><li><span><a href=\"#Расчёт-прибыли-и-рисков\" data-toc-modified-id=\"Расчёт-прибыли-и-рисков-4\"><span class=\"toc-item-num\">4&nbsp;&nbsp;</span>Расчёт прибыли и рисков</a></span><ul class=\"toc-item\"><li><span><a href=\"#Функция-для-расчета-прибыли\" data-toc-modified-id=\"Функция-для-расчета-прибыли-4.1\"><span class=\"toc-item-num\">4.1&nbsp;&nbsp;</span>Функция для расчета прибыли</a></span></li><li><span><a href=\"#Функция-для-применения-техники-Bootstrap-и-рассчета-рисков-и-прибыли\" data-toc-modified-id=\"Функция-для-применения-техники-Bootstrap-и-рассчета-рисков-и-прибыли-4.2\"><span class=\"toc-item-num\">4.2&nbsp;&nbsp;</span>Функция для применения техники Bootstrap и рассчета рисков и прибыли</a></span></li><li><span><a href=\"#Рассчет-рисков-и-прибыли-для-каждого-региона\" data-toc-modified-id=\"Рассчет-рисков-и-прибыли-для-каждого-региона-4.3\"><span class=\"toc-item-num\">4.3&nbsp;&nbsp;</span>Рассчет рисков и прибыли для каждого региона</a></span></li><li><span><a href=\"#Прибыль-и-риски-для-каждого-региона\" data-toc-modified-id=\"Прибыль-и-риски-для-каждого-региона-4.4\"><span class=\"toc-item-num\">4.4&nbsp;&nbsp;</span>Прибыль и риски для каждого региона</a></span></li><li><span><a href=\"#Вывод:\" data-toc-modified-id=\"Вывод:-4.5\"><span class=\"toc-item-num\">4.5&nbsp;&nbsp;</span>Вывод:</a></span></li></ul></li><li><span><a href=\"#Чек-лист-готовности-проекта\" data-toc-modified-id=\"Чек-лист-готовности-проекта-5\"><span class=\"toc-item-num\">5&nbsp;&nbsp;</span>Чек-лист готовности проекта</a></span></li></ul></div>"
   ]
  },
  {
   "cell_type": "markdown",
   "metadata": {},
   "source": [
    "<img src=https://avatars.mds.yandex.net/get-zen_doc/1895332/pub_5fa666c447a34812ce551f48_5fa6807d8eb5b23a30526a90/scale_1200><br>"
   ]
  },
  {
   "cell_type": "markdown",
   "metadata": {},
   "source": [
    "# Выбор локации для нефтяной скважины"
   ]
  },
  {
   "cell_type": "markdown",
   "metadata": {},
   "source": [
    "**Цель и задачи проекта**\n",
    "\n",
    "*Цель проекта:*\n",
    "- Построить модель машинного обучения для определения региона, где добыча принесёт наибольшую прибыль. \n",
    "\n",
    "*Для достижения цели проекта следует выполнить следующие задачи:*\n",
    "1. Провести первичный анализ и подготовку входных данных;\n",
    "2. Обучить и проверить модель для каждого региона;\n",
    "3. Подготовить значения для рассчета прибыли;\n",
    "4. Рассчитать прибыль по выбранным скважинам и предсказаниям модели;\n",
    "5. Рассчитать риски и прибыль для каждого региона.\n",
    "\n",
    "*Условия задачи:*\n",
    "- Для обучения модели подходит только линейная регрессия (остальные — недостаточно предсказуемые).\n",
    "- При разведке региона исследуют 500 точек, из которых с помощью машинного обучения выбирают 200 лучших для разработки.\n",
    "- Бюджет на разработку скважин в регионе — 10 млрд рублей.\n",
    "- При нынешних ценах один баррель сырья приносит 450 рублей дохода. Доход с каждой единицы продукта составляет 450 тыс. рублей, поскольку объём указан в тысячах баррелей.\n",
    "- После оценки рисков нужно оставить лишь те регионы, в которых вероятность убытков меньше 2.5%. Среди них выбирают регион с наибольшей средней прибылью.\n",
    "\n",
    "*Шаги для выбора локации:*\n",
    "\n",
    "- В избранном регионе ищут месторождения, для каждого определяют значения признаков;\n",
    "- Строят модель и оценивают объём запасов;\n",
    "- Выбирают месторождения с самым высокими оценками значений. Количество месторождений зависит от бюджета компании и стоимости разработки одной скважины;\n",
    "- Прибыль равна суммарной прибыли отобранных месторождений."
   ]
  },
  {
   "cell_type": "markdown",
   "metadata": {},
   "source": [
    "**Описание входных данных**\n",
    "\n",
    "Предоставлены пробы нефти в трёх регионах: в каждом 10 000 месторождений, где измерили качество нефти и объём её запасов\n",
    "\n",
    "Данные геологоразведки трёх регионов:\n",
    "\n",
    "- id — уникальный идентификатор скважины;\n",
    "- f0, f1, f2 — три признака точек;\n",
    "- product — объём запасов в скважине (тыс. баррелей)."
   ]
  },
  {
   "cell_type": "markdown",
   "metadata": {},
   "source": [
    "## Загрузка и подготовка данных"
   ]
  },
  {
   "cell_type": "markdown",
   "metadata": {},
   "source": [
    "### Импорт данных и первичное ознакомление"
   ]
  },
  {
   "cell_type": "code",
   "execution_count": 1,
   "metadata": {},
   "outputs": [],
   "source": [
    "# Импорт библиотек\n",
    "import pandas as pd\n",
    "import numpy as np\n",
    "import matplotlib as plt\n",
    "import seaborn as sns\n",
    "\n",
    "from sklearn.model_selection import train_test_split\n",
    "from sklearn.linear_model import LinearRegression\n",
    "from sklearn.metrics import mean_squared_error\n",
    "from sklearn.preprocessing import StandardScaler\n",
    "\n",
    "\n",
    "from IPython.display import display\n",
    "pd.options.display.max_columns = None\n",
    "from numpy.random import RandomState\n",
    "from scipy import stats as st\n",
    "from scipy.stats import normaltest\n",
    "import matplotlib.pyplot as plt "
   ]
  },
  {
   "cell_type": "code",
   "execution_count": 2,
   "metadata": {},
   "outputs": [
    {
     "data": {
      "text/html": [
       "<div>\n",
       "<style scoped>\n",
       "    .dataframe tbody tr th:only-of-type {\n",
       "        vertical-align: middle;\n",
       "    }\n",
       "\n",
       "    .dataframe tbody tr th {\n",
       "        vertical-align: top;\n",
       "    }\n",
       "\n",
       "    .dataframe thead th {\n",
       "        text-align: right;\n",
       "    }\n",
       "</style>\n",
       "<table border=\"1\" class=\"dataframe\">\n",
       "  <thead>\n",
       "    <tr style=\"text-align: right;\">\n",
       "      <th></th>\n",
       "      <th>id</th>\n",
       "      <th>f0</th>\n",
       "      <th>f1</th>\n",
       "      <th>f2</th>\n",
       "      <th>product</th>\n",
       "    </tr>\n",
       "  </thead>\n",
       "  <tbody>\n",
       "    <tr>\n",
       "      <td>0</td>\n",
       "      <td>txEyH</td>\n",
       "      <td>0.705745</td>\n",
       "      <td>-0.497823</td>\n",
       "      <td>1.221170</td>\n",
       "      <td>105.280062</td>\n",
       "    </tr>\n",
       "    <tr>\n",
       "      <td>1</td>\n",
       "      <td>2acmU</td>\n",
       "      <td>1.334711</td>\n",
       "      <td>-0.340164</td>\n",
       "      <td>4.365080</td>\n",
       "      <td>73.037750</td>\n",
       "    </tr>\n",
       "    <tr>\n",
       "      <td>2</td>\n",
       "      <td>409Wp</td>\n",
       "      <td>1.022732</td>\n",
       "      <td>0.151990</td>\n",
       "      <td>1.419926</td>\n",
       "      <td>85.265647</td>\n",
       "    </tr>\n",
       "    <tr>\n",
       "      <td>3</td>\n",
       "      <td>iJLyR</td>\n",
       "      <td>-0.032172</td>\n",
       "      <td>0.139033</td>\n",
       "      <td>2.978566</td>\n",
       "      <td>168.620776</td>\n",
       "    </tr>\n",
       "    <tr>\n",
       "      <td>4</td>\n",
       "      <td>Xdl7t</td>\n",
       "      <td>1.988431</td>\n",
       "      <td>0.155413</td>\n",
       "      <td>4.751769</td>\n",
       "      <td>154.036647</td>\n",
       "    </tr>\n",
       "  </tbody>\n",
       "</table>\n",
       "</div>"
      ],
      "text/plain": [
       "      id        f0        f1        f2     product\n",
       "0  txEyH  0.705745 -0.497823  1.221170  105.280062\n",
       "1  2acmU  1.334711 -0.340164  4.365080   73.037750\n",
       "2  409Wp  1.022732  0.151990  1.419926   85.265647\n",
       "3  iJLyR -0.032172  0.139033  2.978566  168.620776\n",
       "4  Xdl7t  1.988431  0.155413  4.751769  154.036647"
      ]
     },
     "metadata": {},
     "output_type": "display_data"
    },
    {
     "name": "stdout",
     "output_type": "stream",
     "text": [
      "<class 'pandas.core.frame.DataFrame'>\n",
      "RangeIndex: 100000 entries, 0 to 99999\n",
      "Data columns (total 5 columns):\n",
      "id         100000 non-null object\n",
      "f0         100000 non-null float64\n",
      "f1         100000 non-null float64\n",
      "f2         100000 non-null float64\n",
      "product    100000 non-null float64\n",
      "dtypes: float64(4), object(1)\n",
      "memory usage: 3.8+ MB\n",
      "None\n"
     ]
    },
    {
     "data": {
      "text/html": [
       "<div>\n",
       "<style scoped>\n",
       "    .dataframe tbody tr th:only-of-type {\n",
       "        vertical-align: middle;\n",
       "    }\n",
       "\n",
       "    .dataframe tbody tr th {\n",
       "        vertical-align: top;\n",
       "    }\n",
       "\n",
       "    .dataframe thead th {\n",
       "        text-align: right;\n",
       "    }\n",
       "</style>\n",
       "<table border=\"1\" class=\"dataframe\">\n",
       "  <thead>\n",
       "    <tr style=\"text-align: right;\">\n",
       "      <th></th>\n",
       "      <th>id</th>\n",
       "      <th>f0</th>\n",
       "      <th>f1</th>\n",
       "      <th>f2</th>\n",
       "      <th>product</th>\n",
       "    </tr>\n",
       "  </thead>\n",
       "  <tbody>\n",
       "    <tr>\n",
       "      <td>0</td>\n",
       "      <td>kBEdx</td>\n",
       "      <td>-15.001348</td>\n",
       "      <td>-8.276000</td>\n",
       "      <td>-0.005876</td>\n",
       "      <td>3.179103</td>\n",
       "    </tr>\n",
       "    <tr>\n",
       "      <td>1</td>\n",
       "      <td>62mP7</td>\n",
       "      <td>14.272088</td>\n",
       "      <td>-3.475083</td>\n",
       "      <td>0.999183</td>\n",
       "      <td>26.953261</td>\n",
       "    </tr>\n",
       "    <tr>\n",
       "      <td>2</td>\n",
       "      <td>vyE1P</td>\n",
       "      <td>6.263187</td>\n",
       "      <td>-5.948386</td>\n",
       "      <td>5.001160</td>\n",
       "      <td>134.766305</td>\n",
       "    </tr>\n",
       "    <tr>\n",
       "      <td>3</td>\n",
       "      <td>KcrkZ</td>\n",
       "      <td>-13.081196</td>\n",
       "      <td>-11.506057</td>\n",
       "      <td>4.999415</td>\n",
       "      <td>137.945408</td>\n",
       "    </tr>\n",
       "    <tr>\n",
       "      <td>4</td>\n",
       "      <td>AHL4O</td>\n",
       "      <td>12.702195</td>\n",
       "      <td>-8.147433</td>\n",
       "      <td>5.004363</td>\n",
       "      <td>134.766305</td>\n",
       "    </tr>\n",
       "  </tbody>\n",
       "</table>\n",
       "</div>"
      ],
      "text/plain": [
       "      id         f0         f1        f2     product\n",
       "0  kBEdx -15.001348  -8.276000 -0.005876    3.179103\n",
       "1  62mP7  14.272088  -3.475083  0.999183   26.953261\n",
       "2  vyE1P   6.263187  -5.948386  5.001160  134.766305\n",
       "3  KcrkZ -13.081196 -11.506057  4.999415  137.945408\n",
       "4  AHL4O  12.702195  -8.147433  5.004363  134.766305"
      ]
     },
     "metadata": {},
     "output_type": "display_data"
    },
    {
     "name": "stdout",
     "output_type": "stream",
     "text": [
      "<class 'pandas.core.frame.DataFrame'>\n",
      "RangeIndex: 100000 entries, 0 to 99999\n",
      "Data columns (total 5 columns):\n",
      "id         100000 non-null object\n",
      "f0         100000 non-null float64\n",
      "f1         100000 non-null float64\n",
      "f2         100000 non-null float64\n",
      "product    100000 non-null float64\n",
      "dtypes: float64(4), object(1)\n",
      "memory usage: 3.8+ MB\n",
      "None\n"
     ]
    },
    {
     "data": {
      "text/html": [
       "<div>\n",
       "<style scoped>\n",
       "    .dataframe tbody tr th:only-of-type {\n",
       "        vertical-align: middle;\n",
       "    }\n",
       "\n",
       "    .dataframe tbody tr th {\n",
       "        vertical-align: top;\n",
       "    }\n",
       "\n",
       "    .dataframe thead th {\n",
       "        text-align: right;\n",
       "    }\n",
       "</style>\n",
       "<table border=\"1\" class=\"dataframe\">\n",
       "  <thead>\n",
       "    <tr style=\"text-align: right;\">\n",
       "      <th></th>\n",
       "      <th>id</th>\n",
       "      <th>f0</th>\n",
       "      <th>f1</th>\n",
       "      <th>f2</th>\n",
       "      <th>product</th>\n",
       "    </tr>\n",
       "  </thead>\n",
       "  <tbody>\n",
       "    <tr>\n",
       "      <td>0</td>\n",
       "      <td>fwXo0</td>\n",
       "      <td>-1.146987</td>\n",
       "      <td>0.963328</td>\n",
       "      <td>-0.828965</td>\n",
       "      <td>27.758673</td>\n",
       "    </tr>\n",
       "    <tr>\n",
       "      <td>1</td>\n",
       "      <td>WJtFt</td>\n",
       "      <td>0.262778</td>\n",
       "      <td>0.269839</td>\n",
       "      <td>-2.530187</td>\n",
       "      <td>56.069697</td>\n",
       "    </tr>\n",
       "    <tr>\n",
       "      <td>2</td>\n",
       "      <td>ovLUW</td>\n",
       "      <td>0.194587</td>\n",
       "      <td>0.289035</td>\n",
       "      <td>-5.586433</td>\n",
       "      <td>62.871910</td>\n",
       "    </tr>\n",
       "    <tr>\n",
       "      <td>3</td>\n",
       "      <td>q6cA6</td>\n",
       "      <td>2.236060</td>\n",
       "      <td>-0.553760</td>\n",
       "      <td>0.930038</td>\n",
       "      <td>114.572842</td>\n",
       "    </tr>\n",
       "    <tr>\n",
       "      <td>4</td>\n",
       "      <td>WPMUX</td>\n",
       "      <td>-0.515993</td>\n",
       "      <td>1.716266</td>\n",
       "      <td>5.899011</td>\n",
       "      <td>149.600746</td>\n",
       "    </tr>\n",
       "  </tbody>\n",
       "</table>\n",
       "</div>"
      ],
      "text/plain": [
       "      id        f0        f1        f2     product\n",
       "0  fwXo0 -1.146987  0.963328 -0.828965   27.758673\n",
       "1  WJtFt  0.262778  0.269839 -2.530187   56.069697\n",
       "2  ovLUW  0.194587  0.289035 -5.586433   62.871910\n",
       "3  q6cA6  2.236060 -0.553760  0.930038  114.572842\n",
       "4  WPMUX -0.515993  1.716266  5.899011  149.600746"
      ]
     },
     "metadata": {},
     "output_type": "display_data"
    },
    {
     "name": "stdout",
     "output_type": "stream",
     "text": [
      "<class 'pandas.core.frame.DataFrame'>\n",
      "RangeIndex: 100000 entries, 0 to 99999\n",
      "Data columns (total 5 columns):\n",
      "id         100000 non-null object\n",
      "f0         100000 non-null float64\n",
      "f1         100000 non-null float64\n",
      "f2         100000 non-null float64\n",
      "product    100000 non-null float64\n",
      "dtypes: float64(4), object(1)\n",
      "memory usage: 3.8+ MB\n",
      "None\n"
     ]
    }
   ],
   "source": [
    "# Открытие данных\n",
    "df_geo_1 = pd.read_csv('/datasets/geo_data_0.csv')\n",
    "df_geo_2 = pd.read_csv('/datasets/geo_data_1.csv')\n",
    "df_geo_3 = pd.read_csv('/datasets/geo_data_2.csv')\n",
    "\n",
    "def opening(df):\n",
    "    display(df.head())\n",
    "    print(df.info())\n",
    "    \n",
    "opening(df_geo_1)\n",
    "opening(df_geo_2)\n",
    "opening(df_geo_3)"
   ]
  },
  {
   "cell_type": "markdown",
   "metadata": {},
   "source": [
    "#### Вывод:\n",
    "- Входные данные не содержат пропусков.\n",
    "- Тип данных определен корректно."
   ]
  },
  {
   "cell_type": "markdown",
   "metadata": {},
   "source": [
    "### Исследование распределения целевого признака\n"
   ]
  },
  {
   "cell_type": "code",
   "execution_count": 3,
   "metadata": {},
   "outputs": [],
   "source": [
    "# Проверка нормальности распределения целевого признака\n",
    "# Напишем функцию для проведения теста: D'Agostino's K-squared test\n",
    "# H0 - целевой признак имеет нормлальное распределение\n",
    "def d_agostino_test(data):\n",
    "    stat, p = normaltest(data)\n",
    "    print('Statistics=%.3f, p=%.3f' % (stat, p))\n",
    "\n",
    "    alpha = 0.05\n",
    "    if p > alpha:\n",
    "        print('Принять гипотезу о нормальности распределения целевого признака')\n",
    "    else:\n",
    "        print('Отклонить гипотезу о нормальности распределения целевого признака')"
   ]
  },
  {
   "cell_type": "code",
   "execution_count": 4,
   "metadata": {},
   "outputs": [],
   "source": [
    "# Графический анализ распределения целевого признака\n",
    "# Напишем функцию для построения гистограммы и графика плотности распределения значений целевого признака\n",
    "def distplot_target(data):\n",
    "    sns.distplot(data)\n",
    "    plt.suptitle('Гистограмма и график плотности распределения значений целевого признака')\n",
    "    plt.xlabel('Product volume') \n",
    "    plt.ylabel('Density')\n",
    "    plt.show()"
   ]
  },
  {
   "cell_type": "code",
   "execution_count": 5,
   "metadata": {},
   "outputs": [
    {
     "name": "stdout",
     "output_type": "stream",
     "text": [
      "Исследование распределения целевого признака - Region 1\n",
      "\n",
      "Statistics=17817.838, p=0.000\n",
      "Отклонить гипотезу о нормальности распределения целевого признака\n"
     ]
    },
    {
     "data": {
      "image/png": "[encoded data removed]",
      "text/plain": [
       "<Figure size 432x288 with 1 Axes>"
      ]
     },
     "metadata": {
      "needs_background": "light"
     },
     "output_type": "display_data"
    },
    {
     "name": "stdout",
     "output_type": "stream",
     "text": [
      " Исследование распределения целевого признака - Region 2\n",
      "\n",
      "Statistics=174719.819, p=0.000\n",
      "Отклонить гипотезу о нормальности распределения целевого признака\n"
     ]
    },
    {
     "data": {
      "image/png": "[encoded data removed]",
      "text/plain": [
       "<Figure size 432x288 with 1 Axes>"
      ]
     },
     "metadata": {
      "needs_background": "light"
     },
     "output_type": "display_data"
    },
    {
     "name": "stdout",
     "output_type": "stream",
     "text": [
      "Исследование распределения целевого признака - Region 3\n",
      "\n",
      "Statistics=12384.319, p=0.000\n",
      "Отклонить гипотезу о нормальности распределения целевого признака\n"
     ]
    },
    {
     "data": {
      "image/png": "[encoded data removed]",
      "text/plain": [
       "<Figure size 432x288 with 1 Axes>"
      ]
     },
     "metadata": {
      "needs_background": "light"
     },
     "output_type": "display_data"
    }
   ],
   "source": [
    "# Напишем цикл для проведения D'Agostino's K-squared test и построения гистограммы и графика плотности по каждому региону \n",
    "# Подготовим списки для упрощения цикла\n",
    "\n",
    "df_name = (['Исследование распределения целевого признака - Region 1', \n",
    "            ' Исследование распределения целевого признака - Region 2', \n",
    "            'Исследование распределения целевого признака - Region 3'])\n",
    "df_list = [df_geo_1['product'], df_geo_2['product'], df_geo_3['product']]\n",
    "\n",
    "for region, name in zip(df_list, df_name):\n",
    "    print(name)\n",
    "    print()\n",
    "    d_agostino_test(region)\n",
    "    distplot_target(region)"
   ]
  },
  {
   "cell_type": "markdown",
   "metadata": {},
   "source": [
    "#### Вывод:\n",
    "- В результате исследования распределений целевого признака гипотеза о нормальности распределения была отклонена.\n",
    "- Графический анализ также подтверждает, что значения целевого признака не имеют нормального распределения."
   ]
  },
  {
   "cell_type": "markdown",
   "metadata": {},
   "source": [
    "### Анализ значений признаков"
   ]
  },
  {
   "cell_type": "code",
   "execution_count": 6,
   "metadata": {},
   "outputs": [],
   "source": [
    "def feature_boxplot(df):\n",
    "    for feature in ['f0', 'f1', 'f2']:\n",
    "        print(feature)\n",
    "        df.boxplot(column=feature, figsize=(5, 4))\n",
    "        plt.title('Диаграмма размаха признака')\n",
    "        plt.show()"
   ]
  },
  {
   "cell_type": "code",
   "execution_count": 7,
   "metadata": {},
   "outputs": [
    {
     "name": "stdout",
     "output_type": "stream",
     "text": [
      "Region 1\n",
      "f0\n"
     ]
    },
    {
     "data": {
      "image/png": "[encoded data removed]",
      "text/plain": [
       "<Figure size 360x288 with 1 Axes>"
      ]
     },
     "metadata": {
      "needs_background": "light"
     },
     "output_type": "display_data"
    },
    {
     "name": "stdout",
     "output_type": "stream",
     "text": [
      "f1\n"
     ]
    },
    {
     "data": {
      "image/png": "[encoded data removed]",
      "text/plain": [
       "<Figure size 360x288 with 1 Axes>"
      ]
     },
     "metadata": {
      "needs_background": "light"
     },
     "output_type": "display_data"
    },
    {
     "name": "stdout",
     "output_type": "stream",
     "text": [
      "f2\n"
     ]
    },
    {
     "data": {
      "image/png": "[encoded data removed]",
      "text/plain": [
       "<Figure size 360x288 with 1 Axes>"
      ]
     },
     "metadata": {
      "needs_background": "light"
     },
     "output_type": "display_data"
    },
    {
     "name": "stdout",
     "output_type": "stream",
     "text": [
      "Region 2\n",
      "f0\n"
     ]
    },
    {
     "data": {
      "image/png": "[encoded data removed]",
      "text/plain": [
       "<Figure size 360x288 with 1 Axes>"
      ]
     },
     "metadata": {
      "needs_background": "light"
     },
     "output_type": "display_data"
    },
    {
     "name": "stdout",
     "output_type": "stream",
     "text": [
      "f1\n"
     ]
    },
    {
     "data": {
      "image/png": "[encoded data removed]",
      "text/plain": [
       "<Figure size 360x288 with 1 Axes>"
      ]
     },
     "metadata": {
      "needs_background": "light"
     },
     "output_type": "display_data"
    },
    {
     "name": "stdout",
     "output_type": "stream",
     "text": [
      "f2\n"
     ]
    },
    {
     "data": {
      "image/png": "[encoded data removed]",
      "text/plain": [
       "<Figure size 360x288 with 1 Axes>"
      ]
     },
     "metadata": {
      "needs_background": "light"
     },
     "output_type": "display_data"
    },
    {
     "name": "stdout",
     "output_type": "stream",
     "text": [
      "Region 3\n",
      "f0\n"
     ]
    },
    {
     "data": {
      "image/png": "[encoded data removed]",
      "text/plain": [
       "<Figure size 360x288 with 1 Axes>"
      ]
     },
     "metadata": {
      "needs_background": "light"
     },
     "output_type": "display_data"
    },
    {
     "name": "stdout",
     "output_type": "stream",
     "text": [
      "f1\n"
     ]
    },
    {
     "data": {
      "image/png": "[encoded data removed]",
      "text/plain": [
       "<Figure size 360x288 with 1 Axes>"
      ]
     },
     "metadata": {
      "needs_background": "light"
     },
     "output_type": "display_data"
    },
    {
     "name": "stdout",
     "output_type": "stream",
     "text": [
      "f2\n"
     ]
    },
    {
     "data": {
      "image/png": "[encoded data removed]",
      "text/plain": [
       "<Figure size 360x288 with 1 Axes>"
      ]
     },
     "metadata": {
      "needs_background": "light"
     },
     "output_type": "display_data"
    }
   ],
   "source": [
    "print('Region 1')\n",
    "feature_boxplot(df_geo_1)\n",
    "print('Region 2')\n",
    "feature_boxplot(df_geo_2)\n",
    "print('Region 3')\n",
    "feature_boxplot(df_geo_3)"
   ]
  },
  {
   "cell_type": "code",
   "execution_count": 8,
   "metadata": {
    "scrolled": true
   },
   "outputs": [
    {
     "data": {
      "text/html": [
       "<div>\n",
       "<style scoped>\n",
       "    .dataframe tbody tr th:only-of-type {\n",
       "        vertical-align: middle;\n",
       "    }\n",
       "\n",
       "    .dataframe tbody tr th {\n",
       "        vertical-align: top;\n",
       "    }\n",
       "\n",
       "    .dataframe thead th {\n",
       "        text-align: right;\n",
       "    }\n",
       "</style>\n",
       "<table border=\"1\" class=\"dataframe\">\n",
       "  <thead>\n",
       "    <tr style=\"text-align: right;\">\n",
       "      <th></th>\n",
       "      <th>f0</th>\n",
       "      <th>f1</th>\n",
       "      <th>f2</th>\n",
       "    </tr>\n",
       "  </thead>\n",
       "  <tbody>\n",
       "    <tr>\n",
       "      <td>f0</td>\n",
       "      <td>1.000000</td>\n",
       "      <td>-0.440723</td>\n",
       "      <td>-0.003153</td>\n",
       "    </tr>\n",
       "    <tr>\n",
       "      <td>f1</td>\n",
       "      <td>-0.440723</td>\n",
       "      <td>1.000000</td>\n",
       "      <td>0.001724</td>\n",
       "    </tr>\n",
       "    <tr>\n",
       "      <td>f2</td>\n",
       "      <td>-0.003153</td>\n",
       "      <td>0.001724</td>\n",
       "      <td>1.000000</td>\n",
       "    </tr>\n",
       "  </tbody>\n",
       "</table>\n",
       "</div>"
      ],
      "text/plain": [
       "          f0        f1        f2\n",
       "f0  1.000000 -0.440723 -0.003153\n",
       "f1 -0.440723  1.000000  0.001724\n",
       "f2 -0.003153  0.001724  1.000000"
      ]
     },
     "metadata": {},
     "output_type": "display_data"
    },
    {
     "data": {
      "text/html": [
       "<div>\n",
       "<style scoped>\n",
       "    .dataframe tbody tr th:only-of-type {\n",
       "        vertical-align: middle;\n",
       "    }\n",
       "\n",
       "    .dataframe tbody tr th {\n",
       "        vertical-align: top;\n",
       "    }\n",
       "\n",
       "    .dataframe thead th {\n",
       "        text-align: right;\n",
       "    }\n",
       "</style>\n",
       "<table border=\"1\" class=\"dataframe\">\n",
       "  <thead>\n",
       "    <tr style=\"text-align: right;\">\n",
       "      <th></th>\n",
       "      <th>f0</th>\n",
       "      <th>f1</th>\n",
       "      <th>f2</th>\n",
       "    </tr>\n",
       "  </thead>\n",
       "  <tbody>\n",
       "    <tr>\n",
       "      <td>f0</td>\n",
       "      <td>1.000000</td>\n",
       "      <td>0.182287</td>\n",
       "      <td>-0.001777</td>\n",
       "    </tr>\n",
       "    <tr>\n",
       "      <td>f1</td>\n",
       "      <td>0.182287</td>\n",
       "      <td>1.000000</td>\n",
       "      <td>-0.002595</td>\n",
       "    </tr>\n",
       "    <tr>\n",
       "      <td>f2</td>\n",
       "      <td>-0.001777</td>\n",
       "      <td>-0.002595</td>\n",
       "      <td>1.000000</td>\n",
       "    </tr>\n",
       "  </tbody>\n",
       "</table>\n",
       "</div>"
      ],
      "text/plain": [
       "          f0        f1        f2\n",
       "f0  1.000000  0.182287 -0.001777\n",
       "f1  0.182287  1.000000 -0.002595\n",
       "f2 -0.001777 -0.002595  1.000000"
      ]
     },
     "metadata": {},
     "output_type": "display_data"
    },
    {
     "data": {
      "text/html": [
       "<div>\n",
       "<style scoped>\n",
       "    .dataframe tbody tr th:only-of-type {\n",
       "        vertical-align: middle;\n",
       "    }\n",
       "\n",
       "    .dataframe tbody tr th {\n",
       "        vertical-align: top;\n",
       "    }\n",
       "\n",
       "    .dataframe thead th {\n",
       "        text-align: right;\n",
       "    }\n",
       "</style>\n",
       "<table border=\"1\" class=\"dataframe\">\n",
       "  <thead>\n",
       "    <tr style=\"text-align: right;\">\n",
       "      <th></th>\n",
       "      <th>f0</th>\n",
       "      <th>f1</th>\n",
       "      <th>f2</th>\n",
       "    </tr>\n",
       "  </thead>\n",
       "  <tbody>\n",
       "    <tr>\n",
       "      <td>f0</td>\n",
       "      <td>1.000000</td>\n",
       "      <td>0.000528</td>\n",
       "      <td>-0.000448</td>\n",
       "    </tr>\n",
       "    <tr>\n",
       "      <td>f1</td>\n",
       "      <td>0.000528</td>\n",
       "      <td>1.000000</td>\n",
       "      <td>0.000779</td>\n",
       "    </tr>\n",
       "    <tr>\n",
       "      <td>f2</td>\n",
       "      <td>-0.000448</td>\n",
       "      <td>0.000779</td>\n",
       "      <td>1.000000</td>\n",
       "    </tr>\n",
       "  </tbody>\n",
       "</table>\n",
       "</div>"
      ],
      "text/plain": [
       "          f0        f1        f2\n",
       "f0  1.000000  0.000528 -0.000448\n",
       "f1  0.000528  1.000000  0.000779\n",
       "f2 -0.000448  0.000779  1.000000"
      ]
     },
     "metadata": {},
     "output_type": "display_data"
    }
   ],
   "source": [
    "# Рассчитаем коэффиценты корреляции для определения зависимости признаков\n",
    "def cor_counting(df):\n",
    "    df_cor = df.drop(['id', 'product'], axis=1)\n",
    "    display(df_cor.corr())\n",
    "\n",
    "cor_counting(df_geo_1)\n",
    "cor_counting(df_geo_2)\n",
    "cor_counting(df_geo_3)"
   ]
  },
  {
   "cell_type": "markdown",
   "metadata": {},
   "source": [
    "### Разбеение данных на обучающую и валидационную выборки"
   ]
  },
  {
   "cell_type": "code",
   "execution_count": 9,
   "metadata": {},
   "outputs": [],
   "source": [
    "# Разобьем данные на обучающую и валидационную выборки в соотношении 75:25\n",
    "# Выделим целевой признак\n",
    "features_1 = df_geo_1.drop(['id', 'product'], axis=1)\n",
    "target_1 = df_geo_1['product']\n",
    "\n",
    "features_2 = df_geo_2.drop(['id', 'product'], axis=1)\n",
    "target_2 = df_geo_2['product']\n",
    "\n",
    "features_3 = df_geo_3.drop(['id', 'product'], axis=1)\n",
    "target_3 = df_geo_3['product']"
   ]
  },
  {
   "cell_type": "markdown",
   "metadata": {},
   "source": [
    "### Стандартизация признаков"
   ]
  },
  {
   "cell_type": "code",
   "execution_count": 10,
   "metadata": {},
   "outputs": [
    {
     "data": {
      "text/html": [
       "<div>\n",
       "<style scoped>\n",
       "    .dataframe tbody tr th:only-of-type {\n",
       "        vertical-align: middle;\n",
       "    }\n",
       "\n",
       "    .dataframe tbody tr th {\n",
       "        vertical-align: top;\n",
       "    }\n",
       "\n",
       "    .dataframe thead th {\n",
       "        text-align: right;\n",
       "    }\n",
       "</style>\n",
       "<table border=\"1\" class=\"dataframe\">\n",
       "  <thead>\n",
       "    <tr style=\"text-align: right;\">\n",
       "      <th></th>\n",
       "      <th>f0</th>\n",
       "      <th>f1</th>\n",
       "      <th>f2</th>\n",
       "    </tr>\n",
       "  </thead>\n",
       "  <tbody>\n",
       "    <tr>\n",
       "      <td>0</td>\n",
       "      <td>0.235512</td>\n",
       "      <td>-1.482793</td>\n",
       "      <td>-0.394515</td>\n",
       "    </tr>\n",
       "    <tr>\n",
       "      <td>1</td>\n",
       "      <td>0.956946</td>\n",
       "      <td>-1.170246</td>\n",
       "      <td>0.573368</td>\n",
       "    </tr>\n",
       "    <tr>\n",
       "      <td>2</td>\n",
       "      <td>0.599101</td>\n",
       "      <td>-0.194581</td>\n",
       "      <td>-0.333326</td>\n",
       "    </tr>\n",
       "    <tr>\n",
       "      <td>3</td>\n",
       "      <td>-0.610890</td>\n",
       "      <td>-0.220269</td>\n",
       "      <td>0.146516</td>\n",
       "    </tr>\n",
       "    <tr>\n",
       "      <td>4</td>\n",
       "      <td>1.706773</td>\n",
       "      <td>-0.187797</td>\n",
       "      <td>0.692414</td>\n",
       "    </tr>\n",
       "  </tbody>\n",
       "</table>\n",
       "</div>"
      ],
      "text/plain": [
       "         f0        f1        f2\n",
       "0  0.235512 -1.482793 -0.394515\n",
       "1  0.956946 -1.170246  0.573368\n",
       "2  0.599101 -0.194581 -0.333326\n",
       "3 -0.610890 -0.220269  0.146516\n",
       "4  1.706773 -0.187797  0.692414"
      ]
     },
     "metadata": {},
     "output_type": "display_data"
    },
    {
     "data": {
      "text/html": [
       "<div>\n",
       "<style scoped>\n",
       "    .dataframe tbody tr th:only-of-type {\n",
       "        vertical-align: middle;\n",
       "    }\n",
       "\n",
       "    .dataframe tbody tr th {\n",
       "        vertical-align: top;\n",
       "    }\n",
       "\n",
       "    .dataframe thead th {\n",
       "        text-align: right;\n",
       "    }\n",
       "</style>\n",
       "<table border=\"1\" class=\"dataframe\">\n",
       "  <thead>\n",
       "    <tr style=\"text-align: right;\">\n",
       "      <th></th>\n",
       "      <th>f0</th>\n",
       "      <th>f1</th>\n",
       "      <th>f2</th>\n",
       "    </tr>\n",
       "  </thead>\n",
       "  <tbody>\n",
       "    <tr>\n",
       "      <td>0</td>\n",
       "      <td>-1.800451</td>\n",
       "      <td>-0.679595</td>\n",
       "      <td>-1.467757</td>\n",
       "    </tr>\n",
       "    <tr>\n",
       "      <td>1</td>\n",
       "      <td>1.464528</td>\n",
       "      <td>0.258112</td>\n",
       "      <td>-0.877783</td>\n",
       "    </tr>\n",
       "    <tr>\n",
       "      <td>2</td>\n",
       "      <td>0.571264</td>\n",
       "      <td>-0.224969</td>\n",
       "      <td>1.471398</td>\n",
       "    </tr>\n",
       "    <tr>\n",
       "      <td>3</td>\n",
       "      <td>-1.586290</td>\n",
       "      <td>-1.310484</td>\n",
       "      <td>1.470373</td>\n",
       "    </tr>\n",
       "    <tr>\n",
       "      <td>4</td>\n",
       "      <td>1.289432</td>\n",
       "      <td>-0.654483</td>\n",
       "      <td>1.473278</td>\n",
       "    </tr>\n",
       "  </tbody>\n",
       "</table>\n",
       "</div>"
      ],
      "text/plain": [
       "         f0        f1        f2\n",
       "0 -1.800451 -0.679595 -1.467757\n",
       "1  1.464528  0.258112 -0.877783\n",
       "2  0.571264 -0.224969  1.471398\n",
       "3 -1.586290 -1.310484  1.470373\n",
       "4  1.289432 -0.654483  1.473278"
      ]
     },
     "metadata": {},
     "output_type": "display_data"
    },
    {
     "data": {
      "text/html": [
       "<div>\n",
       "<style scoped>\n",
       "    .dataframe tbody tr th:only-of-type {\n",
       "        vertical-align: middle;\n",
       "    }\n",
       "\n",
       "    .dataframe tbody tr th {\n",
       "        vertical-align: top;\n",
       "    }\n",
       "\n",
       "    .dataframe thead th {\n",
       "        text-align: right;\n",
       "    }\n",
       "</style>\n",
       "<table border=\"1\" class=\"dataframe\">\n",
       "  <thead>\n",
       "    <tr style=\"text-align: right;\">\n",
       "      <th></th>\n",
       "      <th>f0</th>\n",
       "      <th>f1</th>\n",
       "      <th>f2</th>\n",
       "    </tr>\n",
       "  </thead>\n",
       "  <tbody>\n",
       "    <tr>\n",
       "      <td>0</td>\n",
       "      <td>-0.663387</td>\n",
       "      <td>0.557908</td>\n",
       "      <td>-0.957007</td>\n",
       "    </tr>\n",
       "    <tr>\n",
       "      <td>1</td>\n",
       "      <td>0.150548</td>\n",
       "      <td>0.157142</td>\n",
       "      <td>-1.446788</td>\n",
       "    </tr>\n",
       "    <tr>\n",
       "      <td>2</td>\n",
       "      <td>0.111178</td>\n",
       "      <td>0.168235</td>\n",
       "      <td>-2.326682</td>\n",
       "    </tr>\n",
       "    <tr>\n",
       "      <td>3</td>\n",
       "      <td>1.289833</td>\n",
       "      <td>-0.318815</td>\n",
       "      <td>-0.450590</td>\n",
       "    </tr>\n",
       "    <tr>\n",
       "      <td>4</td>\n",
       "      <td>-0.299079</td>\n",
       "      <td>0.993029</td>\n",
       "      <td>0.979978</td>\n",
       "    </tr>\n",
       "  </tbody>\n",
       "</table>\n",
       "</div>"
      ],
      "text/plain": [
       "         f0        f1        f2\n",
       "0 -0.663387  0.557908 -0.957007\n",
       "1  0.150548  0.157142 -1.446788\n",
       "2  0.111178  0.168235 -2.326682\n",
       "3  1.289833 -0.318815 -0.450590\n",
       "4 -0.299079  0.993029  0.979978"
      ]
     },
     "metadata": {},
     "output_type": "display_data"
    }
   ],
   "source": [
    "# Проведем стандартизацию признаков для снижения эффекта от масштаба данных\n",
    "pd.options.mode.chained_assignment = None\n",
    "numeric = ['f0', 'f1', 'f2']\n",
    "\n",
    "scaler_1 = StandardScaler()\n",
    "scaler_1.fit(features_1[numeric])\n",
    "features_1[numeric] = scaler_1.transform(features_1[numeric])\n",
    "\n",
    "scaler_2 = StandardScaler()\n",
    "scaler_2.fit(features_2[numeric])\n",
    "features_2[numeric] = scaler_2.transform(features_2[numeric])\n",
    "\n",
    "scaler_3 = StandardScaler()\n",
    "scaler_3.fit(features_3[numeric])\n",
    "features_3[numeric] = scaler_3.transform(features_3[numeric])\n",
    "\n",
    "display(features_1.head())\n",
    "display(features_2.head())\n",
    "display(features_3.head())"
   ]
  },
  {
   "cell_type": "code",
   "execution_count": 11,
   "metadata": {},
   "outputs": [
    {
     "name": "stdout",
     "output_type": "stream",
     "text": [
      "(75000, 3)\n",
      "(25000, 3)\n",
      "(75000,)\n",
      "(25000,)\n",
      "(75000, 3)\n",
      "(25000, 3)\n",
      "(75000,)\n",
      "(25000,)\n",
      "(75000, 3)\n",
      "(25000, 3)\n",
      "(75000,)\n",
      "(25000,)\n"
     ]
    }
   ],
   "source": [
    "# Формирование обучающей и валидационной выборок по каждому региону\n",
    "features_train_1, features_valid_1, target_train_1, target_valid_1 = train_test_split(\n",
    "    features_1, \n",
    "    target_1, \n",
    "    test_size=0.25, \n",
    "    random_state=101)\n",
    "\n",
    "print(features_train_1.shape)\n",
    "print(features_valid_1.shape)\n",
    "print(target_train_1.shape)\n",
    "print(target_valid_1.shape)\n",
    "\n",
    "features_train_2, features_valid_2, target_train_2, target_valid_2 = train_test_split(\n",
    "    features_2, \n",
    "    target_2, \n",
    "    test_size=0.25, \n",
    "    random_state=101)\n",
    "\n",
    "print(features_train_2.shape)\n",
    "print(features_valid_2.shape)\n",
    "print(target_train_2.shape)\n",
    "print(target_valid_2.shape)\n",
    "\n",
    "features_train_3, features_valid_3, target_train_3, target_valid_3 = train_test_split(\n",
    "    features_3, \n",
    "    target_3, \n",
    "    test_size=0.25, \n",
    "    random_state=101)\n",
    "\n",
    "print(features_train_3.shape)\n",
    "print(features_valid_3.shape)\n",
    "print(target_train_3.shape)\n",
    "print(target_valid_3.shape)"
   ]
  },
  {
   "cell_type": "markdown",
   "metadata": {},
   "source": [
    "#### Вывод:\n",
    "- Существенные выбросы в признаках отсутствуют.\n",
    "- Проведена стандартизация признаков.\n",
    "- Мультиколлинеарность признаков отсутствует.\n",
    "- Данные разделены на обучающие и валидационные выборки."
   ]
  },
  {
   "cell_type": "markdown",
   "metadata": {},
   "source": [
    "## Обучение и проверка модели для каждого региона"
   ]
  },
  {
   "cell_type": "markdown",
   "metadata": {},
   "source": [
    "### Обучение модели и предсказание на валидационной выборке"
   ]
  },
  {
   "cell_type": "markdown",
   "metadata": {},
   "source": [
    "#### Обучение модели и предсказание запасов сырья в регионе 1"
   ]
  },
  {
   "cell_type": "code",
   "execution_count": 12,
   "metadata": {},
   "outputs": [
    {
     "name": "stdout",
     "output_type": "stream",
     "text": [
      "Средний запас предсказанного сырья = 92.5928581958182\n",
      "RMSE = 37.76023879156018\n"
     ]
    }
   ],
   "source": [
    "# Применим линейную регрессию для обучения модели \n",
    "\n",
    "## Обучение модели для региона 1\n",
    "model_1 = LinearRegression().fit(features_train_1, target_train_1)\n",
    "\n",
    "## Предсказание значений на валидационной выборке\n",
    "predictions_valid_1 = model_1.predict(features_valid_1)\n",
    "\n",
    "## Рассчет среднего запаса предсказанного сырья и RMSE\n",
    "mean_predicted_product_1 = predictions_valid_1.mean()\n",
    "rmse_1 = mean_squared_error(target_valid_1, predictions_valid_1)**0.5\n",
    "\n",
    "print('Средний запас предсказанного сырья =', mean_predicted_product_1)\n",
    "print('RMSE =', rmse_1)"
   ]
  },
  {
   "cell_type": "code",
   "execution_count": 13,
   "metadata": {},
   "outputs": [
    {
     "data": {
      "text/html": [
       "<div>\n",
       "<style scoped>\n",
       "    .dataframe tbody tr th:only-of-type {\n",
       "        vertical-align: middle;\n",
       "    }\n",
       "\n",
       "    .dataframe tbody tr th {\n",
       "        vertical-align: top;\n",
       "    }\n",
       "\n",
       "    .dataframe thead th {\n",
       "        text-align: right;\n",
       "    }\n",
       "</style>\n",
       "<table border=\"1\" class=\"dataframe\">\n",
       "  <thead>\n",
       "    <tr style=\"text-align: right;\">\n",
       "      <th></th>\n",
       "      <th>target</th>\n",
       "      <th>predictions</th>\n",
       "    </tr>\n",
       "  </thead>\n",
       "  <tbody>\n",
       "    <tr>\n",
       "      <td>56324</td>\n",
       "      <td>124.243048</td>\n",
       "      <td>103.092507</td>\n",
       "    </tr>\n",
       "    <tr>\n",
       "      <td>52881</td>\n",
       "      <td>183.708293</td>\n",
       "      <td>106.027763</td>\n",
       "    </tr>\n",
       "    <tr>\n",
       "      <td>60647</td>\n",
       "      <td>168.970600</td>\n",
       "      <td>139.204690</td>\n",
       "    </tr>\n",
       "    <tr>\n",
       "      <td>42046</td>\n",
       "      <td>63.554521</td>\n",
       "      <td>66.459098</td>\n",
       "    </tr>\n",
       "    <tr>\n",
       "      <td>9912</td>\n",
       "      <td>132.594708</td>\n",
       "      <td>88.430583</td>\n",
       "    </tr>\n",
       "  </tbody>\n",
       "</table>\n",
       "</div>"
      ],
      "text/plain": [
       "           target  predictions\n",
       "56324  124.243048   103.092507\n",
       "52881  183.708293   106.027763\n",
       "60647  168.970600   139.204690\n",
       "42046   63.554521    66.459098\n",
       "9912   132.594708    88.430583"
      ]
     },
     "metadata": {},
     "output_type": "display_data"
    }
   ],
   "source": [
    "# Сохраним корректные значения и результаты предсказания модели\n",
    "data_1 = {'target': target_valid_1,\n",
    "         'predictions': predictions_valid_1}\n",
    "df_1 = pd.DataFrame(data_1, columns=['target', 'predictions'])\n",
    "\n",
    "display(df_1.head())"
   ]
  },
  {
   "cell_type": "markdown",
   "metadata": {},
   "source": [
    "#### Обучение модели и предсказание запасов сырья в регионе 2"
   ]
  },
  {
   "cell_type": "code",
   "execution_count": 14,
   "metadata": {},
   "outputs": [
    {
     "name": "stdout",
     "output_type": "stream",
     "text": [
      "Средний запас предсказанного сырья = 68.60309883597067\n",
      "RMSE = 0.8908254316670086\n"
     ]
    }
   ],
   "source": [
    "# Применим линейную регрессию для обучения модели \n",
    "\n",
    "## Обучение модели для региона 2\n",
    "model_2 = LinearRegression().fit(features_train_2, target_train_2)\n",
    "\n",
    "## Предсказание значений на валидационной выборке\n",
    "predictions_valid_2 = model_2.predict(features_valid_2)\n",
    "\n",
    "## Рассчет среднего запаса предсказанного сырья и RMSE\n",
    "mean_predicted_product_2 = predictions_valid_2.mean()\n",
    "rmse_2 = mean_squared_error(target_valid_2, predictions_valid_2)**0.5\n",
    "\n",
    "print('Средний запас предсказанного сырья =', mean_predicted_product_2)\n",
    "print('RMSE =', rmse_2)"
   ]
  },
  {
   "cell_type": "code",
   "execution_count": 15,
   "metadata": {},
   "outputs": [
    {
     "data": {
      "text/html": [
       "<div>\n",
       "<style scoped>\n",
       "    .dataframe tbody tr th:only-of-type {\n",
       "        vertical-align: middle;\n",
       "    }\n",
       "\n",
       "    .dataframe tbody tr th {\n",
       "        vertical-align: top;\n",
       "    }\n",
       "\n",
       "    .dataframe thead th {\n",
       "        text-align: right;\n",
       "    }\n",
       "</style>\n",
       "<table border=\"1\" class=\"dataframe\">\n",
       "  <thead>\n",
       "    <tr style=\"text-align: right;\">\n",
       "      <th></th>\n",
       "      <th>target</th>\n",
       "      <th>predictions</th>\n",
       "    </tr>\n",
       "  </thead>\n",
       "  <tbody>\n",
       "    <tr>\n",
       "      <td>56324</td>\n",
       "      <td>53.906522</td>\n",
       "      <td>54.011531</td>\n",
       "    </tr>\n",
       "    <tr>\n",
       "      <td>52881</td>\n",
       "      <td>30.132364</td>\n",
       "      <td>29.134466</td>\n",
       "    </tr>\n",
       "    <tr>\n",
       "      <td>60647</td>\n",
       "      <td>84.038886</td>\n",
       "      <td>82.903530</td>\n",
       "    </tr>\n",
       "    <tr>\n",
       "      <td>42046</td>\n",
       "      <td>26.953261</td>\n",
       "      <td>27.523166</td>\n",
       "    </tr>\n",
       "    <tr>\n",
       "      <td>9912</td>\n",
       "      <td>30.132364</td>\n",
       "      <td>28.716469</td>\n",
       "    </tr>\n",
       "  </tbody>\n",
       "</table>\n",
       "</div>"
      ],
      "text/plain": [
       "          target  predictions\n",
       "56324  53.906522    54.011531\n",
       "52881  30.132364    29.134466\n",
       "60647  84.038886    82.903530\n",
       "42046  26.953261    27.523166\n",
       "9912   30.132364    28.716469"
      ]
     },
     "metadata": {},
     "output_type": "display_data"
    }
   ],
   "source": [
    "# Сохраним корректные значения и результаты предсказания модели\n",
    "data_2 = {'target': target_valid_2,\n",
    "         'predictions': predictions_valid_2}\n",
    "df_2 = pd.DataFrame(data_2, columns=['target', 'predictions'])\n",
    "\n",
    "display(df_2.head())"
   ]
  },
  {
   "cell_type": "markdown",
   "metadata": {},
   "source": [
    "#### Обучение модели и предсказание запасов сырья в регионе 3"
   ]
  },
  {
   "cell_type": "code",
   "execution_count": 16,
   "metadata": {},
   "outputs": [
    {
     "name": "stdout",
     "output_type": "stream",
     "text": [
      "Средний запас предсказанного сырья = 94.78885362076424\n",
      "RMSE = 40.24237823959256\n"
     ]
    }
   ],
   "source": [
    "# Применим линейную регрессию для обучения модели \n",
    "\n",
    "## Обучение модели для региона 3\n",
    "model_3 = LinearRegression().fit(features_train_3, target_train_3)\n",
    "\n",
    "## Предсказание значений на валидационной выборке\n",
    "predictions_valid_3 = model_3.predict(features_valid_3)\n",
    "\n",
    "## Рассчет среднего запаса предсказанного сырья и RMSE\n",
    "mean_predicted_product_3 = predictions_valid_3.mean()\n",
    "rmse_3 = mean_squared_error(target_valid_3, predictions_valid_3)**0.5\n",
    "\n",
    "print('Средний запас предсказанного сырья =', mean_predicted_product_3)\n",
    "print('RMSE =', rmse_3)"
   ]
  },
  {
   "cell_type": "code",
   "execution_count": 17,
   "metadata": {},
   "outputs": [
    {
     "data": {
      "text/html": [
       "<div>\n",
       "<style scoped>\n",
       "    .dataframe tbody tr th:only-of-type {\n",
       "        vertical-align: middle;\n",
       "    }\n",
       "\n",
       "    .dataframe tbody tr th {\n",
       "        vertical-align: top;\n",
       "    }\n",
       "\n",
       "    .dataframe thead th {\n",
       "        text-align: right;\n",
       "    }\n",
       "</style>\n",
       "<table border=\"1\" class=\"dataframe\">\n",
       "  <thead>\n",
       "    <tr style=\"text-align: right;\">\n",
       "      <th></th>\n",
       "      <th>target</th>\n",
       "      <th>predictions</th>\n",
       "    </tr>\n",
       "  </thead>\n",
       "  <tbody>\n",
       "    <tr>\n",
       "      <td>56324</td>\n",
       "      <td>72.050013</td>\n",
       "      <td>112.652133</td>\n",
       "    </tr>\n",
       "    <tr>\n",
       "      <td>52881</td>\n",
       "      <td>49.146916</td>\n",
       "      <td>104.296108</td>\n",
       "    </tr>\n",
       "    <tr>\n",
       "      <td>60647</td>\n",
       "      <td>101.671032</td>\n",
       "      <td>105.390524</td>\n",
       "    </tr>\n",
       "    <tr>\n",
       "      <td>42046</td>\n",
       "      <td>44.753768</td>\n",
       "      <td>64.770342</td>\n",
       "    </tr>\n",
       "    <tr>\n",
       "      <td>9912</td>\n",
       "      <td>152.678059</td>\n",
       "      <td>103.189475</td>\n",
       "    </tr>\n",
       "  </tbody>\n",
       "</table>\n",
       "</div>"
      ],
      "text/plain": [
       "           target  predictions\n",
       "56324   72.050013   112.652133\n",
       "52881   49.146916   104.296108\n",
       "60647  101.671032   105.390524\n",
       "42046   44.753768    64.770342\n",
       "9912   152.678059   103.189475"
      ]
     },
     "metadata": {},
     "output_type": "display_data"
    }
   ],
   "source": [
    "# Сохраним корректные значения и результаты предсказания модели\n",
    "data_3 = {'target': target_valid_3,\n",
    "         'predictions': predictions_valid_3}\n",
    "df_3 = pd.DataFrame(data_3, columns=['target', 'predictions'])\n",
    "\n",
    "display(df_3.head())"
   ]
  },
  {
   "cell_type": "code",
   "execution_count": 18,
   "metadata": {},
   "outputs": [
    {
     "name": "stdout",
     "output_type": "stream",
     "text": [
      "Результаты обучения и предсказания моделий в каждом регионе\n"
     ]
    },
    {
     "data": {
      "text/html": [
       "<div>\n",
       "<style scoped>\n",
       "    .dataframe tbody tr th:only-of-type {\n",
       "        vertical-align: middle;\n",
       "    }\n",
       "\n",
       "    .dataframe tbody tr th {\n",
       "        vertical-align: top;\n",
       "    }\n",
       "\n",
       "    .dataframe thead th {\n",
       "        text-align: right;\n",
       "    }\n",
       "</style>\n",
       "<table border=\"1\" class=\"dataframe\">\n",
       "  <thead>\n",
       "    <tr style=\"text-align: right;\">\n",
       "      <th></th>\n",
       "      <th>region</th>\n",
       "      <th>mean predicted product, thousand barrels</th>\n",
       "      <th>RMSE</th>\n",
       "    </tr>\n",
       "  </thead>\n",
       "  <tbody>\n",
       "    <tr>\n",
       "      <td>0</td>\n",
       "      <td>Region 1</td>\n",
       "      <td>92.59</td>\n",
       "      <td>37.76</td>\n",
       "    </tr>\n",
       "    <tr>\n",
       "      <td>1</td>\n",
       "      <td>Region 2</td>\n",
       "      <td>68.60</td>\n",
       "      <td>0.89</td>\n",
       "    </tr>\n",
       "    <tr>\n",
       "      <td>2</td>\n",
       "      <td>Region 3</td>\n",
       "      <td>94.79</td>\n",
       "      <td>40.24</td>\n",
       "    </tr>\n",
       "  </tbody>\n",
       "</table>\n",
       "</div>"
      ],
      "text/plain": [
       "     region  mean predicted product, thousand barrels   RMSE\n",
       "0  Region 1                                     92.59  37.76\n",
       "1  Region 2                                     68.60   0.89\n",
       "2  Region 3                                     94.79  40.24"
      ]
     },
     "metadata": {},
     "output_type": "display_data"
    }
   ],
   "source": [
    "print('Результаты обучения и предсказания моделий в каждом регионе')\n",
    "\n",
    "df_results = pd.DataFrame([['Region 1', round(mean_predicted_product_1, 2), round(rmse_1, 2)],\n",
    "                         ['Region 2', round(mean_predicted_product_2, 2), round(rmse_2, 2)],\n",
    "                         ['Region 3', round(mean_predicted_product_3, 2), round(rmse_3, 2)]],\n",
    "                          columns=['region', 'mean predicted product, thousand barrels', 'RMSE'])\n",
    "display(df_results)"
   ]
  },
  {
   "cell_type": "markdown",
   "metadata": {},
   "source": [
    "#### Вывод:\n",
    "- Наибольший средний запас сырья предсказан для региона 3 и составдяет 94,79 тыс. баррелей. Однако среднеквадратичная ошибка также является наибольшей - RMSE = 40.24.\n",
    "- Наименьшая среднеквадратичная ошибка достигнута при обучении модели и предсказании значений на месторождении 2. RMSE составляет 0,89. При этом средний запас предсказанного сырья составляет 68,60 тыс. баррелей.\n",
    "- Для региона 1, также как и для региона 3, характерно высокое значение среднего запаса предсказанного сырья (92,59 тыс. баррелей) и RMSE (37,76)."
   ]
  },
  {
   "cell_type": "markdown",
   "metadata": {},
   "source": [
    "## Подготовка к расчёту прибыли"
   ]
  },
  {
   "cell_type": "markdown",
   "metadata": {},
   "source": [
    "### Определим ключевые значения для расчетов"
   ]
  },
  {
   "cell_type": "code",
   "execution_count": 19,
   "metadata": {},
   "outputs": [],
   "source": [
    "# Сохраним в отдельных переменных ключевые значения для расчётов\n",
    "## При разведке региона исследуют 500 точек, из которых с помощью машинного обучения выбирают 200 лучших для разработки\n",
    "number_research_fields = 500\n",
    "number_development_fields = 200\n",
    "\n",
    "## Бюджет на разработку скважин в регионе — 10 млрд рублей\n",
    "development_budget = 10 * 10 ** 9\n",
    "\n",
    "## Бюджет на разработку одной скважины\n",
    "development_one_field_budget = development_budget / number_development_fields\n",
    "\n",
    "## При нынешних ценах один баррель сырья приносит 450 рублей дохода\n",
    "## Доход с каждой единицы продукта составляет 450 тыс. рублей, поскольку объём указан в тысячах баррелей\n",
    "income_per_thousand_barrels = 450 * 1000"
   ]
  },
  {
   "cell_type": "markdown",
   "metadata": {},
   "source": [
    "### Определение достаточного объёма сырья для безубыточной разработки новой скважины"
   ]
  },
  {
   "cell_type": "code",
   "execution_count": 20,
   "metadata": {},
   "outputs": [
    {
     "name": "stdout",
     "output_type": "stream",
     "text": [
      "Достаточный объём сырья для безубыточной разработки новой скважины 111.11 тыс. баррелей\n"
     ]
    }
   ],
   "source": [
    "# Рассчитаем достаточный объём сырья для безубыточной разработки новой скважины\n",
    "## Определим какое количество сырья необходимо добыть и реализовать для покрытия расходов на разработку\n",
    "## Разделим сумму бюджета на доход от реализации 1000 баррелей\n",
    "breakeven_volume = round(development_one_field_budget / income_per_thousand_barrels, 2)\n",
    "print('Достаточный объём сырья для безубыточной разработки новой скважины', breakeven_volume, 'тыс. баррелей')"
   ]
  },
  {
   "cell_type": "code",
   "execution_count": 21,
   "metadata": {},
   "outputs": [
    {
     "data": {
      "text/html": [
       "<div>\n",
       "<style scoped>\n",
       "    .dataframe tbody tr th:only-of-type {\n",
       "        vertical-align: middle;\n",
       "    }\n",
       "\n",
       "    .dataframe tbody tr th {\n",
       "        vertical-align: top;\n",
       "    }\n",
       "\n",
       "    .dataframe thead th {\n",
       "        text-align: right;\n",
       "    }\n",
       "</style>\n",
       "<table border=\"1\" class=\"dataframe\">\n",
       "  <thead>\n",
       "    <tr style=\"text-align: right;\">\n",
       "      <th></th>\n",
       "      <th>region</th>\n",
       "      <th>mean predicted product, thousand barrels</th>\n",
       "      <th>RMSE</th>\n",
       "      <th>breakeven volume, thousand barrels</th>\n",
       "      <th>deficiency, %</th>\n",
       "    </tr>\n",
       "  </thead>\n",
       "  <tbody>\n",
       "    <tr>\n",
       "      <td>0</td>\n",
       "      <td>Region 1</td>\n",
       "      <td>92.59</td>\n",
       "      <td>37.76</td>\n",
       "      <td>111.11</td>\n",
       "      <td>20.00</td>\n",
       "    </tr>\n",
       "    <tr>\n",
       "      <td>1</td>\n",
       "      <td>Region 2</td>\n",
       "      <td>68.60</td>\n",
       "      <td>0.89</td>\n",
       "      <td>111.11</td>\n",
       "      <td>61.97</td>\n",
       "    </tr>\n",
       "    <tr>\n",
       "      <td>2</td>\n",
       "      <td>Region 3</td>\n",
       "      <td>94.79</td>\n",
       "      <td>40.24</td>\n",
       "      <td>111.11</td>\n",
       "      <td>17.22</td>\n",
       "    </tr>\n",
       "  </tbody>\n",
       "</table>\n",
       "</div>"
      ],
      "text/plain": [
       "     region  mean predicted product, thousand barrels   RMSE  \\\n",
       "0  Region 1                                     92.59  37.76   \n",
       "1  Region 2                                     68.60   0.89   \n",
       "2  Region 3                                     94.79  40.24   \n",
       "\n",
       "   breakeven volume, thousand barrels  deficiency, %  \n",
       "0                              111.11          20.00  \n",
       "1                              111.11          61.97  \n",
       "2                              111.11          17.22  "
      ]
     },
     "metadata": {},
     "output_type": "display_data"
    }
   ],
   "source": [
    "# Сопоставим средний объем предсказанных запасов с безубыточным объемом запасов\n",
    "df_results['breakeven volume, thousand barrels'] = [breakeven_volume, breakeven_volume, breakeven_volume]\n",
    "df_results['deficiency, %'] = round(1 - (df_results['breakeven volume, thousand barrels']) / \n",
    "                                 df_results['mean predicted product, thousand barrels'], 4) * (-100)\n",
    "display(df_results)"
   ]
  },
  {
   "cell_type": "markdown",
   "metadata": {},
   "source": [
    "### Вывод:\n",
    "- В результате данного этапа был определен достаточный объём сырья для безубыточной разработки новой скважины, который составляет 111.11 тыс. баррелей.\n",
    "- Средний объем запасов скважин по каждому региону ниже уровня безубыточности: по первому региону на 20%, по второму на 61.97% и 17.22% по третьему.\n",
    "- Для наиболее точной оценки доходов от месторождении было бы более целесообразно использовать прогноз денежных потоков от реализации нефти по годам (позитивный, негативный, нормальный), приведенных к текущей стоимости."
   ]
  },
  {
   "cell_type": "markdown",
   "metadata": {},
   "source": [
    "## Расчёт прибыли и рисков "
   ]
  },
  {
   "cell_type": "markdown",
   "metadata": {},
   "source": [
    "### Функция для расчета прибыли"
   ]
  },
  {
   "cell_type": "code",
   "execution_count": 22,
   "metadata": {},
   "outputs": [],
   "source": [
    "# Напишем функцию для расчета прибыли после применения техники Bootstrap\n",
    "def profit_per_field(target, probabilities, count):\n",
    "    probs_sorted = probabilities.sort_values(ascending=False)\n",
    "    selected = target[probs_sorted.index][:count]\n",
    "    return selected.sum() * income_per_thousand_barrels - development_budget"
   ]
  },
  {
   "cell_type": "markdown",
   "metadata": {},
   "source": [
    "### Функция для применения техники Bootstrap и рассчета рисков и прибыли"
   ]
  },
  {
   "cell_type": "code",
   "execution_count": 23,
   "metadata": {},
   "outputs": [],
   "source": [
    "state = np.random.RandomState(101)"
   ]
  },
  {
   "cell_type": "code",
   "execution_count": 24,
   "metadata": {},
   "outputs": [],
   "source": [
    "# напишем функцию для применения техники Bootstrap\n",
    "def bootstrap(target, predictions):\n",
    "    values = []\n",
    "    losses = 0\n",
    "    for i in range(1000):\n",
    "        target_subsample = target.sample(n=number_research_fields, replace=True, random_state=state)\n",
    "        probs_subsample = predictions[target_subsample.index]\n",
    "        profit = profit_per_field(target_subsample, probs_subsample, number_development_fields)\n",
    "        if profit < 0:\n",
    "            losses += 1\n",
    "        values.append(profit)\n",
    "    values = pd.Series(values)\n",
    "    # определим среднюю прибыль    \n",
    "    mean_profit = values.mean()\n",
    "    # определим 95%-й доверительный интервал\n",
    "    upper = values.quantile(0.975)\n",
    "    lower = values.quantile(0.025)\n",
    "    # определим риск убытков\n",
    "    losses_risk = losses / 1000\n",
    "    return mean_profit, losses_risk, upper, lower"
   ]
  },
  {
   "cell_type": "markdown",
   "metadata": {},
   "source": [
    "### Рассчет рисков и прибыли для каждого региона"
   ]
  },
  {
   "cell_type": "code",
   "execution_count": 25,
   "metadata": {},
   "outputs": [
    {
     "name": "stdout",
     "output_type": "stream",
     "text": [
      "Результаты расчета рисков и прибыли для региона 1\n"
     ]
    },
    {
     "data": {
      "text/html": [
       "<div>\n",
       "<style scoped>\n",
       "    .dataframe tbody tr th:only-of-type {\n",
       "        vertical-align: middle;\n",
       "    }\n",
       "\n",
       "    .dataframe tbody tr th {\n",
       "        vertical-align: top;\n",
       "    }\n",
       "\n",
       "    .dataframe thead th {\n",
       "        text-align: right;\n",
       "    }\n",
       "</style>\n",
       "<table border=\"1\" class=\"dataframe\">\n",
       "  <thead>\n",
       "    <tr style=\"text-align: right;\">\n",
       "      <th></th>\n",
       "      <th>region</th>\n",
       "      <th>mean profit, mln</th>\n",
       "      <th>risk of losses, %</th>\n",
       "      <th>upper CI, mln</th>\n",
       "      <th>lower CI, mln</th>\n",
       "    </tr>\n",
       "  </thead>\n",
       "  <tbody>\n",
       "    <tr>\n",
       "      <td>0</td>\n",
       "      <td>Region 1</td>\n",
       "      <td>447.62</td>\n",
       "      <td>5.8</td>\n",
       "      <td>973.79</td>\n",
       "      <td>-107.9</td>\n",
       "    </tr>\n",
       "  </tbody>\n",
       "</table>\n",
       "</div>"
      ],
      "text/plain": [
       "     region  mean profit, mln  risk of losses, %  upper CI, mln  lower CI, mln\n",
       "0  Region 1            447.62                5.8         973.79         -107.9"
      ]
     },
     "metadata": {},
     "output_type": "display_data"
    }
   ],
   "source": [
    "# Определим среднюю прибыль, 95%-й доверительный интервал и риск убытков для региона 1\n",
    "mean_profit_1, losses_risk_1, upper_1, lower_1 = bootstrap(df_1['target'], df_1['predictions'])\n",
    "\n",
    "df_results_1 = pd.DataFrame([['Region 1', round(mean_profit_1/1000000, 2), \n",
    "                              round(losses_risk_1*100, 2), \n",
    "                              round(upper_1/1000000, 2), \n",
    "                              round(lower_1/1000000, 2)]], \n",
    "                            columns=['region', 'mean profit, mln', 'risk of losses, %', 'upper CI, mln', 'lower CI, mln'])\n",
    "\n",
    "print('Результаты расчета рисков и прибыли для региона 1')\n",
    "display(df_results_1)"
   ]
  },
  {
   "cell_type": "code",
   "execution_count": 26,
   "metadata": {},
   "outputs": [
    {
     "name": "stdout",
     "output_type": "stream",
     "text": [
      "Результаты расчета рисков и прибыли для региона 2\n"
     ]
    },
    {
     "data": {
      "text/html": [
       "<div>\n",
       "<style scoped>\n",
       "    .dataframe tbody tr th:only-of-type {\n",
       "        vertical-align: middle;\n",
       "    }\n",
       "\n",
       "    .dataframe tbody tr th {\n",
       "        vertical-align: top;\n",
       "    }\n",
       "\n",
       "    .dataframe thead th {\n",
       "        text-align: right;\n",
       "    }\n",
       "</style>\n",
       "<table border=\"1\" class=\"dataframe\">\n",
       "  <thead>\n",
       "    <tr style=\"text-align: right;\">\n",
       "      <th></th>\n",
       "      <th>region</th>\n",
       "      <th>mean profit, mln</th>\n",
       "      <th>risk of losses, %</th>\n",
       "      <th>upper CI, mln</th>\n",
       "      <th>lower CI, mln</th>\n",
       "    </tr>\n",
       "  </thead>\n",
       "  <tbody>\n",
       "    <tr>\n",
       "      <td>0</td>\n",
       "      <td>Region 2</td>\n",
       "      <td>492.23</td>\n",
       "      <td>1.1</td>\n",
       "      <td>899.39</td>\n",
       "      <td>76.67</td>\n",
       "    </tr>\n",
       "  </tbody>\n",
       "</table>\n",
       "</div>"
      ],
      "text/plain": [
       "     region  mean profit, mln  risk of losses, %  upper CI, mln  lower CI, mln\n",
       "0  Region 2            492.23                1.1         899.39          76.67"
      ]
     },
     "metadata": {},
     "output_type": "display_data"
    }
   ],
   "source": [
    "# Определим среднюю прибыль, 95%-й доверительный интервал и риск убытков для региона 2\n",
    "mean_profit_2, losses_risk_2, upper_2, lower_2 = bootstrap(df_2['target'], df_2['predictions'])\n",
    "\n",
    "df_results_2 = pd.DataFrame([['Region 2', round(mean_profit_2/1000000, 2), \n",
    "                              round(losses_risk_2*100, 2), \n",
    "                              round(upper_2/1000000, 2), \n",
    "                              round(lower_2/1000000, 2)]], \n",
    "                            columns=['region', 'mean profit, mln', 'risk of losses, %', 'upper CI, mln', 'lower CI, mln'])\n",
    "\n",
    "print('Результаты расчета рисков и прибыли для региона 2')\n",
    "display(df_results_2)"
   ]
  },
  {
   "cell_type": "code",
   "execution_count": 27,
   "metadata": {},
   "outputs": [
    {
     "name": "stdout",
     "output_type": "stream",
     "text": [
      "Результаты расчета рисков и прибыли для региона 3\n"
     ]
    },
    {
     "data": {
      "text/html": [
       "<div>\n",
       "<style scoped>\n",
       "    .dataframe tbody tr th:only-of-type {\n",
       "        vertical-align: middle;\n",
       "    }\n",
       "\n",
       "    .dataframe tbody tr th {\n",
       "        vertical-align: top;\n",
       "    }\n",
       "\n",
       "    .dataframe thead th {\n",
       "        text-align: right;\n",
       "    }\n",
       "</style>\n",
       "<table border=\"1\" class=\"dataframe\">\n",
       "  <thead>\n",
       "    <tr style=\"text-align: right;\">\n",
       "      <th></th>\n",
       "      <th>region</th>\n",
       "      <th>mean profit, mln</th>\n",
       "      <th>risk of losses, %</th>\n",
       "      <th>upper CI, mln</th>\n",
       "      <th>lower CI, mln</th>\n",
       "    </tr>\n",
       "  </thead>\n",
       "  <tbody>\n",
       "    <tr>\n",
       "      <td>0</td>\n",
       "      <td>Region 3</td>\n",
       "      <td>412.05</td>\n",
       "      <td>7.4</td>\n",
       "      <td>908.63</td>\n",
       "      <td>-131.18</td>\n",
       "    </tr>\n",
       "  </tbody>\n",
       "</table>\n",
       "</div>"
      ],
      "text/plain": [
       "     region  mean profit, mln  risk of losses, %  upper CI, mln  lower CI, mln\n",
       "0  Region 3            412.05                7.4         908.63        -131.18"
      ]
     },
     "metadata": {},
     "output_type": "display_data"
    }
   ],
   "source": [
    "# Определим среднюю прибыль, 95%-й доверительный интервал и риск убытков для региона 3\n",
    "mean_profit_3, losses_risk_3, upper_3, lower_3 = bootstrap(df_3['target'], df_3['predictions'])\n",
    "\n",
    "df_results_3 = pd.DataFrame([['Region 3', round(mean_profit_3/1000000, 2), \n",
    "                              round(losses_risk_3*100, 2), \n",
    "                              round(upper_3/1000000, 2), \n",
    "                              round(lower_3/1000000, 2)]], \n",
    "                            columns=['region', 'mean profit, mln', 'risk of losses, %', 'upper CI, mln', 'lower CI, mln'])\n",
    "\n",
    "print('Результаты расчета рисков и прибыли для региона 3')\n",
    "display(df_results_3)"
   ]
  },
  {
   "cell_type": "markdown",
   "metadata": {},
   "source": [
    "### Прибыль и риски для каждого региона"
   ]
  },
  {
   "cell_type": "code",
   "execution_count": 28,
   "metadata": {},
   "outputs": [
    {
     "data": {
      "text/html": [
       "<div>\n",
       "<style scoped>\n",
       "    .dataframe tbody tr th:only-of-type {\n",
       "        vertical-align: middle;\n",
       "    }\n",
       "\n",
       "    .dataframe tbody tr th {\n",
       "        vertical-align: top;\n",
       "    }\n",
       "\n",
       "    .dataframe thead th {\n",
       "        text-align: right;\n",
       "    }\n",
       "</style>\n",
       "<table border=\"1\" class=\"dataframe\">\n",
       "  <thead>\n",
       "    <tr style=\"text-align: right;\">\n",
       "      <th></th>\n",
       "      <th>region</th>\n",
       "      <th>mean profit, mln</th>\n",
       "      <th>risk of losses, %</th>\n",
       "      <th>upper CI, mln</th>\n",
       "      <th>lower CI, mln</th>\n",
       "    </tr>\n",
       "  </thead>\n",
       "  <tbody>\n",
       "    <tr>\n",
       "      <td>0</td>\n",
       "      <td>Region 1</td>\n",
       "      <td>447.62</td>\n",
       "      <td>5.8</td>\n",
       "      <td>973.79</td>\n",
       "      <td>-107.90</td>\n",
       "    </tr>\n",
       "    <tr>\n",
       "      <td>1</td>\n",
       "      <td>Region 2</td>\n",
       "      <td>492.23</td>\n",
       "      <td>1.1</td>\n",
       "      <td>899.39</td>\n",
       "      <td>76.67</td>\n",
       "    </tr>\n",
       "    <tr>\n",
       "      <td>2</td>\n",
       "      <td>Region 3</td>\n",
       "      <td>412.05</td>\n",
       "      <td>7.4</td>\n",
       "      <td>908.63</td>\n",
       "      <td>-131.18</td>\n",
       "    </tr>\n",
       "  </tbody>\n",
       "</table>\n",
       "</div>"
      ],
      "text/plain": [
       "     region  mean profit, mln  risk of losses, %  upper CI, mln  lower CI, mln\n",
       "0  Region 1            447.62                5.8         973.79        -107.90\n",
       "1  Region 2            492.23                1.1         899.39          76.67\n",
       "2  Region 3            412.05                7.4         908.63        -131.18"
      ]
     },
     "metadata": {},
     "output_type": "display_data"
    }
   ],
   "source": [
    "df_general_results = df_results_1.append(df_results_2).append(df_results_3).reset_index(drop=True)\n",
    "\n",
    "display(df_general_results )"
   ]
  },
  {
   "cell_type": "markdown",
   "metadata": {},
   "source": [
    "### Вывод:\n",
    "\n",
    "Overall: наиболее привлекательным для инвестиций в разработку месторождений нефти является регион 2.\n",
    "\n",
    "- Анализ метрик позволяет предположить, что наиболее выгодным для разработки является регион 2, т.к. в результате применения техники Bootstrap от месторождений в данном регионе было получено максимальное значение прибыли (492.23) и минимальный риск (1.1%).\n",
    "- Наименее привлекательным является регион 3, т.к. значение средней прибыли в нем минимально, а значение риска убытков - максимально.\n",
    "- В регионе 1 риск убытка также высок - 5,8%, а уровень прибыли на среднем уровне (447.62)."
   ]
  }
 ],
 "metadata": {
  "kernelspec": {
   "display_name": "Python 3",
   "language": "python",
   "name": "python3"
  },
  "language_info": {
   "codemirror_mode": {
    "name": "ipython",
    "version": 3
   },
   "file_extension": ".py",
   "mimetype": "text/x-python",
   "name": "python",
   "nbconvert_exporter": "python",
   "pygments_lexer": "ipython3",
   "version": "3.7.8"
  },
  "toc": {
   "base_numbering": 1,
   "nav_menu": {},
   "number_sections": true,
   "sideBar": true,
   "skip_h1_title": true,
   "title_cell": "Содержание проекта: \"Выбор локации для нефтяной скважины\"",
   "title_sidebar": "Contents",
   "toc_cell": true,
   "toc_position": {
    "height": "calc(100% - 180px)",
    "left": "10px",
    "top": "150px",
    "width": "165px"
   },
   "toc_section_display": true,
   "toc_window_display": true
  }
 },
 "nbformat": 4,
 "nbformat_minor": 2
}
